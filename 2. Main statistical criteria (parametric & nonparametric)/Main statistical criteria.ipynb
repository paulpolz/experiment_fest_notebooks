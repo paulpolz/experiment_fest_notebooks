{
 "cells": [
  {
   "cell_type": "code",
   "execution_count": 2,
   "id": "2f950516-610f-4c1c-8123-15fa929e07e2",
   "metadata": {},
   "outputs": [],
   "source": [
    "import numpy as np\n",
    "import pandas as pd\n",
    "\n",
    "from scipy import stats\n",
    "import statsmodels.api as sm\n",
    "import statsmodels\n",
    "from statsmodels.stats import weightstats as stests\n",
    "\n",
    "import seaborn as sns\n",
    "import matplotlib.pyplot as plt"
   ]
  },
  {
   "cell_type": "markdown",
   "id": "83d5ea01-80e0-47b7-84d1-63aa7a9c298c",
   "metadata": {},
   "source": [
    "##### Нулевая гипотеза - когда нет разницы между группами\n",
    "##### Альтернативая гипотеза - когда группы различаются\n",
    "\n",
    "Задача проверки гипотезы - отвергнуть нулевую гипотезу, когда данные показывают разницу в метрике между выборками **на заданном уровне значимости**\n",
    "\n",
    "***Важно:***<br>\n",
    "Результатом проверки будет не факт приняли/отвергли, а <u>p-value</u> <br>\n",
    "Мы задаем уровень значимости, например, 95%. И при данном уровне значимости мы определяем вероятность ошибки первого рода $a$ (1-0.95 = 0.05)<br>\n",
    "Для отказа от нулевой гипотезы p-value должен быть меньше $a$\n",
    "\n",
    "##### p-value\n",
    "Вероятность совершить ошибку первого рода (допустить ложноположительное решение)"
   ]
  },
  {
   "cell_type": "markdown",
   "id": "7a80d854-f36c-4d63-be41-52f9610d0235",
   "metadata": {},
   "source": [
    "##### Ошибка первого рода ($а$-ошибка)\n",
    "> Ложноположительный результат \n",
    "\n",
    "*Ошибочно отвергли нулевую гипотезу ->\n",
    "Задетектировали эффект там, где его нет*\n",
    "\n",
    "##### Ошибка второго рода ($в$-ошибка)\n",
    "> Ложноотрицательный результат \n",
    "\n",
    "*Приняли неверную нулевую гипотезу ->\n",
    "Решили, что нет эффекта, хотя он есть*"
   ]
  },
  {
   "cell_type": "markdown",
   "id": "4dc94fb7-5ac9-4c46-8398-622f4a3e11c1",
   "metadata": {},
   "source": [
    "### Какие бывают статистические критерии?\n",
    "> Если для расчета критерия нужен расчет какой-то метрики (параметра), то критерий называется **параметрическим**\n",
    "\n",
    "> Если мы изменяем исходное распределение параметра, то используемый критнрий называется **непараметрическим**"
   ]
  },
  {
   "cell_type": "markdown",
   "id": "81d1f4a4-3144-44ed-919e-5787d1ef8856",
   "metadata": {},
   "source": [
    "### Параметрический критерий\n",
    "> Используется при условии, когда нам известен тип распределения"
   ]
  },
  {
   "cell_type": "markdown",
   "id": "62e9aa40-d1a1-4942-9682-0796cce2b39b",
   "metadata": {},
   "source": [
    "Чтобы сравнить две выборки, мы можем расчитать t-значение\n",
    "\n",
    "*Особенности:*\n",
    "- t-критерий чувствителен к выбросам\n",
    "- t-критерий можно применять к ненормальном распределенным величинам. Но главное, чтобы среднее выборок было нормально распредено"
   ]
  },
  {
   "cell_type": "markdown",
   "id": "335216b7-c52a-45ef-beb5-b1a366f58509",
   "metadata": {},
   "source": [
    "##### Создадим два случайных t-распределения метрик"
   ]
  },
  {
   "cell_type": "code",
   "execution_count": 46,
   "id": "12a7274a-f87d-4e86-a7bd-4f227e6bb40a",
   "metadata": {},
   "outputs": [
    {
     "data": {
      "image/png": "[encoded data removed]",
      "text/plain": [
       "<Figure size 402.375x360 with 1 Axes>"
      ]
     },
     "metadata": {
      "needs_background": "light"
     },
     "output_type": "display_data"
    }
   ],
   "source": [
    "x = np.random.standard_t(30, 100)\n",
    "y = np.random.standard_t(30, 100) + 1\n",
    "\n",
    "sns.displot([x,y]);"
   ]
  },
  {
   "cell_type": "markdown",
   "id": "f0e9d490-e317-41a6-9a2f-666f9430d506",
   "metadata": {},
   "source": [
    "##### Объявим входные данные"
   ]
  },
  {
   "cell_type": "code",
   "execution_count": 50,
   "id": "3217dcb6-e823-4802-9377-2106c6fe9b95",
   "metadata": {},
   "outputs": [],
   "source": [
    "# Средние\n",
    "mu_x = np.mean(x)\n",
    "mu_y = np.mean(y)\n",
    "\n",
    "# Дисперсии\n",
    "var_x = np.var(x, ddof=1)\n",
    "var_y = np.var(y, ddof=1)\n",
    "\n",
    "# Объемы выборок\n",
    "n_x = x.size\n",
    "n_y = y.size"
   ]
  },
  {
   "cell_type": "markdown",
   "id": "613c86f9-91e2-4dcc-a88d-d2c47fddd5bb",
   "metadata": {},
   "source": [
    "##### Ручной расчет по формуле"
   ]
  },
  {
   "cell_type": "code",
   "execution_count": 51,
   "id": "a3bd2067-d6d3-4ec2-89a2-ef3855d85668",
   "metadata": {},
   "outputs": [
    {
     "name": "stdout",
     "output_type": "stream",
     "text": [
      "t-stat: -10.320929470550977\n",
      "p-value: 2.943510307849066e-20\n"
     ]
    }
   ],
   "source": [
    "# разница средних двух выборок\n",
    "mu_ = mu_x - mu_y\n",
    "\n",
    "# дисперсия двух выборок\n",
    "se = np.sqrt(var_x / n_x + var_y / n_y)\n",
    "\n",
    "# t-критерий\n",
    "t_stat = mu_ / se\n",
    "\n",
    "# Степени свободы\n",
    "dof = n_x + n_y-2\n",
    "\n",
    "# p-value\n",
    "p_value = stats.t.sf(np.abs(t_stat), dof)*2\n",
    "\n",
    "print('t-stat:', t_stat)\n",
    "print('p-value:', p_value)"
   ]
  },
  {
   "cell_type": "markdown",
   "id": "bc46fa75-004e-4881-9d86-6f10c5d746a3",
   "metadata": {},
   "source": [
    "##### Два варианта пакетного решения"
   ]
  },
  {
   "cell_type": "code",
   "execution_count": 31,
   "id": "ce639add-e3c0-45fd-b103-d16de6d4410c",
   "metadata": {},
   "outputs": [
    {
     "data": {
      "text/plain": [
       "Ttest_indResult(statistic=-7.208739623945486, pvalue=1.1637973808297098e-11)"
      ]
     },
     "execution_count": 31,
     "metadata": {},
     "output_type": "execute_result"
    }
   ],
   "source": [
    "stats.ttest_ind(x, y, equal_var=True)"
   ]
  },
  {
   "cell_type": "code",
   "execution_count": 32,
   "id": "df5307c4-57b6-48db-a0f9-b3c0674ac80f",
   "metadata": {},
   "outputs": [
    {
     "data": {
      "text/plain": [
       "(-7.208739623945488, 1.1637973808296885e-11, 198.0)"
      ]
     },
     "execution_count": 32,
     "metadata": {},
     "output_type": "execute_result"
    }
   ],
   "source": [
    "sm.stats.ttest_ind(x, y, usevar=\"pooled\") "
   ]
  },
  {
   "cell_type": "markdown",
   "id": "76a76998-284a-4063-abf9-0159856dceef",
   "metadata": {},
   "source": [
    "##### Доверительный интервал для t теста"
   ]
  },
  {
   "cell_type": "code",
   "execution_count": 56,
   "id": "932e0ef3-ec55-4db3-976c-d10db25d7287",
   "metadata": {},
   "outputs": [
    {
     "data": {
      "text/plain": [
       "(-6.345242622344205, 6.227947910525835)"
      ]
     },
     "execution_count": 56,
     "metadata": {},
     "output_type": "execute_result"
    }
   ],
   "source": [
    "stats.t.interval(.05, n_x-1, mu_x, n_x) "
   ]
  },
  {
   "cell_type": "markdown",
   "id": "5ee798a5-c69d-459c-b0ca-f101a57ee011",
   "metadata": {},
   "source": [
    "#### В примере выше мы считали, что дисперсии в двух выборках равны\n",
    "На малых выборках правильнее использовать модификацию Уэлша о неравенстве дисперсий. В этом случае число степеней свободы сокращается. За счет этого p-value увеличивается и мы получаем более выверенные результаты"
   ]
  },
  {
   "cell_type": "code",
   "execution_count": 33,
   "id": "63a29134-3233-4d68-8c61-2e6fdebb4d82",
   "metadata": {},
   "outputs": [
    {
     "data": {
      "text/plain": [
       "Ttest_indResult(statistic=-7.208739623945486, pvalue=1.2292913923243362e-11)"
      ]
     },
     "execution_count": 33,
     "metadata": {},
     "output_type": "execute_result"
    }
   ],
   "source": [
    "stats.ttest_ind(x, y, equal_var=False)"
   ]
  },
  {
   "cell_type": "code",
   "execution_count": 34,
   "id": "f557ebd2-2c4e-4242-9954-05a9d477e1e4",
   "metadata": {},
   "outputs": [
    {
     "data": {
      "text/plain": [
       "(-7.208739623945488, 1.2292913923243143e-11, 193.89585000876255)"
      ]
     },
     "execution_count": 34,
     "metadata": {},
     "output_type": "execute_result"
    }
   ],
   "source": [
    "sm.stats.ttest_ind(x, y, usevar=\"unequal\") "
   ]
  },
  {
   "cell_type": "markdown",
   "id": "7d4990ca-698b-48ea-b374-8676a93094fa",
   "metadata": {},
   "source": [
    "#### t-критерий можно применять к ненормально распределенным величинам. Но главное, чтобы среднее выборок было нормально распредено"
   ]
  },
  {
   "cell_type": "markdown",
   "id": "5e50a87b-2e3e-4d8d-a3b4-fdf8472ce365",
   "metadata": {},
   "source": [
    "##### Пример для экспоненциального распределения\n",
    "Если брать случайные подвыборки и считать их среднее, то эти средние будут нормально распределены\n",
    "> Практичеки у любого популярного распределения выборочные средние будут нормально распределены"
   ]
  },
  {
   "cell_type": "code",
   "execution_count": 10,
   "id": "0a6ffced-db8c-43b5-a9fb-fce13ee8bd48",
   "metadata": {},
   "outputs": [
    {
     "data": {
      "image/png": "[encoded data removed]",
      "text/plain": [
       "<Figure size 360x360 with 1 Axes>"
      ]
     },
     "metadata": {
      "needs_background": "light"
     },
     "output_type": "display_data"
    },
    {
     "data": {
      "image/png": "[encoded data removed]",
      "text/plain": [
       "<Figure size 360x360 with 1 Axes>"
      ]
     },
     "metadata": {
      "needs_background": "light"
     },
     "output_type": "display_data"
    }
   ],
   "source": [
    "x = np.random.exponential(100, 1000)\n",
    "\n",
    "mx = []\n",
    "for i in range(100):\n",
    "    rand_x = np.random.choice(x, 100)\n",
    "    \n",
    "    mx.append(np.mean(rand_x))\n",
    "\n",
    "sns.displot(x);\n",
    "sns.displot(mx);"
   ]
  },
  {
   "cell_type": "markdown",
   "id": "0f9c0406-1479-4f3b-a594-55fd192ce823",
   "metadata": {},
   "source": [
    "### Критерии долей\n",
    "Критерии, которые работают с распределениями Бернулли. "
   ]
  },
  {
   "cell_type": "markdown",
   "id": "1de1e75a-9712-4e69-9406-2e71365849d0",
   "metadata": {},
   "source": [
    "#### Z-тест пропорций"
   ]
  },
  {
   "cell_type": "code",
   "execution_count": 59,
   "id": "e31887dd-fe73-4604-a028-4813e2dc5e70",
   "metadata": {},
   "outputs": [
    {
     "data": {
      "image/png": "[encoded data removed]",
      "text/plain": [
       "<Figure size 402.375x360 with 1 Axes>"
      ]
     },
     "metadata": {
      "needs_background": "light"
     },
     "output_type": "display_data"
    }
   ],
   "source": [
    "x = np.random.binomial(n=1, p=.0742, size=2100)\n",
    "y = np.random.binomial(n=1, p=.0614, size=2100)\n",
    "\n",
    "sns.displot([x,y]);"
   ]
  },
  {
   "cell_type": "markdown",
   "id": "9a579073-c0a3-4d71-9dae-a48e6d4719c0",
   "metadata": {},
   "source": [
    "##### Объявим входные данные"
   ]
  },
  {
   "cell_type": "code",
   "execution_count": 60,
   "id": "84c36acf-4b85-4783-8591-3db6ab0fad0d",
   "metadata": {},
   "outputs": [],
   "source": [
    "n_x = x.size\n",
    "n_y = y.size\n",
    "\n",
    "# Вероятности совершения события (конверсии)\n",
    "p_x = np.sum(x) / x.size\n",
    "p_y = np.sum(y) / y.size\n",
    "\n",
    "# Дисперсия для распределения Бернулли\n",
    "var_x = p_x*(1-p_x)\n",
    "var_y = p_y*(1-p_y)        "
   ]
  },
  {
   "cell_type": "markdown",
   "id": "3fc02c0c-5179-49ae-a80f-33a1a0c15e19",
   "metadata": {},
   "source": [
    "##### Ручной расчет по формуле"
   ]
  },
  {
   "cell_type": "code",
   "execution_count": 61,
   "id": "1de56d01-2777-498c-999e-7b2eb984af1a",
   "metadata": {},
   "outputs": [
    {
     "name": "stdout",
     "output_type": "stream",
     "text": [
      "z-stat: 1.495961652701609\n",
      "p_value: 0.13473881885246142\n"
     ]
    }
   ],
   "source": [
    "# Расчет z-статистики\n",
    "z_stat = (p_x - p_y) / np.sqrt(var_x/n_x + var_y/n_y)\n",
    "\n",
    "# Степени свободы\n",
    "dof = n_x + n_y-2\n",
    "\n",
    "# Расчет p-value\n",
    "p_value = stats.t.sf(np.abs(z_stat), dof)*2\n",
    "\n",
    "print('z-stat:', z_stat)\n",
    "print('p_value:', p_value)"
   ]
  },
  {
   "cell_type": "markdown",
   "id": "674a8441-96a0-42e2-9978-31bbac0f725e",
   "metadata": {},
   "source": [
    ">  Важно заметить, что формулы для t-критерия z-теста для проверки пропорции одинаковы - разица средних делится на разницы дисперсий"
   ]
  },
  {
   "cell_type": "markdown",
   "id": "567cd1e0-3579-4bdc-b09c-e1ed6fa707e6",
   "metadata": {},
   "source": [
    "##### Рассчитаем доверительный интервал для разницы долей\n",
    "Мы видим, что доверительный интервал пересекает ноль. Это означает, что нулевая разница между долями попадает в границы доверительного интервала. Поэтому мы не может принять гипотезу о разницы долей при текущем уровне $aplha$"
   ]
  },
  {
   "cell_type": "code",
   "execution_count": 62,
   "id": "5d371eaf-d4df-4b1f-9628-ee67b15ceaee",
   "metadata": {},
   "outputs": [
    {
     "data": {
      "text/plain": [
       "(-0.0036924992521133963, 0.027502023061637203)"
      ]
     },
     "execution_count": 62,
     "metadata": {},
     "output_type": "execute_result"
    }
   ],
   "source": [
    "alpha = .05\n",
    "z = stats.norm.ppf(1-alpha/2)\n",
    "\n",
    "left = p_x - p_y - z * np.sqrt(var_x/n_x + var_y/n_y)\n",
    "right = p_x - p_y + z * np.sqrt(var_x/n_x + var_y/n_y)\n",
    "\n",
    "left, right"
   ]
  },
  {
   "cell_type": "markdown",
   "id": "226d83e6-1e7e-46da-9707-3b9d8cee0c18",
   "metadata": {},
   "source": [
    "#### Вариант пакетного решения"
   ]
  },
  {
   "cell_type": "markdown",
   "id": "e0fa1813-f609-484d-9cc5-95390597e025",
   "metadata": {},
   "source": [
    "##### Расчет z теста"
   ]
  },
  {
   "cell_type": "code",
   "execution_count": 63,
   "id": "2acde834-0442-453c-b9c9-7453ef9ad824",
   "metadata": {},
   "outputs": [
    {
     "name": "stdout",
     "output_type": "stream",
     "text": [
      "z-stat: 1.4955632625587927\n",
      "p_value: 0.13476750263878146\n"
     ]
    }
   ],
   "source": [
    "z_stat, p_value = statsmodels.stats.proportion.proportions_ztest([np.sum(x), np.sum(y)], \n",
    "                                                                 [n_x, n_y]\n",
    "                                                                )\n",
    "print('z-stat:', z_stat)\n",
    "print('p_value:', p_value)"
   ]
  },
  {
   "cell_type": "markdown",
   "id": "52308990-3c2e-407c-8e80-d67422cf7fcc",
   "metadata": {},
   "source": [
    "##### Расчет доверительного интервала"
   ]
  },
  {
   "cell_type": "code",
   "execution_count": 64,
   "id": "81fc448b-6333-451b-925a-05a7262c946e",
   "metadata": {},
   "outputs": [
    {
     "data": {
      "text/plain": [
       "(-0.003729831406389158, 0.02759280356082872)"
      ]
     },
     "execution_count": 64,
     "metadata": {},
     "output_type": "execute_result"
    }
   ],
   "source": [
    "statsmodels.stats.proportion.confint_proportions_2indep(\n",
    "    count1 = np.sum(x),\n",
    "    nobs1 = n_x,\n",
    "    count2 = np.sum(y), \n",
    "    nobs2 = n_y\n",
    ")"
   ]
  },
  {
   "cell_type": "markdown",
   "id": "2f12321a-0f2f-4be2-9759-a359ff9514ab",
   "metadata": {},
   "source": [
    "> Если доверительный интервал для доли перекрывает ноль, то отвергнуть нулевую гипотезу об отсутствии разницы нельзя"
   ]
  },
  {
   "cell_type": "markdown",
   "id": "021f8117-db9b-402e-bb7e-57cbb1742d47",
   "metadata": {},
   "source": [
    "> p-value и доверительные интервалы - это две оценки, которые по своей эффективности равнозначны\n",
    "Можно использовать оба метода для проверки гипотез. Но p-value удобнее благодаря своей однозначности\n",
    "\n",
    "> Также метод метод оценки значимости с помощью p-value обладает большей мощностью. Иногда бывают ситуации, когда доверительные интервалы пересекаются, но по стат. критерию p-value оказывается ниже $alpha$, что отвергает нулевую гипотезу. Пример: https://statisticsbyjim.com/hypothesis-testing/confidence-intervals-compare-means/"
   ]
  },
  {
   "cell_type": "markdown",
   "id": "bfd31c0a-fe00-40ac-ac83-8adb15df6cb5",
   "metadata": {},
   "source": [
    "### Непараметрические (ранговые) критерии\n",
    "Используется для сравнения медиан распределения статистики двух независимых выборок в смысле линейного сдвига относительно центра симметрии\n",
    "\n",
    "- Когда распределение данных неизвестно\n",
    "    - Или когда распределение данных не описывается ни одним из стандартных распределений\n",
    "- Но важно, чтобы распределения были похожи\n",
    "- U-test не любит ранговые величины. Ранги возможны только если категорий очень много (а не 1/0)"
   ]
  },
  {
   "cell_type": "markdown",
   "id": "6e2ce975-f876-474c-a3f3-134fa8b76cc8",
   "metadata": {},
   "source": [
    "#### Возьмем два разных распределения с близкими друг к другу средними"
   ]
  },
  {
   "cell_type": "code",
   "execution_count": 161,
   "id": "4283bc1b-faba-4780-97be-640b845f40ce",
   "metadata": {},
   "outputs": [
    {
     "name": "stdout",
     "output_type": "stream",
     "text": [
      "Mean for binomial distribution: 7.998\n",
      "Mean for exponential distribution: 7.913011346739692\n"
     ]
    },
    {
     "data": {
      "image/png": "[encoded data removed]",
      "text/plain": [
       "<Figure size 360x360 with 1 Axes>"
      ]
     },
     "metadata": {
      "needs_background": "light"
     },
     "output_type": "display_data"
    },
    {
     "data": {
      "image/png": "[encoded data removed]",
      "text/plain": [
       "<Figure size 360x360 with 1 Axes>"
      ]
     },
     "metadata": {
      "needs_background": "light"
     },
     "output_type": "display_data"
    }
   ],
   "source": [
    "binom_distr = stats.binom.rvs(size = 1000, n=16, p=.5, random_state=17)\n",
    "exp_distr = stats.expon.rvs(size = 1000, scale = 8, random_state=17)\n",
    "\n",
    "print('Mean for binomial distribution:', binom_distr.mean())\n",
    "sns.displot(binom_distr);\n",
    "\n",
    "print('Mean for exponential distribution:', exp_distr.mean())\n",
    "sns.displot(exp_distr);"
   ]
  },
  {
   "cell_type": "markdown",
   "id": "2dd8743a-a1bf-4a6d-ac91-36d47a6fafab",
   "metadata": {},
   "source": [
    "#### Проверим гипотезу о разнице средних с помощью теста Манна-Уитни\n",
    "Тест Манна-Уитни показал разницу в выборках"
   ]
  },
  {
   "cell_type": "code",
   "execution_count": 162,
   "id": "223ad3ce-75a5-437a-bd46-707112949c44",
   "metadata": {},
   "outputs": [
    {
     "data": {
      "text/plain": [
       "WilcoxonResult(statistic=182285.0, pvalue=1.0098050114494714e-13)"
      ]
     },
     "execution_count": 162,
     "metadata": {},
     "output_type": "execute_result"
    }
   ],
   "source": [
    "stats.wilcoxon(binom_distr, exp_distr)"
   ]
  },
  {
   "cell_type": "markdown",
   "id": "109a7194-48cd-40bb-94b3-836761b311f6",
   "metadata": {},
   "source": [
    "#### Проверим гипотезу о разнице средних с помощью теста Стьюдента\n",
    "А тест Стьюдента не отверг гипотезу о равенстве средних"
   ]
  },
  {
   "cell_type": "code",
   "execution_count": 163,
   "id": "e4a79532-2f7e-4525-aa38-af5149da4bac",
   "metadata": {},
   "outputs": [
    {
     "data": {
      "text/plain": [
       "Ttest_indResult(statistic=0.33192168821075196, pvalue=0.7399832073803922)"
      ]
     },
     "execution_count": 163,
     "metadata": {},
     "output_type": "execute_result"
    }
   ],
   "source": [
    "stats.ttest_ind(binom_distr, exp_distr)"
   ]
  },
  {
   "cell_type": "markdown",
   "id": "5b1cc69d-0fab-4e7d-9fe6-c29206838ae9",
   "metadata": {},
   "source": [
    "##### Проверим как распределены выборочные средние у двух распределений"
   ]
  },
  {
   "cell_type": "code",
   "execution_count": 185,
   "id": "3d69af1f-e3c1-438b-89a3-d66c5debd991",
   "metadata": {},
   "outputs": [
    {
     "data": {
      "image/png": "[encoded data removed]",
      "text/plain": [
       "<Figure size 360x360 with 1 Axes>"
      ]
     },
     "metadata": {
      "needs_background": "light"
     },
     "output_type": "display_data"
    },
    {
     "data": {
      "image/png": "[encoded data removed]",
      "text/plain": [
       "<Figure size 360x360 with 1 Axes>"
      ]
     },
     "metadata": {
      "needs_background": "light"
     },
     "output_type": "display_data"
    }
   ],
   "source": [
    "list_of_binom_means = []\n",
    "list_of_expon_means = []\n",
    "\n",
    "for i in range(1000):\n",
    "    binom_var_mean = np.random.choice(binom_distr, 10).mean()\n",
    "    expon_var_mean = np.random.choice(exp_distr, 10).mean()\n",
    "    \n",
    "    list_of_binom_means.append(binom_var_mean)\n",
    "    list_of_expon_means.append(expon_var_mean)\n",
    "\n",
    "sns.displot(list_of_binom_means);\n",
    "sns.displot(list_of_expon_means);"
   ]
  },
  {
   "cell_type": "markdown",
   "id": "af3340af-ac75-441b-b3bc-c97e7d7ef6d4",
   "metadata": {},
   "source": [
    "##### Применим тест Шапиро-Уилка, чтобы оценить близость распределений выборочных средних к нормальному\n",
    "Тест Шапиро-Уилка показывает, что оба распределения относятся к какому-то другому распределению<br>\n",
    "Требование о нормальности выборочных средних не выполняется. Поэтому тест Стьюдента показывал неверные результаты"
   ]
  },
  {
   "cell_type": "code",
   "execution_count": 188,
   "id": "a0424b19-7b86-41f2-a5f1-0166ae402335",
   "metadata": {},
   "outputs": [
    {
     "data": {
      "text/plain": [
       "ShapiroResult(statistic=0.9945863485336304, pvalue=0.0011790265562012792)"
      ]
     },
     "execution_count": 188,
     "metadata": {},
     "output_type": "execute_result"
    }
   ],
   "source": [
    "stats.shapiro(list_of_binom_means)"
   ]
  },
  {
   "cell_type": "code",
   "execution_count": 189,
   "id": "be4f2614-1734-4759-9bcd-7fb3a0dcf415",
   "metadata": {},
   "outputs": [
    {
     "data": {
      "text/plain": [
       "ShapiroResult(statistic=0.9655272960662842, pvalue=1.2158855567073312e-14)"
      ]
     },
     "execution_count": 189,
     "metadata": {},
     "output_type": "execute_result"
    }
   ],
   "source": [
    "stats.shapiro(list_of_expon_means)"
   ]
  },
  {
   "cell_type": "markdown",
   "id": "bdb3b3e1-e3ba-4ea2-9253-b92fe61db693",
   "metadata": {},
   "source": [
    "### Тесты на нормальность\n",
    "Есть два основных теста на нормальность:\n",
    "- Критерий Шапиро-Уилка\n",
    "- Критерий Колмогорова-Смирнова\n",
    "\n",
    ">$H0$: x взята из генеральной совокупности с нормальным распределением<br>\n",
    "$H1$: x взята из генеральной совокупности с другим распределением\n",
    "\n",
    "#### Критерий Шапиро-Уилка\n",
    "- Является наиболее мощным тестом на проверку нормальности\n",
    "- Работает для выборое менее 5000 наблюдений\n",
    "\n",
    "#### Критерий Колмогорова-Смирнова\n",
    "- Наиболее универсальныйс критерий (но менее точный в сравнении с Шапиро)"
   ]
  },
  {
   "cell_type": "markdown",
   "id": "874413f7-5921-4516-b48a-d9a2d51ea898",
   "metadata": {},
   "source": [
    "##### Создадим два распределения, нормальное и сильно похожее на него t-распределение"
   ]
  },
  {
   "cell_type": "code",
   "execution_count": 76,
   "id": "5a549f8f-b022-49d4-b070-a07e932f99bc",
   "metadata": {},
   "outputs": [
    {
     "data": {
      "image/png": "[encoded data removed]",
      "text/plain": [
       "<Figure size 360x360 with 1 Axes>"
      ]
     },
     "metadata": {
      "needs_background": "light"
     },
     "output_type": "display_data"
    },
    {
     "data": {
      "image/png": "[encoded data removed]",
      "text/plain": [
       "<Figure size 360x360 with 1 Axes>"
      ]
     },
     "metadata": {
      "needs_background": "light"
     },
     "output_type": "display_data"
    }
   ],
   "source": [
    "norm_distr = stats.norm.rvs(size = 250)\n",
    "t_distr = stats.t.rvs(size = 250, df = 5)\n",
    "\n",
    "sns.displot(norm_distr);\n",
    "sns.displot(t_distr);"
   ]
  },
  {
   "cell_type": "markdown",
   "id": "8ed557f5-5a76-43c0-b6c7-ed26ae42a549",
   "metadata": {},
   "source": [
    "#### Проверим принадлежность выборок к нормальному распределению"
   ]
  },
  {
   "cell_type": "markdown",
   "id": "a777d433-b14f-4924-af03-fe97a2520579",
   "metadata": {},
   "source": [
    "##### Тест Колмогорова относит оба распределения к нормальному"
   ]
  },
  {
   "cell_type": "code",
   "execution_count": 77,
   "id": "6421745c-162d-4d6e-bec3-2733fc6cd444",
   "metadata": {},
   "outputs": [
    {
     "name": "stdout",
     "output_type": "stream",
     "text": [
      "KstestResult(statistic=0.061408001286498703, pvalue=0.2904741973861128)\n",
      "KstestResult(statistic=0.058408065184207825, pvalue=0.3476295511298353)\n"
     ]
    }
   ],
   "source": [
    "print(stats.kstest(norm_distr, \"norm\"))\n",
    "print(stats.kstest(t_distr, \"norm\"))"
   ]
  },
  {
   "cell_type": "markdown",
   "id": "ee593dbc-c84d-478b-99d3-3910398309e5",
   "metadata": {},
   "source": [
    "##### А тест Шапиро определяет наше t-распределеие как неотносящееся к нормальному"
   ]
  },
  {
   "cell_type": "code",
   "execution_count": 80,
   "id": "6ec38e73-a636-4dba-b3eb-d6ef60bb422e",
   "metadata": {},
   "outputs": [
    {
     "name": "stdout",
     "output_type": "stream",
     "text": [
      "ShapiroResult(statistic=0.9939581155776978, pvalue=0.41573888063430786)\n",
      "ShapiroResult(statistic=0.9742836356163025, pvalue=0.0001700418652035296)\n"
     ]
    }
   ],
   "source": [
    "print(stats.shapiro(norm_distr))\n",
    "print(stats.shapiro(t_distr))"
   ]
  },
  {
   "cell_type": "code",
   "execution_count": null,
   "id": "dc59029a-061c-4ac4-ac88-765d14dbca81",
   "metadata": {},
   "outputs": [],
   "source": []
  }
 ],
 "metadata": {
  "kernelspec": {
   "display_name": "Python 3 (ipykernel)",
   "language": "python",
   "name": "python3"
  },
  "language_info": {
   "codemirror_mode": {
    "name": "ipython",
    "version": 3
   },
   "file_extension": ".py",
   "mimetype": "text/x-python",
   "name": "python",
   "nbconvert_exporter": "python",
   "pygments_lexer": "ipython3",
   "version": "3.9.6"
  }
 },
 "nbformat": 4,
 "nbformat_minor": 5
}
