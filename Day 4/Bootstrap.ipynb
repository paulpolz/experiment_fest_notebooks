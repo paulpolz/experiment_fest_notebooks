{
 "cells": [
  {
   "cell_type": "code",
   "execution_count": 60,
   "id": "aa0f1e2e-c745-4edb-955e-ae9a59c68d3c",
   "metadata": {},
   "outputs": [],
   "source": [
    "import pandas as pd\n",
    "import numpy as np\n",
    "\n",
    "from scipy.stats import norm, mannwhitneyu\n",
    "import matplotlib.pyplot as plt\n",
    "\n",
    "from tqdm import tqdm"
   ]
  },
  {
   "cell_type": "markdown",
   "id": "b516af74-8ff1-4b1a-a18b-cd4c1f88c684",
   "metadata": {},
   "source": [
    "# Бутстрап"
   ]
  },
  {
   "cell_type": "markdown",
   "id": "41d24b55-f307-401c-946f-0b6ef5df59a2",
   "metadata": {},
   "source": [
    "Обладая только данными по имеющейся выборке, бутстрап позволяет оценить любой ее параметр, построив эмпирическое распределение параметра<br>\n",
    "- Бутстрап позволяет брать доверительные интервалы из сложных параметров без использования формулы, например, из медианы\n",
    "    - у медиан есть проблема смещения\n",
    "- Бутстрап проверяет статистические гипотезы без опоры на определенное теоретическое распределение данных, поэтому он не требует соблюдения предположений классических стат критериев\n",
    "- Бутстрап позволяет более точно оценивать разницу между выборками. Можно понять, в какой именно части распределения есть разница.\n",
    "    - Это можно узнать через сравнение перцентилей"
   ]
  },
  {
   "cell_type": "markdown",
   "id": "eeea3cd7-594e-484d-b173-4f7285df4da4",
   "metadata": {},
   "source": [
    "### Как брать подвыборки в Бутстрапе?\n",
    "- Подвыборки берктся с возвращением\n",
    "    - То есть после каждого выбрра случайного параметра он как бы возвращается на место, чтобы была возможность взять его снова\n",
    "- Всегда берутся подвыборки такого же размера как и сама выборка, чтобы сохранить дисперсию, которая по формуле использует n"
   ]
  },
  {
   "cell_type": "markdown",
   "id": "64fd010a-ae0a-4d35-9bef-9f94ce4db28f",
   "metadata": {},
   "source": [
    "### Проблема смещения\n",
    "В отличие от среднего, другие параметры могут быть сильно подвержены смещенной оценке значения параметра генеральной совокупности (хотя само среднее тоже не исключение). <br><b><i>Если статистика не среднее, то она сильно подвержена смещению, которое необходимо корректировать.</b></i>\n",
    "\n",
    "##### Как считаем смещение\n",
    "1. Считаем разницу исследуемой метрики между исходными группами\n",
    "2. Считаем разницы исследуемой метрики между бутстрапированными группами для каждой бут-итерации\n",
    "    - Считаем среднее по дельте бут-выборок\n",
    "3. Считаем дельту сдвига между исходной и бут-дельтой\n",
    "4. Для каждого значения бут-дельты (из п. 2) добавляем дельту сдвига"
   ]
  },
  {
   "cell_type": "markdown",
   "id": "d15f4c18-c4f8-4de3-a151-6a4b82ffbf32",
   "metadata": {},
   "source": [
    "### Проверка гиптез с помощью бутстрапа"
   ]
  },
  {
   "cell_type": "markdown",
   "id": "cf5f9707-836a-43be-a744-39e6e3bdaeba",
   "metadata": {},
   "source": [
    "1. Расчет интервал для доли\n",
    "2. Через p-value\n",
    "    - p value - это по сути площадь под кривой и это же false positive <br>`(cdf в scipy от нормального распределения)`\n",
    "3. На каждой итерации бутстрапа считаем t статистику, считаем из этого p-value\n",
    "4. Считаем дельты и из них среднее и ско. считаем площадь под кривой"
   ]
  },
  {
   "cell_type": "code",
   "execution_count": 64,
   "id": "e081f1dd-dd98-43b9-98d3-60e65751270a",
   "metadata": {},
   "outputs": [],
   "source": [
    "# Объявим функцию, которая позволит проверять гипотезы с помощью бутстрапа\n",
    "def get_bootstrap(\n",
    "    data_0: list, # числовые значения первой выборки\n",
    "    data_1: list, # числовые значения второй выборки\n",
    "    boot_it: int = 1000, # количество бутстрэп-подвыборок\n",
    "    statistic = np.mean, # интересующая нас статистика\n",
    "    conf_level: float = 0.95, # уровень значимости,\n",
    "    ba: bool = False\n",
    "):\n",
    "    \n",
    "    df = pd.DataFrame({\n",
    "        'x': data_0,\n",
    "        'y': data_1\n",
    "    })\n",
    "    \n",
    "    boot_data = []\n",
    "    for _ in tqdm(range(boot_it)): # извлекаем подвыборки\n",
    "        boot_0 = df.x.sample(len(data_0), replace = True).values\n",
    "        boot_1 = df.y.sample(len(data_1), replace = True).values\n",
    "        boot_data.append(statistic(boot_0) - statistic(boot_1)) # mean() - применяем статистику\n",
    "        \n",
    "    # поправляем смещение\n",
    "    if ba:\n",
    "        orig_theta = statistic(data_0)-statistic(data_1) # разница в исходных данных\n",
    "        boot_theta = np.mean(boot_data) # среднее по бутстрапированной разнице статистик\n",
    "        delta_val = abs(orig_theta - boot_theta) # дельта для сдвига\n",
    "        boot_data = [i + delta_val for i in boot_data] # сдвигаем бут разницу статистик, обратите внимание, что тут не вычитание\n",
    "        print(f\"\"\"\n",
    "            До бутстрапа: {orig_theta},\n",
    "            После бутстрапа: {boot_theta},\n",
    "            После коррекции: {np.mean(boot_data)}\"\"\"\n",
    "        )\n",
    "\n",
    "    left_quant = (1 - conf_level)/2\n",
    "    right_quant = 1 - (1 - conf_level) / 2\n",
    "    ci = pd.DataFrame(boot_data).quantile([left_quant, right_quant])\n",
    "\n",
    "    # p-value\n",
    "    p_1 = norm.cdf(x = 0, loc = np.mean(boot_data), scale = np.std(boot_data))\n",
    "    p_2 = norm.cdf(x = 0, loc = -np.mean(boot_data), scale = np.std(boot_data))\n",
    "    p_value = min(p_1, p_2) * 2\n",
    "        \n",
    "    # Визуализация\n",
    "    plt.hist(pd.DataFrame(boot_data)[0], bins = 50)\n",
    "    plt.style.use('ggplot')\n",
    "    plt.vlines(ci,ymin=0,ymax=50,linestyle='--')\n",
    "    plt.xlabel('boot_data')\n",
    "    plt.ylabel('frequency')\n",
    "    plt.title(\"Histogram of boot_data\")\n",
    "    plt.show()\n",
    "       \n",
    "    return {\"boot_data statistics\": statistic(boot_data), \n",
    "            \"ci\": ci, \n",
    "            \"p_value\": p_value}"
   ]
  },
  {
   "cell_type": "code",
   "execution_count": 66,
   "id": "29f21f29-dfe3-4dd9-8c14-19a1eac9e899",
   "metadata": {},
   "outputs": [
    {
     "name": "stderr",
     "output_type": "stream",
     "text": [
      "100%|█████████████████████████████████████| 1000/1000 [00:00<00:00, 2706.04it/s]\n"
     ]
    },
    {
     "name": "stdout",
     "output_type": "stream",
     "text": [
      "\n",
      "            До бутстрапа: -0.09566777721965003,\n",
      "            После бутстрапа: -0.09679779995344474,\n",
      "            После коррекции: -0.09566777721965002\n"
     ]
    },
    {
     "data": {
      "image/png": "[encoded data removed]",
      "text/plain": [
       "<Figure size 432x288 with 1 Axes>"
      ]
     },
     "metadata": {},
     "output_type": "display_data"
    },
    {
     "data": {
      "text/plain": [
       "{'boot_data statistics': -0.09566777721965002,\n",
       " 'ci':               0\n",
       " 0.025 -0.193289\n",
       " 0.975 -0.001853,\n",
       " 'p_value': 0.05602245045768615}"
      ]
     },
     "execution_count": 66,
     "metadata": {},
     "output_type": "execute_result"
    }
   ],
   "source": [
    "get_bootstrap(\n",
    "    np.random.exponential(size=1000),\n",
    "    np.random.exponential(size=1000)*1.01,\n",
    "    ba=True\n",
    ")"
   ]
  },
  {
   "cell_type": "markdown",
   "id": "e52e7ebd-9ec6-4a42-ba25-04f8bffd2e5d",
   "metadata": {
    "tags": []
   },
   "source": [
    "### Для оптимизации можно бить юзеров на бакеты\n",
    "- Для бутстрап-выборок нужно задавать размер такой же, как и у изначальной выборки\n",
    "- Начиная с ~1 млн наблюдений начинаются проблемы, связанные со скоростью вычисления\n",
    "> Поэтому аудиторию правильнее бить на бакеты"
   ]
  },
  {
   "cell_type": "code",
   "execution_count": null,
   "id": "5733ffdb-f685-426f-ad6e-5f7a023532c8",
   "metadata": {},
   "outputs": [],
   "source": []
  },
  {
   "cell_type": "code",
   "execution_count": null,
   "id": "cae735c7-83fe-4356-8289-655bde39f4a7",
   "metadata": {},
   "outputs": [],
   "source": []
  },
  {
   "cell_type": "code",
   "execution_count": null,
   "id": "b46269e6-f2b3-443a-96cb-cf0fe60c496b",
   "metadata": {},
   "outputs": [],
   "source": []
  },
  {
   "cell_type": "code",
   "execution_count": null,
   "id": "74425f9c-436f-41aa-b47d-4a6291c2c50a",
   "metadata": {},
   "outputs": [],
   "source": []
  },
  {
   "cell_type": "code",
   "execution_count": null,
   "id": "04d4d123-3f98-499c-aff3-775a781551c6",
   "metadata": {},
   "outputs": [],
   "source": []
  },
  {
   "cell_type": "code",
   "execution_count": null,
   "id": "d6efe141-d590-4dc8-9906-baacfc4f6b17",
   "metadata": {},
   "outputs": [],
   "source": []
  },
  {
   "cell_type": "code",
   "execution_count": null,
   "id": "f91a1015-8221-4348-9767-3c39f64093d3",
   "metadata": {},
   "outputs": [],
   "source": [
    " "
   ]
  },
  {
   "cell_type": "code",
   "execution_count": null,
   "id": "7d653dfe-a811-483f-bfbc-660db2505459",
   "metadata": {},
   "outputs": [],
   "source": []
  },
  {
   "cell_type": "code",
   "execution_count": null,
   "id": "8f5ce622-3aa4-4cf5-b0c7-0dc358456a39",
   "metadata": {},
   "outputs": [],
   "source": []
  },
  {
   "cell_type": "code",
   "execution_count": null,
   "id": "3802efe8-3951-4318-8ead-46296bbcf8ab",
   "metadata": {},
   "outputs": [],
   "source": []
  },
  {
   "cell_type": "code",
   "execution_count": null,
   "id": "976743ac-7987-4f51-80e4-faa0cc33335c",
   "metadata": {},
   "outputs": [],
   "source": []
  },
  {
   "cell_type": "code",
   "execution_count": null,
   "id": "b07f6ace-1269-4ce0-8e4a-0498f240ef92",
   "metadata": {},
   "outputs": [],
   "source": []
  }
 ],
 "metadata": {
  "kernelspec": {
   "display_name": "Python 3 (ipykernel)",
   "language": "python",
   "name": "python3"
  },
  "language_info": {
   "codemirror_mode": {
    "name": "ipython",
    "version": 3
   },
   "file_extension": ".py",
   "mimetype": "text/x-python",
   "name": "python",
   "nbconvert_exporter": "python",
   "pygments_lexer": "ipython3",
   "version": "3.9.6"
  }
 },
 "nbformat": 4,
 "nbformat_minor": 5
}
