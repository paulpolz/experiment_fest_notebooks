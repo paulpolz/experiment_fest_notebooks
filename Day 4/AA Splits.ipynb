{
 "cells": [
  {
   "cell_type": "code",
   "execution_count": 39,
   "id": "be8ea527-5b98-4636-a70b-8cf3e66db4c2",
   "metadata": {},
   "outputs": [],
   "source": [
    "import pandas as pd\n",
    "import numpy as np\n",
    "import datetime as dt\n",
    "\n",
    "import scipy.stats as stats\n",
    "from scipy.stats import norm, mannwhitneyu\n",
    "import matplotlib.pyplot as plt\n",
    "\n",
    "from tqdm import tqdm"
   ]
  },
  {
   "cell_type": "markdown",
   "id": "ee6f9c6f-92a5-486f-986b-9687ee90313f",
   "metadata": {},
   "source": [
    "# Проверка качества сплитования\n",
    "> Задача А/А тестов определить насколько корректно работает система сплитования, чтобы не отвергать ошибочно нулевую гипотезу"
   ]
  },
  {
   "cell_type": "markdown",
   "id": "05ec1ddd-6143-416c-9ca4-8256d74ae40c",
   "metadata": {},
   "source": [
    "## Этапы проверки сплитования\n",
    "1. <b>Sample Ratio Mismatch (SRM) Check</b> – проверка честного деления пользователей между группами\n",
    "2. <b>Intersection Check</b> – проверка пересечения пользователей между сплитами\n",
    "3. <b>False Positive Rate (FPR) Check</b> – проверка ложноположительной вероятности с помощью бизнес-метрик"
   ]
  },
  {
   "cell_type": "markdown",
   "id": "bf70d03e-4f48-4ead-9120-4b8c0aa4b3f0",
   "metadata": {},
   "source": [
    "#### Сгенерим данные"
   ]
  },
  {
   "cell_type": "code",
   "execution_count": 2,
   "id": "f6531f92-b216-4531-ab97-b5c2c51cdb16",
   "metadata": {},
   "outputs": [],
   "source": [
    "def data_gen(l, n, k, g):\n",
    "    \"\"\"\n",
    "        l: длительность эксперимента\n",
    "        n: кол-во юзеров\n",
    "        k: коэффициент увеличения группы 2\n",
    "        g: количество групп\n",
    "    \"\"\"\n",
    "\n",
    "    # Временной период\n",
    "    days = []\n",
    "    for day in range(1,l+1):\n",
    "        days.append((dt.datetime.today() - dt.timedelta(days=day)).strftime('%Y-%m-%d'))\n",
    "    \n",
    "    # Пользователи\n",
    "    count = n\n",
    "    users = []\n",
    "    for user in np.random.randint(10000,90000,count):\n",
    "        user_id = hash(user)\n",
    "        users.append(user_id)\n",
    "    \n",
    "    # Объедине юзеров по дням\n",
    "    days_df = pd.DataFrame(days).rename(columns={0:'date'})\n",
    "    users_df = pd.DataFrame(users).rename(columns={0:'user_id'})\n",
    "    \n",
    "    traffic = days_df.merge(\n",
    "        users_df,\n",
    "        how='cross'\n",
    "    )\n",
    "    \n",
    "    # Генерация метрики\n",
    "    metrics = []\n",
    "    for user in users:\n",
    "        user_metrics = np.random.exponential(10,14)\n",
    "        metrics.append(user_metrics)\n",
    "    \n",
    "    metric = pd.DataFrame(pd.Series(metrics).explode()).rename(columns={0:'metric'})\n",
    "\n",
    "    # Объединение метрики и трафика\n",
    "    data = pd.concat([traffic, metric.set_index(traffic.index)], axis=1)\n",
    "\n",
    "    # Сплитование юзеров\n",
    "    split = []\n",
    "    for user in users:\n",
    "        group = np.random.randint(1,g+1)\n",
    "        split.append(group)\n",
    "    \n",
    "    splits = pd.concat(\\\n",
    "        [pd.DataFrame(users).rename(columns={0:'user_id'}), \\\n",
    "         pd.DataFrame(split).rename(columns={0:'split'})], axis=1)\n",
    "    \n",
    "    # Финальная сборка\n",
    "    data = data.merge(\n",
    "        splits,\n",
    "        how='left',\n",
    "        left_on='user_id',\n",
    "        right_on='user_id'\n",
    "    )\n",
    "    \n",
    "    data.loc[data.split == 2, 'metric'] = data.loc[data.split == 2, 'metric'] * k\n",
    "    \n",
    "    return data"
   ]
  },
  {
   "cell_type": "code",
   "execution_count": 3,
   "id": "ec90dacd-3b01-4771-bced-9cac369fe90b",
   "metadata": {},
   "outputs": [
    {
     "data": {
      "text/html": [
       "<div>\n",
       "<style scoped>\n",
       "    .dataframe tbody tr th:only-of-type {\n",
       "        vertical-align: middle;\n",
       "    }\n",
       "\n",
       "    .dataframe tbody tr th {\n",
       "        vertical-align: top;\n",
       "    }\n",
       "\n",
       "    .dataframe thead th {\n",
       "        text-align: right;\n",
       "    }\n",
       "</style>\n",
       "<table border=\"1\" class=\"dataframe\">\n",
       "  <thead>\n",
       "    <tr style=\"text-align: right;\">\n",
       "      <th></th>\n",
       "      <th>date</th>\n",
       "      <th>user_id</th>\n",
       "      <th>metric</th>\n",
       "      <th>split</th>\n",
       "    </tr>\n",
       "  </thead>\n",
       "  <tbody>\n",
       "    <tr>\n",
       "      <th>0</th>\n",
       "      <td>2022-05-02</td>\n",
       "      <td>26630</td>\n",
       "      <td>9.015592</td>\n",
       "      <td>2</td>\n",
       "    </tr>\n",
       "    <tr>\n",
       "      <th>1</th>\n",
       "      <td>2022-05-02</td>\n",
       "      <td>56791</td>\n",
       "      <td>10.608858</td>\n",
       "      <td>3</td>\n",
       "    </tr>\n",
       "    <tr>\n",
       "      <th>2</th>\n",
       "      <td>2022-05-02</td>\n",
       "      <td>37224</td>\n",
       "      <td>4.464899</td>\n",
       "      <td>2</td>\n",
       "    </tr>\n",
       "    <tr>\n",
       "      <th>3</th>\n",
       "      <td>2022-05-02</td>\n",
       "      <td>89820</td>\n",
       "      <td>17.998514</td>\n",
       "      <td>2</td>\n",
       "    </tr>\n",
       "    <tr>\n",
       "      <th>4</th>\n",
       "      <td>2022-05-02</td>\n",
       "      <td>13973</td>\n",
       "      <td>0.182132</td>\n",
       "      <td>1</td>\n",
       "    </tr>\n",
       "  </tbody>\n",
       "</table>\n",
       "</div>"
      ],
      "text/plain": [
       "         date  user_id     metric  split\n",
       "0  2022-05-02    26630   9.015592      2\n",
       "1  2022-05-02    56791  10.608858      3\n",
       "2  2022-05-02    37224   4.464899      2\n",
       "3  2022-05-02    89820  17.998514      2\n",
       "4  2022-05-02    13973   0.182132      1"
      ]
     },
     "execution_count": 3,
     "metadata": {},
     "output_type": "execute_result"
    }
   ],
   "source": [
    "data = data_gen(n=10000, l=14, k=1.1, g=3)\n",
    "data.head()"
   ]
  },
  {
   "cell_type": "markdown",
   "id": "bcb17a76-2772-496d-beb5-cf7242605543",
   "metadata": {},
   "source": [
    "### Sample Ratio Mismatch (SRM) Check \n",
    "- Необходим для проверки равномерности распределения пользователей по веткам эксперимента и разным группам."
   ]
  },
  {
   "cell_type": "code",
   "execution_count": 4,
   "id": "6410df75-f7cb-4433-a011-de88af47166b",
   "metadata": {},
   "outputs": [],
   "source": [
    "from scipy.stats import chisquare"
   ]
  },
  {
   "cell_type": "code",
   "execution_count": 5,
   "id": "09507859-6aaf-4ccc-912a-03da0a797717",
   "metadata": {},
   "outputs": [
    {
     "data": {
      "text/html": [
       "<div>\n",
       "<style scoped>\n",
       "    .dataframe tbody tr th:only-of-type {\n",
       "        vertical-align: middle;\n",
       "    }\n",
       "\n",
       "    .dataframe tbody tr th {\n",
       "        vertical-align: top;\n",
       "    }\n",
       "\n",
       "    .dataframe thead th {\n",
       "        text-align: right;\n",
       "    }\n",
       "</style>\n",
       "<table border=\"1\" class=\"dataframe\">\n",
       "  <thead>\n",
       "    <tr style=\"text-align: right;\">\n",
       "      <th></th>\n",
       "      <th>split</th>\n",
       "      <th>user_id</th>\n",
       "      <th>share</th>\n",
       "    </tr>\n",
       "  </thead>\n",
       "  <tbody>\n",
       "    <tr>\n",
       "      <th>0</th>\n",
       "      <td>1</td>\n",
       "      <td>50848</td>\n",
       "      <td>0.324170</td>\n",
       "    </tr>\n",
       "    <tr>\n",
       "      <th>1</th>\n",
       "      <td>2</td>\n",
       "      <td>54152</td>\n",
       "      <td>0.345234</td>\n",
       "    </tr>\n",
       "    <tr>\n",
       "      <th>2</th>\n",
       "      <td>3</td>\n",
       "      <td>51856</td>\n",
       "      <td>0.330596</td>\n",
       "    </tr>\n",
       "  </tbody>\n",
       "</table>\n",
       "</div>"
      ],
      "text/plain": [
       "   split  user_id     share\n",
       "0      1    50848  0.324170\n",
       "1      2    54152  0.345234\n",
       "2      3    51856  0.330596"
      ]
     },
     "execution_count": 5,
     "metadata": {},
     "output_type": "execute_result"
    }
   ],
   "source": [
    "# Кол-во юзеров для каждой группы\n",
    "count_by_split = data.groupby('split')[['user_id']].count().reset_index()\n",
    "# Доля юзеров в каждой группе\n",
    "count_by_split['share'] = count_by_split.apply(lambda x: x/sum(x))['user_id']\n",
    "count_by_split"
   ]
  },
  {
   "cell_type": "markdown",
   "id": "588e61e7-1319-4a8b-b873-d9567e35b9e3",
   "metadata": {},
   "source": [
    "- Визуально кажется, что группы совпадают по долям\n",
    "- Применим Хи-квадрат, чтобы оценить разницу долей статитсически\n",
    "> Мы видим p-value выше 0.05, поэтому делаем заключение, что группы по долям не отличаются"
   ]
  },
  {
   "cell_type": "code",
   "execution_count": 14,
   "id": "0369b289-8eef-4b4f-b956-b46e836922dd",
   "metadata": {},
   "outputs": [
    {
     "data": {
      "text/plain": [
       "Power_divergenceResult(statistic=49.728473322768096, pvalue=1.7656483332214082e-12)"
      ]
     },
     "execution_count": 14,
     "metadata": {},
     "output_type": "execute_result"
    }
   ],
   "source": [
    "chisquare((count_by_split.user_id[1], count_by_split.user_id[2]))"
   ]
  },
  {
   "cell_type": "markdown",
   "id": "72b925c1-6493-46b5-9268-11890b4ee0e7",
   "metadata": {},
   "source": [
    "### Intersection Check\n",
    "- Важно обращать внимание на то, как распределены сами сплиты\n",
    "    - Если они изначально заданы как 50/50, то на данных распределение должно быть максимально приближено к этим значениям"
   ]
  },
  {
   "cell_type": "code",
   "execution_count": 34,
   "id": "8a95ee68-aaba-407e-a4eb-410b70196078",
   "metadata": {},
   "outputs": [],
   "source": [
    "splits = list(set(data.split))\n",
    "splits_intersection = dict({})\n",
    "\n",
    "for split_a in splits:\n",
    "    split_b_list = []\n",
    "    for split_b in splits:\n",
    "        group_a = data[data.split == split_a]\n",
    "        group_b = data[data.split == split_b]\n",
    "        \n",
    "        slits_merge = group_a.merge(\n",
    "            group_b,\n",
    "            how='inner',\n",
    "            left_on='user_id',\n",
    "            right_on='user_id'\n",
    "        ).user_id\n",
    "        \n",
    "        split_b_list.append(slits_merge.count() / group_b.count().user_id)\n",
    "        \n",
    "    splits_intersection[split_a] = split_b_list"
   ]
  },
  {
   "cell_type": "code",
   "execution_count": 35,
   "id": "a290f3ab-0473-455e-95af-9a5165b2e637",
   "metadata": {},
   "outputs": [
    {
     "data": {
      "text/plain": [
       "[2.0583700440528636, 2.2440537745604963, 19.73002159827214]"
      ]
     },
     "execution_count": 35,
     "metadata": {},
     "output_type": "execute_result"
    }
   ],
   "source": [
    "split_b_list"
   ]
  },
  {
   "cell_type": "code",
   "execution_count": 36,
   "id": "4b260682-6a3c-4564-adb7-834fd304cae9",
   "metadata": {},
   "outputs": [
    {
     "data": {
      "text/plain": [
       "{1: [19.1420704845815, 2.229576008273009, 2.0183585313174945],\n",
       " 2: [2.3744493392070485, 19.36401240951396, 2.3434125269978403],\n",
       " 3: [2.0583700440528636, 2.2440537745604963, 19.73002159827214]}"
      ]
     },
     "execution_count": 36,
     "metadata": {},
     "output_type": "execute_result"
    }
   ],
   "source": [
    "splits_intersection"
   ]
  },
  {
   "cell_type": "code",
   "execution_count": 69,
   "id": "37b9ccb6-7f88-49f6-b348-b2e10bdb6544",
   "metadata": {},
   "outputs": [
    {
     "data": {
      "text/html": [
       "<div>\n",
       "<style scoped>\n",
       "    .dataframe tbody tr th:only-of-type {\n",
       "        vertical-align: middle;\n",
       "    }\n",
       "\n",
       "    .dataframe tbody tr th {\n",
       "        vertical-align: top;\n",
       "    }\n",
       "\n",
       "    .dataframe thead th {\n",
       "        text-align: right;\n",
       "    }\n",
       "</style>\n",
       "<table border=\"1\" class=\"dataframe\">\n",
       "  <thead>\n",
       "    <tr style=\"text-align: right;\">\n",
       "      <th>split</th>\n",
       "      <th>1</th>\n",
       "      <th>2</th>\n",
       "      <th>3</th>\n",
       "    </tr>\n",
       "    <tr>\n",
       "      <th>split</th>\n",
       "      <th></th>\n",
       "      <th></th>\n",
       "      <th></th>\n",
       "    </tr>\n",
       "  </thead>\n",
       "  <tbody>\n",
       "    <tr>\n",
       "      <th>1</th>\n",
       "      <td>52696.0</td>\n",
       "      <td>NaN</td>\n",
       "      <td>NaN</td>\n",
       "    </tr>\n",
       "    <tr>\n",
       "      <th>2</th>\n",
       "      <td>NaN</td>\n",
       "      <td>52780.0</td>\n",
       "      <td>NaN</td>\n",
       "    </tr>\n",
       "    <tr>\n",
       "      <th>3</th>\n",
       "      <td>NaN</td>\n",
       "      <td>NaN</td>\n",
       "      <td>52584.0</td>\n",
       "    </tr>\n",
       "  </tbody>\n",
       "</table>\n",
       "</div>"
      ],
      "text/plain": [
       "split        1        2        3\n",
       "split                           \n",
       "1      52696.0      NaN      NaN\n",
       "2          NaN  52780.0      NaN\n",
       "3          NaN      NaN  52584.0"
      ]
     },
     "execution_count": 69,
     "metadata": {},
     "output_type": "execute_result"
    }
   ],
   "source": [
    "data.pivot_table(\n",
    "    data, \n",
    "    columns='split',\n",
    "    index='split',\n",
    "    aggfunc='count'\n",
    ").user_id"
   ]
  },
  {
   "cell_type": "markdown",
   "id": "6dc9ab03-b072-4b1e-9291-bf378cd74db5",
   "metadata": {},
   "source": [
    "### False Positive Rate (FPR) Check\n",
    "1. Проводим A/A тест. \n",
    "    - Время на A/A определяется таким образом, чтобы охватить как можно больше факторов влияния на метрику (например, недельная сезонность)\n",
    "2. Симулируем новые A/A.\n",
    "    - Тест пересчитывается ≥10тыс. раз при помощи симуляции новых A/A\n",
    "3. Считаем стат.значимость.\n",
    "    - В каждом тесте считается p-value при помощи статистического оценщика (бутстрап, т-тест и т.п.)\n",
    "4. Считаем метрику качества FPR (False Positive Rate)\n",
    "$$\n",
    "FPR = \\frac{FP}{FP+TN}; (FP+TN = N)\n",
    "$$\n",
    "5. Делаем выводы. Проверяется условие FPR < α, и если условие соблюдается, то сплитовалка работает корректно\n",
    "    - Это становится возможным, поскольку при верной нулевой гипотезе распределение всегда будет uniform"
   ]
  },
  {
   "cell_type": "markdown",
   "id": "9b74f448-93f9-4829-8e6d-d694e3d5f2f0",
   "metadata": {},
   "source": [
    "#### Сгенерим данные"
   ]
  },
  {
   "cell_type": "code",
   "execution_count": 43,
   "id": "32a21fb0-d618-4435-b864-f94f203a80c3",
   "metadata": {},
   "outputs": [
    {
     "data": {
      "text/html": [
       "<div>\n",
       "<style scoped>\n",
       "    .dataframe tbody tr th:only-of-type {\n",
       "        vertical-align: middle;\n",
       "    }\n",
       "\n",
       "    .dataframe tbody tr th {\n",
       "        vertical-align: top;\n",
       "    }\n",
       "\n",
       "    .dataframe thead th {\n",
       "        text-align: right;\n",
       "    }\n",
       "</style>\n",
       "<table border=\"1\" class=\"dataframe\">\n",
       "  <thead>\n",
       "    <tr style=\"text-align: right;\">\n",
       "      <th></th>\n",
       "      <th>s1</th>\n",
       "      <th>s2</th>\n",
       "    </tr>\n",
       "  </thead>\n",
       "  <tbody>\n",
       "    <tr>\n",
       "      <th>0</th>\n",
       "      <td>2276.078262</td>\n",
       "      <td>397.280407</td>\n",
       "    </tr>\n",
       "    <tr>\n",
       "      <th>1</th>\n",
       "      <td>1094.859666</td>\n",
       "      <td>817.607013</td>\n",
       "    </tr>\n",
       "    <tr>\n",
       "      <th>2</th>\n",
       "      <td>615.371318</td>\n",
       "      <td>208.008659</td>\n",
       "    </tr>\n",
       "    <tr>\n",
       "      <th>3</th>\n",
       "      <td>1738.848889</td>\n",
       "      <td>688.255900</td>\n",
       "    </tr>\n",
       "    <tr>\n",
       "      <th>4</th>\n",
       "      <td>202.664197</td>\n",
       "      <td>715.309557</td>\n",
       "    </tr>\n",
       "  </tbody>\n",
       "</table>\n",
       "</div>"
      ],
      "text/plain": [
       "            s1          s2\n",
       "0  2276.078262  397.280407\n",
       "1  1094.859666  817.607013\n",
       "2   615.371318  208.008659\n",
       "3  1738.848889  688.255900\n",
       "4   202.664197  715.309557"
      ]
     },
     "execution_count": 43,
     "metadata": {},
     "output_type": "execute_result"
    }
   ],
   "source": [
    "n = 100000\n",
    "\n",
    "df = pd.DataFrame({\n",
    "    \"s1\": np.random.exponential(scale=1/0.001, size=n),\n",
    "    \"s2\": np.random.exponential(scale=1/0.001, size=n)\n",
    "})\n",
    "df.head()"
   ]
  },
  {
   "cell_type": "markdown",
   "id": "58e853b1-7364-45f9-85d6-212fdf92bee4",
   "metadata": {},
   "source": [
    "#### Запустим симуляцию А/А теста"
   ]
  },
  {
   "cell_type": "code",
   "execution_count": 47,
   "id": "17196fac-d847-45cc-a375-dc00b248fdb4",
   "metadata": {},
   "outputs": [
    {
     "name": "stderr",
     "output_type": "stream",
     "text": [
      "100%|██████████████████████████████████████| 1000/1000 [00:05<00:00, 181.11it/s]\n"
     ]
    }
   ],
   "source": [
    "simulations = 1000\n",
    "sample_n = 1000\n",
    "p_value_list = []\n",
    "\n",
    "# Запуск симуляций A/A теста\n",
    "for i in tqdm(range(simulations)):\n",
    "    s1 = df['s1'].sample(sample_n).values\n",
    "    s2 = df['s2'].sample(sample_n).values\n",
    "    p_value_list.append(stats.ttest_ind(s1, s2, equal_var = False)[1]) # сохраняем pvalue"
   ]
  },
  {
   "cell_type": "code",
   "execution_count": 48,
   "id": "9318ff7d-f156-4a67-968d-2e7cb4af0477",
   "metadata": {},
   "outputs": [
    {
     "data": {
      "text/plain": [
       "[0.4246077948545297,\n",
       " 0.4042080051007312,\n",
       " 0.8949825051733448,\n",
       " 0.6068223122201739,\n",
       " 0.7688209417148324]"
      ]
     },
     "execution_count": 48,
     "metadata": {},
     "output_type": "execute_result"
    }
   ],
   "source": [
    "p_value_list[:5]"
   ]
  },
  {
   "cell_type": "code",
   "execution_count": 55,
   "id": "094d81dc-4e4d-4043-8613-c131cbdd5a53",
   "metadata": {},
   "outputs": [
    {
     "data": {
      "image/png": "[encoded data removed]",
      "text/plain": [
       "<Figure size 432x288 with 1 Axes>"
      ]
     },
     "metadata": {},
     "output_type": "display_data"
    }
   ],
   "source": [
    "plt.hist(p_value_list, bins = 50)\n",
    "plt.style.use('ggplot')\n",
    "plt.xlabel('pvalues')\n",
    "plt.ylabel('frequency')\n",
    "plt.title(\"Histogram of ttest A/A simulations \")\n",
    "plt.show()"
   ]
  },
  {
   "cell_type": "code",
   "execution_count": 57,
   "id": "08fde582-983b-4f7a-9756-d68f9d0e6403",
   "metadata": {},
   "outputs": [
    {
     "name": "stdout",
     "output_type": "stream",
     "text": [
      "False Positive Rate: 0.045\n"
     ]
    }
   ],
   "source": [
    "# Проверяем, что количество ложноположительных случаев не превышает альфа\n",
    "def fpr(p_value_list):\n",
    "    return sum(np.array(p_value_list) < .05) / simulations\n",
    "\n",
    "print(f'False Positive Rate: {fpr(p_value_list)}')"
   ]
  },
  {
   "cell_type": "code",
   "execution_count": null,
   "id": "1c00556f-903a-456d-b3d5-3eb606d10659",
   "metadata": {},
   "outputs": [],
   "source": []
  }
 ],
 "metadata": {
  "kernelspec": {
   "display_name": "Python 3 (ipykernel)",
   "language": "python",
   "name": "python3"
  },
  "language_info": {
   "codemirror_mode": {
    "name": "ipython",
    "version": 3
   },
   "file_extension": ".py",
   "mimetype": "text/x-python",
   "name": "python",
   "nbconvert_exporter": "python",
   "pygments_lexer": "ipython3",
   "version": "3.9.6"
  }
 },
 "nbformat": 4,
 "nbformat_minor": 5
}
