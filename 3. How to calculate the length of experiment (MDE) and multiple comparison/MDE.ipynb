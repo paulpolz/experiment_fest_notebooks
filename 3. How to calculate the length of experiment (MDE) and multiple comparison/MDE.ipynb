{
 "cells": [
  {
   "cell_type": "markdown",
   "id": "9acb322f-8e2d-4edc-8c66-747f63820ec1",
   "metadata": {},
   "source": [
    "# Прогноз времени на эксперимент\n",
    "- Способы определения объема выборки для A/B-тестов\n",
    "- Мощность эксперимента"
   ]
  },
  {
   "cell_type": "markdown",
   "id": "5054fbb6-1a2b-4844-9f13-563c5dfc944a",
   "metadata": {},
   "source": [
    "## 2 способа определения необходимого времени на эксперимент\n",
    "- Fixed Horizon\n",
    "    - Простая реализация. Высокая ошибка ранней остановки\n",
    "- Sequential testing\n",
    "    - Сложная реализация. Оптимизация «проблемы погдлядывания»"
   ]
  },
  {
   "cell_type": "markdown",
   "id": "d0115f9b-5614-4fcb-921a-5633c5e9d982",
   "metadata": {},
   "source": [
    "### Fixed Horizon\n",
    "1. Заранее рассчитали требуемую выборку\n",
    "    - для этого нам надо знать\n",
    "        - Мощность TP\n",
    "        - Уровень значимости TN\n",
    "        - Минимально допустимый эффект MDE\n",
    "2. Накопили достаточно статистики\n",
    "3. Посчитали стат. критерий и определили p-value\n",
    "4. Сделали вывод о возможности отвергнуть нулевую гипотезу"
   ]
  },
  {
   "cell_type": "markdown",
   "id": "9024672b-a4e1-4059-9ad0-1d011469db73",
   "metadata": {},
   "source": [
    "#### Уровень значимости\n",
    "Ошибка I рода<br>\n",
    "Показывает вероятность ошибочно отвергнуть нулевую гипотезу и зафиксировать эффект как значимый\n",
    "> Ложноположительный эффект (False Positive)"
   ]
  },
  {
   "cell_type": "markdown",
   "id": "720d3ebf-c776-41ad-90ca-31c9c7fbca73",
   "metadata": {},
   "source": [
    "#### Мощность (чувствительность)\n",
    "Ошибка II рода<br>\n",
    "Показывает вероятность ошибочно принять нулевую гипотезу об отсутствии значимого эффекта\n",
    "> Ложноотрицательный эффект (False Negative)"
   ]
  },
  {
   "cell_type": "markdown",
   "id": "74cdd4d8-54d7-47bc-87d2-8098ca40d1fd",
   "metadata": {},
   "source": [
    "##### Помимо MDE также еще учитывают Lift и ES (Effect Size)\n",
    "\n",
    "##### Lift\n",
    "Показывает на сколько процентов выросла метрика\n",
    "<br><br>\n",
    "$$\n",
    "\\frac{Test-Control}{Control}\n",
    "$$\n",
    "\n",
    "##### Effect Size\n",
    "Степень отклонения наблюдаемых значений от тех, которые можно было бы наблюдать при отсутствии эффекта\n",
    "<br><br>\n",
    "$$\n",
    "\\frac{Y_{test}-Y_{control}}{\\sigma}\n",
    "$$\n",
    "<br>\n",
    "где \n",
    "$$\n",
    "\\sigma=\\frac{\\sigma_{test}+\\sigma_{control}}{2}\n",
    "$$"
   ]
  },
  {
   "cell_type": "markdown",
   "id": "a71f39c8-2c67-4602-80fb-81c6257e0966",
   "metadata": {},
   "source": [
    "#### Минимально допустимый эффект (MDE)\n",
    "Изменения метрики *(абсолютные/относительные)*, которые мы бы хотели увидеть с заданными порогами ошибок I и II рода<br>\n",
    "Наименьший истинный эффект полученный от изменений, который имеет определенный уровень стат. мощности для определенного уровня стат. значимости с учетом определенного критерия \n",
    "- MDE рассчитывается для каждого стат. критерия по своей формуле\n",
    "    - Исключение только непараметрические критерии\n",
    "    - Поскольку для расчета MDE используется дисперсия, для каждого распределения она будет немного изменять формулу. А в непараметрике используются ранги, которые в целом всегда одинаковы. Поэтому они не изменяют действующую формулу\n",
    "    \n",
    "###### Формула MDE для t-теста\n",
    "$$\n",
    "M*\\frac{S}{Y_c}\n",
    "$$\n",
    "где\n",
    "$$\n",
    "M = t_{alpha / 2} + t_{\\beta}\n",
    "$$\n",
    "<br>\n",
    "$$\n",
    "S = \\sqrt{\\frac{\\sigma_{test}^2}{n_{test}} + \\frac{\\sigma_{conrol}^2}{n_{control}}}\n",
    "$$"
   ]
  },
  {
   "cell_type": "markdown",
   "id": "12a9a42d-7c21-4638-9136-2c0ab868cdcc",
   "metadata": {},
   "source": [
    "#### Как считать N?\n",
    "Можно сделать это на основе предрасчитанного Effect Size (размера эффекта при отсутствии эффекта)\n",
    "- Формула работает для сбалансированных выборок 50/50. Поэтому идет умножение на 2, чтобы получить объем двух выборок. Для других сплитов используются модификации этой формулы\n",
    "- В Effect Size подставляется абсолютное значение, а не проценты\n",
    "<br><br>\n",
    "$$\n",
    "n = 2 * (t_{\\alpha/2} + t_{\\beta})^2 * \\frac{\\sigma^2}{Effect Size^2}\n",
    "$$"
   ]
  },
  {
   "cell_type": "markdown",
   "id": "e6202451-3782-4f68-a8fb-d25b0c075843",
   "metadata": {},
   "source": [
    "#### Как интерпретировать MDE\n",
    "- Сравниваем Lift по метрике и MDE\n",
    "    - Если Lift меньше MDE (при $p-value$ < $alpha$), то мы не можем принять этот эффект. Поскольку фактический эффект ниже того, что мы реально можем задетектировать\n",
    "    - Если Lift больше MDE (при $p-value$ < $alpha$), то мы принимаем этот эффект.\n",
    "    \n",
    "> Если $p-value$ > $alpha$, то это не означает отсутствие эффекта. Эффект может быть, но больше чем MDE"
   ]
  },
  {
   "cell_type": "code",
   "execution_count": 545,
   "id": "7f205fde-3e56-421c-b9f8-980b3dedc5c2",
   "metadata": {},
   "outputs": [],
   "source": [
    "import pandas as pd\n",
    "import numpy as np\n",
    "\n",
    "import datetime as dt\n",
    "import math\n",
    "\n",
    "import statsmodels.stats.power as smp\n",
    "import scipy.stats as sts\n",
    "\n",
    "import matplotlib.pyplot as plt\n",
    "import seaborn as sns\n",
    "plt.style.use('ggplot')\n",
    "\n",
    "from tqdm.auto import tqdm"
   ]
  },
  {
   "cell_type": "markdown",
   "id": "4ef3d2c9-d6fa-49e9-98e8-d4b5ef5e7051",
   "metadata": {},
   "source": [
    "### Для каждого стат. критерия существует своя функция MDE\n",
    "В эту функцию вносятся 3 любые переменные, чтобы получить четвертую\n",
    "##### Параметры\n",
    "- alpha\n",
    "- power\n",
    "- nobs1 (кол-во наблюдений 1 группы; кол-во наблюдений 2 группы задается как доля в ratio)\n",
    "- effect size\n",
    "- ratio (по умолчанию 1 для 1 sample; задается доля 2 группы относительно группы 1)"
   ]
  },
  {
   "cell_type": "code",
   "execution_count": 539,
   "id": "4aec97a8-ec10-4f27-8e05-0e2261fc533f",
   "metadata": {},
   "outputs": [
    {
     "name": "stdout",
     "output_type": "stream",
     "text": [
      "Px: 0.25, Py: 0.30\n"
     ]
    }
   ],
   "source": [
    "# Пример для z-теста для пропорций\n",
    "\n",
    "ax = 312\n",
    "ay = 487\n",
    "nx = 1234\n",
    "ny = 1646\n",
    "\n",
    "px = ax/nx\n",
    "py = ay/ny\n",
    "\n",
    "alpha = .05\n",
    "power = .8\n",
    "\n",
    "print(f'Px: {px:.2f}, Py: {py:.2f}')"
   ]
  },
  {
   "cell_type": "code",
   "execution_count": 540,
   "id": "d2556abf-1ce9-47f4-8021-462d4a54c8f6",
   "metadata": {},
   "outputs": [
    {
     "name": "stdout",
     "output_type": "stream",
     "text": [
      "effect_size: 0.1055\n"
     ]
    }
   ],
   "source": [
    "effect_size = smp.zt_ind_solve_power(\n",
    "    alpha=alpha,\n",
    "    power=power,\n",
    "    nobs1=nx,\n",
    "    ratio=ny/nx\n",
    ")\n",
    "print(f'effect_size: {effect_size:.4f}')"
   ]
  },
  {
   "cell_type": "code",
   "execution_count": 541,
   "id": "1c4b474d-5fb9-40a7-a319-6cf36a2d810f",
   "metadata": {},
   "outputs": [
    {
     "name": "stdout",
     "output_type": "stream",
     "text": [
      "nobs1: 1233.8556\n"
     ]
    }
   ],
   "source": [
    "nobs1 = smp.zt_ind_solve_power(\n",
    "    alpha=alpha,\n",
    "    power=power,\n",
    "    effect_size=0.1055,\n",
    "    ratio=ny/nx\n",
    ")\n",
    "print(f'nobs1: {nobs1:.4f}')"
   ]
  },
  {
   "cell_type": "code",
   "execution_count": 542,
   "id": "13f36d5d-1629-4203-a8f4-265ad333bf1f",
   "metadata": {},
   "outputs": [
    {
     "name": "stdout",
     "output_type": "stream",
     "text": [
      "power: 0.8000\n"
     ]
    }
   ],
   "source": [
    "power = smp.zt_ind_solve_power(\n",
    "    alpha=alpha,\n",
    "    effect_size=0.1055,\n",
    "    nobs1=nx,\n",
    "    ratio=ny/nx\n",
    ")\n",
    "print(f'power: {power:.4f}')"
   ]
  },
  {
   "cell_type": "markdown",
   "id": "e0afa19e-ffd5-4884-9cd3-3aefe0eadec1",
   "metadata": {},
   "source": [
    "#### Как изменяется параметр effect_size в зависимости от увеличения объема выборки?\n",
    "- Посмотрим на примере t-теста"
   ]
  },
  {
   "cell_type": "code",
   "execution_count": 543,
   "id": "3c7e903e-14e4-4ee4-ad94-c8f9517cce4e",
   "metadata": {},
   "outputs": [
    {
     "name": "stderr",
     "output_type": "stream",
     "text": [
      "100%|██████████████████████████████████████| 9990/9990 [00:52<00:00, 188.87it/s]\n"
     ]
    }
   ],
   "source": [
    "effect_size = []\n",
    "\n",
    "for n in tqdm(range(10, 10000)):\n",
    "    es = smp.tt_ind_solve_power(\n",
    "        alpha=.05,\n",
    "        power=.08,\n",
    "        nobs1=n\n",
    "    )\n",
    "    effect_size.append(es)"
   ]
  },
  {
   "cell_type": "code",
   "execution_count": 544,
   "id": "a911e091-6c21-4487-af69-51e359756ffb",
   "metadata": {},
   "outputs": [
    {
     "data": {
      "image/png": "[encoded data removed]",
      "text/plain": [
       "<Figure size 1008x432 with 1 Axes>"
      ]
     },
     "metadata": {},
     "output_type": "display_data"
    }
   ],
   "source": [
    "plt.figure(figsize=(14,6))\n",
    "viz = sns.lineplot(x=range(10,10000), y=effect_size)\n",
    "viz.set_xlabel(\"Sample Size\")\n",
    "viz.set_ylabel(\"Effect Size\");"
   ]
  },
  {
   "cell_type": "markdown",
   "id": "a6a754c1-8345-465e-9c7b-6b4250f27325",
   "metadata": {},
   "source": [
    "#### Как еще можно определять effect_size для t-теста и на его основе кол-во наблюдений?"
   ]
  },
  {
   "cell_type": "code",
   "execution_count": null,
   "id": "e9897e44-d031-4560-8271-35d14feac0ac",
   "metadata": {},
   "outputs": [],
   "source": [
    "mean = 2021.989 # рассчитанное среднее за 2-5 недель\n",
    "se = 2425.011 # рассчитанное стандартное отклонение за тот же период\n",
    "\n",
    "power = 0.9\n",
    "alpha = 0.005\n",
    "\n",
    "lift = 0.1 # хотим увидеть 10% изменение в метрику\n",
    "effect_size = mean / se * lift \n",
    "print(effect_size)"
   ]
  },
  {
   "cell_type": "code",
   "execution_count": null,
   "id": "c91d08a1-0f7e-425a-8a31-69c60f6ed0c9",
   "metadata": {},
   "outputs": [],
   "source": [
    "# Результат – наблюдения на одну выборку (соотвественно, умножаем на 2)\n",
    "n = smp.tt_ind_solve_power(\n",
    "    effect_size=effect_size, \n",
    "    alpha=alpha, \n",
    "    power=power, \n",
    "    nobs1=None, # искомую величину можно определять как None\n",
    "    ratio=1\n",
    ")\n",
    "print(f'Кол-во наблюдений на каждую группу: {n:.2f}')"
   ]
  },
  {
   "cell_type": "markdown",
   "id": "82bfa57b-d928-4b02-bd99-f7ed97c1de56",
   "metadata": {},
   "source": [
    "## Рассчитаем MDE фактический и по ходу эксперимента"
   ]
  },
  {
   "cell_type": "markdown",
   "id": "bb046f2a-a1b5-4673-b185-a948e9ad14b3",
   "metadata": {},
   "source": [
    "#### Сгенерим данные"
   ]
  },
  {
   "cell_type": "code",
   "execution_count": 546,
   "id": "0a7105cc-7acb-4a91-9991-8d22a6fb030a",
   "metadata": {},
   "outputs": [],
   "source": [
    "def data_gen(l, n, k):\n",
    "    \"\"\"\n",
    "        l: длительность эксперимента\n",
    "        n: кол-во юзеров\n",
    "        k: коэффициент увеличения группы 2\n",
    "    \"\"\"\n",
    "\n",
    "    # Временной период\n",
    "    days = []\n",
    "    for day in range(1,l+1):\n",
    "        days.append((dt.datetime.today() - dt.timedelta(days=day)).strftime('%Y-%m-%d'))\n",
    "    \n",
    "    # Пользователи\n",
    "    count = n\n",
    "    users = []\n",
    "    for user in np.random.randint(10000,90000,count):\n",
    "        user_id = hash(user)\n",
    "        users.append(user_id)\n",
    "    \n",
    "    # Объедине юзеров по дням\n",
    "    days_df = pd.DataFrame(days).rename(columns={0:'date'})\n",
    "    users_df = pd.DataFrame(users).rename(columns={0:'user_id'})\n",
    "    \n",
    "    traffic = days_df.merge(\n",
    "        users_df,\n",
    "        how='cross'\n",
    "    )\n",
    "    \n",
    "    # Генерация метрики\n",
    "    metrics = []\n",
    "    for user in users:\n",
    "        user_metrics = np.random.exponential(10,14)\n",
    "        metrics.append(user_metrics)\n",
    "    \n",
    "    metric = pd.DataFrame(pd.Series(metrics).explode()).rename(columns={0:'metric'})\n",
    "\n",
    "    # Объединение метрики и трафика\n",
    "    data = pd.concat([traffic, metric.set_index(traffic.index)], axis=1)\n",
    "\n",
    "    # Сплитование юзеров\n",
    "    split = []\n",
    "    for user in users:\n",
    "        group = np.random.randint(1,3)\n",
    "        split.append(group)\n",
    "    \n",
    "    splits = pd.concat(\\\n",
    "        [pd.DataFrame(users).rename(columns={0:'user_id'}), \\\n",
    "         pd.DataFrame(split).rename(columns={0:'split'})], axis=1)\n",
    "    \n",
    "    # Финальная сборка\n",
    "    data = data.merge(\n",
    "        splits,\n",
    "        how='left',\n",
    "        left_on='user_id',\n",
    "        right_on='user_id'\n",
    "    )\n",
    "    \n",
    "    data.loc[data.split == 2, 'metric'] = data.loc[data.split == 2, 'metric'] * k\n",
    "    \n",
    "    return data"
   ]
  },
  {
   "cell_type": "code",
   "execution_count": 547,
   "id": "215fecc8-f8a7-4a83-98b6-7e087190e618",
   "metadata": {},
   "outputs": [],
   "source": [
    "data = data_gen(n=6000, l=14, k=1.1)"
   ]
  },
  {
   "cell_type": "code",
   "execution_count": 548,
   "id": "bde7f6fd-d8d6-49de-95fd-e33117af7235",
   "metadata": {},
   "outputs": [
    {
     "data": {
      "text/html": [
       "<div>\n",
       "<style scoped>\n",
       "    .dataframe tbody tr th:only-of-type {\n",
       "        vertical-align: middle;\n",
       "    }\n",
       "\n",
       "    .dataframe tbody tr th {\n",
       "        vertical-align: top;\n",
       "    }\n",
       "\n",
       "    .dataframe thead th {\n",
       "        text-align: right;\n",
       "    }\n",
       "</style>\n",
       "<table border=\"1\" class=\"dataframe\">\n",
       "  <thead>\n",
       "    <tr style=\"text-align: right;\">\n",
       "      <th></th>\n",
       "      <th>date</th>\n",
       "      <th>user_id</th>\n",
       "      <th>metric</th>\n",
       "      <th>split</th>\n",
       "    </tr>\n",
       "  </thead>\n",
       "  <tbody>\n",
       "    <tr>\n",
       "      <th>0</th>\n",
       "      <td>2022-05-02</td>\n",
       "      <td>26423</td>\n",
       "      <td>10.42539</td>\n",
       "      <td>2</td>\n",
       "    </tr>\n",
       "    <tr>\n",
       "      <th>1</th>\n",
       "      <td>2022-05-02</td>\n",
       "      <td>81448</td>\n",
       "      <td>12.057332</td>\n",
       "      <td>2</td>\n",
       "    </tr>\n",
       "    <tr>\n",
       "      <th>2</th>\n",
       "      <td>2022-05-02</td>\n",
       "      <td>50665</td>\n",
       "      <td>0.347365</td>\n",
       "      <td>2</td>\n",
       "    </tr>\n",
       "    <tr>\n",
       "      <th>3</th>\n",
       "      <td>2022-05-02</td>\n",
       "      <td>30517</td>\n",
       "      <td>4.487563</td>\n",
       "      <td>1</td>\n",
       "    </tr>\n",
       "    <tr>\n",
       "      <th>4</th>\n",
       "      <td>2022-05-02</td>\n",
       "      <td>60113</td>\n",
       "      <td>1.380934</td>\n",
       "      <td>1</td>\n",
       "    </tr>\n",
       "  </tbody>\n",
       "</table>\n",
       "</div>"
      ],
      "text/plain": [
       "         date  user_id     metric  split\n",
       "0  2022-05-02    26423   10.42539      2\n",
       "1  2022-05-02    81448  12.057332      2\n",
       "2  2022-05-02    50665   0.347365      2\n",
       "3  2022-05-02    30517   4.487563      1\n",
       "4  2022-05-02    60113   1.380934      1"
      ]
     },
     "execution_count": 548,
     "metadata": {},
     "output_type": "execute_result"
    }
   ],
   "source": [
    "data.head()"
   ]
  },
  {
   "cell_type": "markdown",
   "id": "bd6451be-49d4-4e52-9ddc-6f9da3960a96",
   "metadata": {},
   "source": [
    "#### Расчет MDE по факту проведения эксперимента"
   ]
  },
  {
   "cell_type": "markdown",
   "id": "d6d19389-c680-4ccb-8a9d-5c5125080717",
   "metadata": {},
   "source": [
    "##### Этап 1. Расчитаем статистики"
   ]
  },
  {
   "cell_type": "code",
   "execution_count": null,
   "id": "83756627-dd8a-40d7-be51-39b26abb42c8",
   "metadata": {},
   "outputs": [],
   "source": [
    "alpha = .05\n",
    "power = .8\n",
    "\n",
    "data_stats = data.groupby(['split']).agg({'metric': ['count', 'sum', 'mean', 'std']})\n",
    "data_stats"
   ]
  },
  {
   "cell_type": "markdown",
   "id": "5b93ddc0-5662-4716-abcb-bfe5c5e2ebb0",
   "metadata": {},
   "source": [
    "##### Этап 2. Рассчитаем MDE\n",
    "- В данном примере p_value получился ниже 0.05\n",
    "- А MDE значительно ниже лифта\n",
    "- Поэтому мы можем зафиксировать получившийся эффект как стат. значимый и отвергнуть нулевую гипотезу"
   ]
  },
  {
   "cell_type": "code",
   "execution_count": 520,
   "id": "e2bfd36e-377e-4ef3-9f3e-dc3f5e2d4d73",
   "metadata": {},
   "outputs": [
    {
     "data": {
      "text/html": [
       "<div>\n",
       "<style scoped>\n",
       "    .dataframe tbody tr th:only-of-type {\n",
       "        vertical-align: middle;\n",
       "    }\n",
       "\n",
       "    .dataframe tbody tr th {\n",
       "        vertical-align: top;\n",
       "    }\n",
       "\n",
       "    .dataframe thead tr th {\n",
       "        text-align: left;\n",
       "    }\n",
       "\n",
       "    .dataframe thead tr:last-of-type th {\n",
       "        text-align: right;\n",
       "    }\n",
       "</style>\n",
       "<table border=\"1\" class=\"dataframe\">\n",
       "  <thead>\n",
       "    <tr>\n",
       "      <th></th>\n",
       "      <th></th>\n",
       "      <th colspan=\"4\" halign=\"left\">metric</th>\n",
       "      <th>p_value</th>\n",
       "      <th>lift</th>\n",
       "      <th>effect_size</th>\n",
       "      <th>mde</th>\n",
       "      <th>n_need</th>\n",
       "    </tr>\n",
       "    <tr>\n",
       "      <th></th>\n",
       "      <th></th>\n",
       "      <th>count</th>\n",
       "      <th>sum</th>\n",
       "      <th>mean</th>\n",
       "      <th>std</th>\n",
       "      <th></th>\n",
       "      <th></th>\n",
       "      <th></th>\n",
       "      <th></th>\n",
       "      <th></th>\n",
       "    </tr>\n",
       "    <tr>\n",
       "      <th>date</th>\n",
       "      <th>split</th>\n",
       "      <th></th>\n",
       "      <th></th>\n",
       "      <th></th>\n",
       "      <th></th>\n",
       "      <th></th>\n",
       "      <th></th>\n",
       "      <th></th>\n",
       "      <th></th>\n",
       "      <th></th>\n",
       "    </tr>\n",
       "  </thead>\n",
       "  <tbody>\n",
       "    <tr>\n",
       "      <th rowspan=\"2\" valign=\"top\">2022-04-08</th>\n",
       "      <th>1</th>\n",
       "      <td>3153</td>\n",
       "      <td>31475.004931</td>\n",
       "      <td>9.982558</td>\n",
       "      <td>9.922249</td>\n",
       "      <td>0.000636</td>\n",
       "      <td>-0.083396</td>\n",
       "      <td>0.081227</td>\n",
       "      <td>0.068099</td>\n",
       "      <td>2324.751317</td>\n",
       "    </tr>\n",
       "    <tr>\n",
       "      <th>2</th>\n",
       "      <td>3307</td>\n",
       "      <td>35941.724406</td>\n",
       "      <td>10.868378</td>\n",
       "      <td>11.158529</td>\n",
       "      <td>0.000636</td>\n",
       "      <td>-0.083396</td>\n",
       "      <td>0.081227</td>\n",
       "      <td>0.068099</td>\n",
       "      <td>2324.751317</td>\n",
       "    </tr>\n",
       "    <tr>\n",
       "      <th rowspan=\"2\" valign=\"top\">2022-04-09</th>\n",
       "      <th>1</th>\n",
       "      <td>3153</td>\n",
       "      <td>31410.188217</td>\n",
       "      <td>9.962001</td>\n",
       "      <td>10.152343</td>\n",
       "      <td>0.000636</td>\n",
       "      <td>-0.083396</td>\n",
       "      <td>0.081227</td>\n",
       "      <td>0.068099</td>\n",
       "      <td>2324.751317</td>\n",
       "    </tr>\n",
       "    <tr>\n",
       "      <th>2</th>\n",
       "      <td>3307</td>\n",
       "      <td>36289.429145</td>\n",
       "      <td>10.973520</td>\n",
       "      <td>10.603422</td>\n",
       "      <td>0.000636</td>\n",
       "      <td>-0.083396</td>\n",
       "      <td>0.081227</td>\n",
       "      <td>0.068099</td>\n",
       "      <td>2324.751317</td>\n",
       "    </tr>\n",
       "    <tr>\n",
       "      <th>2022-04-10</th>\n",
       "      <th>1</th>\n",
       "      <td>3153</td>\n",
       "      <td>31247.561879</td>\n",
       "      <td>9.910422</td>\n",
       "      <td>9.814650</td>\n",
       "      <td>0.000636</td>\n",
       "      <td>-0.083396</td>\n",
       "      <td>0.081227</td>\n",
       "      <td>0.068099</td>\n",
       "      <td>2324.751317</td>\n",
       "    </tr>\n",
       "  </tbody>\n",
       "</table>\n",
       "</div>"
      ],
      "text/plain": [
       "                 metric                                       p_value  \\\n",
       "                  count           sum       mean        std             \n",
       "date       split                                                        \n",
       "2022-04-08 1       3153  31475.004931   9.982558   9.922249  0.000636   \n",
       "           2       3307  35941.724406  10.868378  11.158529  0.000636   \n",
       "2022-04-09 1       3153  31410.188217   9.962001  10.152343  0.000636   \n",
       "           2       3307  36289.429145  10.973520  10.603422  0.000636   \n",
       "2022-04-10 1       3153  31247.561879   9.910422   9.814650  0.000636   \n",
       "\n",
       "                      lift effect_size       mde       n_need  \n",
       "                                                               \n",
       "date       split                                               \n",
       "2022-04-08 1     -0.083396    0.081227  0.068099  2324.751317  \n",
       "           2     -0.083396    0.081227  0.068099  2324.751317  \n",
       "2022-04-09 1     -0.083396    0.081227  0.068099  2324.751317  \n",
       "           2     -0.083396    0.081227  0.068099  2324.751317  \n",
       "2022-04-10 1     -0.083396    0.081227  0.068099  2324.751317  "
      ]
     },
     "execution_count": 520,
     "metadata": {},
     "output_type": "execute_result"
    }
   ],
   "source": [
    "# Рассчтаем стат. критерий на основе статистик\n",
    "t_stats, p_value = \\\n",
    "sts.ttest_ind_from_stats(\n",
    "    mean1 = data_stats.metric['mean'][1],\n",
    "    std1 = data_stats.metric['std'][1],\n",
    "    nobs1 = data_stats.metric['count'][1],\n",
    "    mean2 = data_stats.metric['mean'][2],\n",
    "    std2 = data_stats.metric['std'][2],\n",
    "    nobs2 = data_stats.metric['count'][2],\n",
    "    equal_var = False\n",
    ")\n",
    "\n",
    "data_stats['p_value'] = p_value\n",
    "\n",
    "# Lift\n",
    "data_stats['lift'] = (data_stats.metric['mean'][2] - data_stats.metric['mean'][1]) / data_stats.metric['mean'][1]\n",
    "# Effect Size\n",
    "data_stats['effect_size'] = abs(data_stats.metric['mean'][1] / data_stats.metric['std'][1] * data_stats['lift'])\n",
    "\n",
    "data_stats['mde'] = smp.tt_ind_solve_power(\n",
    "    alpha=alpha,\n",
    "    power=power,\n",
    "    nobs1=data_stats.metric['count'][1],\n",
    "    ratio=data_stats.metric['count'][1]/data_stats.metric['count'][2]\n",
    ")\n",
    "\n",
    "data_stats['n_need'] = smp.tt_ind_solve_power(\n",
    "    alpha=alpha,\n",
    "    power=power,\n",
    "    effect_size=data_stats['effect_size'][1],\n",
    "    ratio=data_stats.metric['count'][1]/data_stats.metric['count'][2]\n",
    ")\n",
    "\n",
    "data_stats.head()"
   ]
  },
  {
   "cell_type": "code",
   "execution_count": 532,
   "id": "7d265e05-f845-467d-b914-220b66bafc2b",
   "metadata": {},
   "outputs": [
    {
     "data": {
      "text/plain": [
       "Ttest_indResult(statistic=-14.368350180846953, pvalue=9.206667667688654e-47)"
      ]
     },
     "execution_count": 532,
     "metadata": {},
     "output_type": "execute_result"
    }
   ],
   "source": [
    "# ttest_ind_from_stats - это функция расчета t теста из агрегированных данных. \n",
    "# Результат примерно такой же как и с обычным тестом\n",
    "sts.ttest_ind(\n",
    "    data[data.split == 1].metric,\n",
    "    data[data.split == 2].metric\n",
    ")"
   ]
  },
  {
   "cell_type": "markdown",
   "id": "8b83b32a-93b3-43c0-aafb-2129511ef739",
   "metadata": {},
   "source": [
    "### Рассчитаем MDE по ходу эксперимента"
   ]
  },
  {
   "cell_type": "markdown",
   "id": "f9a06907-02cc-401f-bb30-58ac30f364db",
   "metadata": {},
   "source": [
    "##### Этап 1. Сделаем расчет"
   ]
  },
  {
   "cell_type": "code",
   "execution_count": null,
   "id": "aa89ab52-85f0-4d79-a62f-975c7fba54a8",
   "metadata": {},
   "outputs": [],
   "source": [
    "alpha = .05\n",
    "power = .8\n",
    "\n",
    "dates = list(set(data.date))\n",
    "\n",
    "try:\n",
    "    del data_daily_stats\n",
    "except:\n",
    "    pass\n",
    "    \n",
    "for date in dates:\n",
    "    # Расчитаем статистики\n",
    "\n",
    "    try:\n",
    "        data_daily_stats.sample(1)\n",
    "        data_daily_stats_row = data[data.date <= date].\\\n",
    "                    groupby(['split']).agg({'metric': ['count', 'sum', 'mean', 'std']})\n",
    "        \n",
    "        data_daily_stats_row['date'] = date\n",
    "        \n",
    "        data_daily_stats = pd.concat([data_daily_stats, data_daily_stats_row])\n",
    "        \n",
    "    except:\n",
    "        data_daily_stats = data[data.date <= date].\\\n",
    "                    groupby(['split']).agg({'metric': ['count', 'sum', 'mean', 'std']})\n",
    "    \n",
    "        data_daily_stats['date'] = date\n",
    "        \n",
    "data_daily_stats = data_daily_stats.sort_values(by=['date', 'split'])\n",
    "data_daily_stats.head()"
   ]
  },
  {
   "cell_type": "markdown",
   "id": "ad30c133-18d2-4570-8647-f0c614173957",
   "metadata": {},
   "source": [
    "##### Этап 2. Рассчитаем MDE"
   ]
  },
  {
   "cell_type": "code",
   "execution_count": 506,
   "id": "9cae0cc3-e93a-4f8f-9ec4-36aa5b34f29e",
   "metadata": {},
   "outputs": [],
   "source": [
    "p_value_list = []\n",
    "lift_list = []\n",
    "es_list = []\n",
    "mde_list = []\n",
    "n_need_list = []\n",
    "\n",
    "for date in dates:\n",
    "    \n",
    "    # Рассчтаем стат. критерий на основе статистик\n",
    "    t_stats, p_value = \\\n",
    "    sts.ttest_ind_from_stats(\n",
    "        mean1 = data_daily_stats[data_daily_stats.date == date].metric['mean'][1],\n",
    "        std1 = data_daily_stats[data_daily_stats.date == date].metric['std'][1],\n",
    "        nobs1 = data_daily_stats[data_daily_stats.date == date].metric['count'][1],\n",
    "        mean2 = data_daily_stats[data_daily_stats.date == date].metric['mean'][2],\n",
    "        std2 = data_daily_stats[data_daily_stats.date == date].metric['std'][2],\n",
    "        nobs2 = data_daily_stats[data_daily_stats.date == date].metric['count'][2],\n",
    "        equal_var = False\n",
    "    )\n",
    "    p_value_list.append(p_value)\n",
    "\n",
    "    # Lift\n",
    "    lift = (data_daily_stats[data_daily_stats.date == date].metric['mean'][2] - data_daily_stats[data_daily_stats.date == date].metric['mean'][1]) / data_daily_stats[data_daily_stats.date == date].metric['mean'][1]\n",
    "    # Effect Size\n",
    "    effect_size = abs(data_daily_stats[data_daily_stats.date == date].metric['mean'][1] / data_daily_stats[data_daily_stats.date == date].metric['std'][1] * lift)\n",
    "\n",
    "    lift_list.append(lift)\n",
    "    es_list.append(effect_size)\n",
    "    \n",
    "    mde = smp.tt_ind_solve_power(\n",
    "        alpha=alpha,\n",
    "        power=power,\n",
    "        nobs1=data_daily_stats[data_daily_stats.date == date].metric['count'][1],\n",
    "        ratio=data_daily_stats[data_daily_stats.date == date].metric['count'][1]/data_daily_stats[data_daily_stats.date == date].metric['count'][2]\n",
    "    )\n",
    "    \n",
    "    mde_list.append(mde)\n",
    "\n",
    "    n_need = smp.tt_ind_solve_power(\n",
    "        alpha=alpha,\n",
    "        power=power,\n",
    "        effect_size=effect_size,\n",
    "        ratio=data_daily_stats[data_daily_stats.date == date].metric['count'][1]/data_daily_stats[data_daily_stats.date == date].metric['count'][2]\n",
    "    )\n",
    "\n",
    "    n_need_list.append(n_need)\n",
    "    \n",
    "result_stats = pd.DataFrame({\n",
    "    'date': dates,\n",
    "    'p_value': p_value_list,\n",
    "    'lift': lift_list,\n",
    "    'effect size': es_list,\n",
    "    'mde': mde_list,\n",
    "    'n_need': n_need_list,  \n",
    "}).sort_values(by='date')"
   ]
  },
  {
   "cell_type": "code",
   "execution_count": 507,
   "id": "9fce8d73-6b32-470c-bcaf-bd673bcb6d7d",
   "metadata": {},
   "outputs": [
    {
     "data": {
      "text/html": [
       "<div>\n",
       "<style scoped>\n",
       "    .dataframe tbody tr th:only-of-type {\n",
       "        vertical-align: middle;\n",
       "    }\n",
       "\n",
       "    .dataframe tbody tr th {\n",
       "        vertical-align: top;\n",
       "    }\n",
       "\n",
       "    .dataframe thead th {\n",
       "        text-align: right;\n",
       "    }\n",
       "</style>\n",
       "<table border=\"1\" class=\"dataframe\">\n",
       "  <thead>\n",
       "    <tr style=\"text-align: right;\">\n",
       "      <th></th>\n",
       "      <th>date</th>\n",
       "      <th>p_value</th>\n",
       "      <th>lift</th>\n",
       "      <th>effect size</th>\n",
       "      <th>mde</th>\n",
       "      <th>n_need</th>\n",
       "    </tr>\n",
       "  </thead>\n",
       "  <tbody>\n",
       "    <tr>\n",
       "      <th>9</th>\n",
       "      <td>2022-04-08</td>\n",
       "      <td>7.417310e-04</td>\n",
       "      <td>0.088737</td>\n",
       "      <td>0.089276</td>\n",
       "      <td>0.071427</td>\n",
       "      <td>2018.629069</td>\n",
       "    </tr>\n",
       "    <tr>\n",
       "      <th>12</th>\n",
       "      <td>2022-04-09</td>\n",
       "      <td>2.594183e-07</td>\n",
       "      <td>0.095131</td>\n",
       "      <td>0.094516</td>\n",
       "      <td>0.050505</td>\n",
       "      <td>1801.129378</td>\n",
       "    </tr>\n",
       "    <tr>\n",
       "      <th>4</th>\n",
       "      <td>2022-04-10</td>\n",
       "      <td>7.078555e-13</td>\n",
       "      <td>0.108332</td>\n",
       "      <td>0.108208</td>\n",
       "      <td>0.041235</td>\n",
       "      <td>1374.375774</td>\n",
       "    </tr>\n",
       "    <tr>\n",
       "      <th>1</th>\n",
       "      <td>2022-04-11</td>\n",
       "      <td>1.771056e-13</td>\n",
       "      <td>0.095406</td>\n",
       "      <td>0.095623</td>\n",
       "      <td>0.035709</td>\n",
       "      <td>1759.685496</td>\n",
       "    </tr>\n",
       "    <tr>\n",
       "      <th>0</th>\n",
       "      <td>2022-04-12</td>\n",
       "      <td>6.908549e-17</td>\n",
       "      <td>0.096867</td>\n",
       "      <td>0.097005</td>\n",
       "      <td>0.031939</td>\n",
       "      <td>1709.915958</td>\n",
       "    </tr>\n",
       "    <tr>\n",
       "      <th>8</th>\n",
       "      <td>2022-04-13</td>\n",
       "      <td>5.425288e-19</td>\n",
       "      <td>0.094232</td>\n",
       "      <td>0.094574</td>\n",
       "      <td>0.029156</td>\n",
       "      <td>1798.906773</td>\n",
       "    </tr>\n",
       "    <tr>\n",
       "      <th>2</th>\n",
       "      <td>2022-04-14</td>\n",
       "      <td>2.455451e-22</td>\n",
       "      <td>0.095436</td>\n",
       "      <td>0.095734</td>\n",
       "      <td>0.026993</td>\n",
       "      <td>1755.597997</td>\n",
       "    </tr>\n",
       "    <tr>\n",
       "      <th>10</th>\n",
       "      <td>2022-04-15</td>\n",
       "      <td>8.728942e-26</td>\n",
       "      <td>0.096364</td>\n",
       "      <td>0.096780</td>\n",
       "      <td>0.025251</td>\n",
       "      <td>1717.873487</td>\n",
       "    </tr>\n",
       "    <tr>\n",
       "      <th>5</th>\n",
       "      <td>2022-04-16</td>\n",
       "      <td>2.862172e-28</td>\n",
       "      <td>0.095531</td>\n",
       "      <td>0.095822</td>\n",
       "      <td>0.023805</td>\n",
       "      <td>1752.375433</td>\n",
       "    </tr>\n",
       "    <tr>\n",
       "      <th>7</th>\n",
       "      <td>2022-04-17</td>\n",
       "      <td>8.400882e-30</td>\n",
       "      <td>0.093221</td>\n",
       "      <td>0.093475</td>\n",
       "      <td>0.022585</td>\n",
       "      <td>1841.427883</td>\n",
       "    </tr>\n",
       "    <tr>\n",
       "      <th>13</th>\n",
       "      <td>2022-04-18</td>\n",
       "      <td>2.301249e-34</td>\n",
       "      <td>0.095795</td>\n",
       "      <td>0.096105</td>\n",
       "      <td>0.021533</td>\n",
       "      <td>1742.090411</td>\n",
       "    </tr>\n",
       "    <tr>\n",
       "      <th>6</th>\n",
       "      <td>2022-04-19</td>\n",
       "      <td>1.131854e-36</td>\n",
       "      <td>0.094912</td>\n",
       "      <td>0.095154</td>\n",
       "      <td>0.020617</td>\n",
       "      <td>1777.039509</td>\n",
       "    </tr>\n",
       "    <tr>\n",
       "      <th>11</th>\n",
       "      <td>2022-04-20</td>\n",
       "      <td>3.412852e-43</td>\n",
       "      <td>0.099668</td>\n",
       "      <td>0.099912</td>\n",
       "      <td>0.019809</td>\n",
       "      <td>1611.920614</td>\n",
       "    </tr>\n",
       "    <tr>\n",
       "      <th>3</th>\n",
       "      <td>2022-04-21</td>\n",
       "      <td>5.681823e-47</td>\n",
       "      <td>0.100428</td>\n",
       "      <td>0.100739</td>\n",
       "      <td>0.019085</td>\n",
       "      <td>1585.571500</td>\n",
       "    </tr>\n",
       "  </tbody>\n",
       "</table>\n",
       "</div>"
      ],
      "text/plain": [
       "          date       p_value      lift  effect size       mde       n_need\n",
       "9   2022-04-08  7.417310e-04  0.088737     0.089276  0.071427  2018.629069\n",
       "12  2022-04-09  2.594183e-07  0.095131     0.094516  0.050505  1801.129378\n",
       "4   2022-04-10  7.078555e-13  0.108332     0.108208  0.041235  1374.375774\n",
       "1   2022-04-11  1.771056e-13  0.095406     0.095623  0.035709  1759.685496\n",
       "0   2022-04-12  6.908549e-17  0.096867     0.097005  0.031939  1709.915958\n",
       "8   2022-04-13  5.425288e-19  0.094232     0.094574  0.029156  1798.906773\n",
       "2   2022-04-14  2.455451e-22  0.095436     0.095734  0.026993  1755.597997\n",
       "10  2022-04-15  8.728942e-26  0.096364     0.096780  0.025251  1717.873487\n",
       "5   2022-04-16  2.862172e-28  0.095531     0.095822  0.023805  1752.375433\n",
       "7   2022-04-17  8.400882e-30  0.093221     0.093475  0.022585  1841.427883\n",
       "13  2022-04-18  2.301249e-34  0.095795     0.096105  0.021533  1742.090411\n",
       "6   2022-04-19  1.131854e-36  0.094912     0.095154  0.020617  1777.039509\n",
       "11  2022-04-20  3.412852e-43  0.099668     0.099912  0.019809  1611.920614\n",
       "3   2022-04-21  5.681823e-47  0.100428     0.100739  0.019085  1585.571500"
      ]
     },
     "execution_count": 507,
     "metadata": {},
     "output_type": "execute_result"
    }
   ],
   "source": [
    "result_stats"
   ]
  },
  {
   "cell_type": "code",
   "execution_count": 515,
   "id": "62eba05c-e6bd-4ea0-97ff-47a96760c129",
   "metadata": {},
   "outputs": [
    {
     "data": {
      "image/png": "[encoded data removed]",
      "text/plain": [
       "<Figure size 1152x288 with 1 Axes>"
      ]
     },
     "metadata": {},
     "output_type": "display_data"
    }
   ],
   "source": [
    "plt.figure(figsize=(16,4))\n",
    "sns.lineplot(\n",
    "    data=result_stats,\n",
    "    x='date',\n",
    "    y='p_value'\n",
    ").set(title='P Value');"
   ]
  },
  {
   "cell_type": "code",
   "execution_count": 531,
   "id": "415be78c-cf62-428f-9322-f6a999022bc2",
   "metadata": {},
   "outputs": [
    {
     "data": {
      "image/png": "[encoded data removed]",
      "text/plain": [
       "<Figure size 1152x288 with 1 Axes>"
      ]
     },
     "metadata": {},
     "output_type": "display_data"
    }
   ],
   "source": [
    "plt.figure(figsize=(16,4))\n",
    "sns.lineplot(\n",
    "    data=result_stats,\n",
    "    x='date',\n",
    "    y='mde',\n",
    "    label='MDE'\n",
    ").set(title='MDE and Lift comparison')\n",
    "sns.lineplot(\n",
    "    data=result_stats,\n",
    "    x='date',\n",
    "    y='lift',\n",
    "    label='Lift'\n",
    ")\n",
    "plt.legend();"
   ]
  },
  {
   "cell_type": "code",
   "execution_count": null,
   "id": "d0503784-5e96-47e7-bc17-94368b8eac6b",
   "metadata": {},
   "outputs": [],
   "source": []
  },
  {
   "cell_type": "code",
   "execution_count": null,
   "id": "64f9d39f-87d4-4428-88e0-e7aa011d8382",
   "metadata": {},
   "outputs": [],
   "source": []
  },
  {
   "cell_type": "code",
   "execution_count": null,
   "id": "6d66a0d4-b017-4c47-848a-e7d6c9a5cf98",
   "metadata": {},
   "outputs": [],
   "source": []
  },
  {
   "cell_type": "code",
   "execution_count": null,
   "id": "b08fc0aa-ab3f-4b8f-b657-c7a40e42bd0b",
   "metadata": {},
   "outputs": [],
   "source": []
  },
  {
   "cell_type": "code",
   "execution_count": null,
   "id": "ea151172-d940-441b-aafd-2a7c013240d8",
   "metadata": {},
   "outputs": [],
   "source": []
  },
  {
   "cell_type": "code",
   "execution_count": null,
   "id": "ba1181a9-3b36-4b34-8d11-d7feb3883e61",
   "metadata": {},
   "outputs": [],
   "source": []
  }
 ],
 "metadata": {
  "kernelspec": {
   "display_name": "Python 3 (ipykernel)",
   "language": "python",
   "name": "python3"
  },
  "language_info": {
   "codemirror_mode": {
    "name": "ipython",
    "version": 3
   },
   "file_extension": ".py",
   "mimetype": "text/x-python",
   "name": "python",
   "nbconvert_exporter": "python",
   "pygments_lexer": "ipython3",
   "version": "3.9.6"
  }
 },
 "nbformat": 4,
 "nbformat_minor": 5
}
