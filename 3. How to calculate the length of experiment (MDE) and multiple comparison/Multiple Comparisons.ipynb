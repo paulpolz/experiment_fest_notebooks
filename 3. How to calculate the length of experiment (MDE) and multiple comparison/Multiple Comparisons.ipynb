{
 "cells": [
  {
   "cell_type": "markdown",
   "id": "14c0da0e-4255-44fd-a22a-5507a8269109",
   "metadata": {},
   "source": [
    "# Множественная проверка гипотез\n",
    "Дизайны тестов, где несколько тестовых групп более сложные в плане оценки.<br>\n",
    ">Проблема заключается в том, что при одновременной проверке большого\n",
    "числа гипотез на том же наборе данных вероятность сделать неверное\n",
    "заключение в отношении хотя бы одной из этих гипотез значительно превышает\n",
    "изначально принятый уровень значимости\n",
    "\n",
    "##### Family-wise error rate (FWER)\n",
    "Уровень False Positive растет соразмерно 1-(1-$a$)^m, где m - кол-во гипотез<br>\n",
    "Например, если у нас 3 группы и требуется провести 3 попарных сравнения, то при 95% уровне значимости альфа будет раввняться 1-(1-0.05)^3 = 0.142"
   ]
  },
  {
   "cell_type": "markdown",
   "id": "c9686485-f03e-4a6c-8eb9-01ef17febe4f",
   "metadata": {},
   "source": [
    "#### Поэтому в данном случае рекомендуется увеличивать уровень значимости\n",
    "\n",
    "##### Поправка Бонферонни\n",
    "$$\n",
    "\\alpha = \\frac{\\alpha}{N}\n",
    "$$\n",
    "<br>\n",
    "Например, при оценке теста с 10 группами для сохранения ошибки I рода на уровне 5%, нужно применять $a$ на уровне 0.5%\n",
    "<br>\n",
    "Однако при этом резко возрастает ошибка II рода, что не позволяет зафиксировать часть действительно стат. значимых результатов, то есть падает мощность."
   ]
  },
  {
   "cell_type": "markdown",
   "id": "443871d5-23eb-45f2-a58d-00cd9bb72be3",
   "metadata": {},
   "source": [
    "#### Оптимзация ошибки II рода\n",
    "##### False Discovery Rate (FDR)\n",
    "Если нам гораздо важнее задетектировать эффект, чем допустить ошибку, то мы можем контролировать уровень FDR как:<br>\n",
    "\n",
    "$$\n",
    "\\frac{FP}{FP+TP}\n",
    "$$\n",
    "<br>\n",
    "##### Поправка Бенджамини-Хохберга\n",
    "Чтобы зафиксировать FDR < γ (γ – уровень FDR, обычно берут 0.1 = 10%)\n",
    "1. Берем тест с множеством групп и считаем по ним p-value\n",
    "2. Ранжируем p-value тестов в порядке возрастания N и присваеваем им ранги j от 1 до N\n",
    "3. Находим p-value с наибольшим рангом j*, чтобы p <= y*(j/N)\n",
    "4. Все тесты с рангом j < j* мы считаем значимым\n",
    "5. Также можно посчитать скорректированный уровень p-value по формуле y * (p / N)\n",
    ">Проще говоря, мы штрафуем тест за низкий p-value, немного его увеличивая. Поскольку понимаем, что при множественном сравнении возрастает вероятность ошибки."
   ]
  },
  {
   "cell_type": "markdown",
   "id": "a316accd-a083-4e17-b5fc-67a18b7a7b69",
   "metadata": {},
   "source": [
    "#### FWER или FDR?\n",
    "- FDR `(обычно FDR < 0.1)`: Выше мощность и контроль ложных срабатываний\n",
    "- FWER `(обычно FWER < 0.05)`: строгий контроль за вероятностью ошибок первого рода"
   ]
  },
  {
   "cell_type": "code",
   "execution_count": null,
   "id": "da514b04-0481-4598-9f9e-de45de6767f7",
   "metadata": {},
   "outputs": [],
   "source": []
  },
  {
   "cell_type": "code",
   "execution_count": null,
   "id": "e80f291f-ac20-42a1-9798-d62eb691b356",
   "metadata": {},
   "outputs": [],
   "source": []
  },
  {
   "cell_type": "code",
   "execution_count": null,
   "id": "4e28d8cc-cd34-4c80-a0d8-485bc6924066",
   "metadata": {},
   "outputs": [],
   "source": []
  },
  {
   "cell_type": "code",
   "execution_count": null,
   "id": "aa3b40fd-ee00-4e6c-94f2-cd0133feed82",
   "metadata": {},
   "outputs": [],
   "source": []
  },
  {
   "cell_type": "code",
   "execution_count": null,
   "id": "2aa07e43-b69f-44f4-8e8c-b0f952a47caf",
   "metadata": {},
   "outputs": [],
   "source": []
  },
  {
   "cell_type": "code",
   "execution_count": null,
   "id": "b3d23045-ddcc-4236-993a-1c17315f18a2",
   "metadata": {},
   "outputs": [],
   "source": []
  },
  {
   "cell_type": "code",
   "execution_count": null,
   "id": "832696a5-c117-4fae-a4cd-439075efbea6",
   "metadata": {},
   "outputs": [],
   "source": []
  }
 ],
 "metadata": {
  "kernelspec": {
   "display_name": "Python 3 (ipykernel)",
   "language": "python",
   "name": "python3"
  },
  "language_info": {
   "codemirror_mode": {
    "name": "ipython",
    "version": 3
   },
   "file_extension": ".py",
   "mimetype": "text/x-python",
   "name": "python",
   "nbconvert_exporter": "python",
   "pygments_lexer": "ipython3",
   "version": "3.9.6"
  }
 },
 "nbformat": 4,
 "nbformat_minor": 5
}
