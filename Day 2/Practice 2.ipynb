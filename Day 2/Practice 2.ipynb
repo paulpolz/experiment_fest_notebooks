{
 "cells": [
  {
   "cell_type": "code",
   "execution_count": 2,
   "id": "64dcb372-c629-41c0-8bf4-ef48d06c5fa3",
   "metadata": {},
   "outputs": [],
   "source": [
    "import numpy as np\n",
    "import pandas as pd\n",
    "\n",
    "from scipy import stats\n",
    "import statsmodels.api as sm\n",
    "import statsmodels\n",
    "from statsmodels.stats import weightstats as stests\n",
    "\n",
    "import seaborn as sns\n",
    "import matplotlib.pyplot as plt"
   ]
  },
  {
   "cell_type": "markdown",
   "id": "481b3f59-f3d2-43d3-a60b-cb1b5fd0c6de",
   "metadata": {},
   "source": [
    "## Загрузим данные"
   ]
  },
  {
   "cell_type": "code",
   "execution_count": 6,
   "id": "6ecbb402-adcd-4d64-9431-2b054632810f",
   "metadata": {},
   "outputs": [
    {
     "data": {
      "text/html": [
       "<div>\n",
       "<style scoped>\n",
       "    .dataframe tbody tr th:only-of-type {\n",
       "        vertical-align: middle;\n",
       "    }\n",
       "\n",
       "    .dataframe tbody tr th {\n",
       "        vertical-align: top;\n",
       "    }\n",
       "\n",
       "    .dataframe thead th {\n",
       "        text-align: right;\n",
       "    }\n",
       "</style>\n",
       "<table border=\"1\" class=\"dataframe\">\n",
       "  <thead>\n",
       "    <tr style=\"text-align: right;\">\n",
       "      <th></th>\n",
       "      <th>date</th>\n",
       "      <th>deviceCategory</th>\n",
       "      <th>sourceMedium</th>\n",
       "      <th>experimentVariant</th>\n",
       "      <th>clickButtonOnMain</th>\n",
       "      <th>sessionDuration</th>\n",
       "    </tr>\n",
       "  </thead>\n",
       "  <tbody>\n",
       "    <tr>\n",
       "      <th>1</th>\n",
       "      <td>2019-11-27</td>\n",
       "      <td>desktop</td>\n",
       "      <td>(direct) / (none)</td>\n",
       "      <td>control</td>\n",
       "      <td>1</td>\n",
       "      <td>123,109764978127</td>\n",
       "    </tr>\n",
       "    <tr>\n",
       "      <th>2</th>\n",
       "      <td>2019-11-27</td>\n",
       "      <td>mobile</td>\n",
       "      <td>maz.com / referral</td>\n",
       "      <td>test</td>\n",
       "      <td>1</td>\n",
       "      <td>135,604000573899</td>\n",
       "    </tr>\n",
       "    <tr>\n",
       "      <th>3</th>\n",
       "      <td>2019-11-27</td>\n",
       "      <td>mobile</td>\n",
       "      <td>(direct) / (none)</td>\n",
       "      <td>test</td>\n",
       "      <td>1</td>\n",
       "      <td>134,451016589043</td>\n",
       "    </tr>\n",
       "    <tr>\n",
       "      <th>4</th>\n",
       "      <td>2019-11-27</td>\n",
       "      <td>desktop</td>\n",
       "      <td>google / organic</td>\n",
       "      <td>test</td>\n",
       "      <td>1</td>\n",
       "      <td>130,691086592426</td>\n",
       "    </tr>\n",
       "    <tr>\n",
       "      <th>5</th>\n",
       "      <td>2019-11-27</td>\n",
       "      <td>mobile</td>\n",
       "      <td>google / organic</td>\n",
       "      <td>control</td>\n",
       "      <td>1</td>\n",
       "      <td>117,617311178722</td>\n",
       "    </tr>\n",
       "  </tbody>\n",
       "</table>\n",
       "</div>"
      ],
      "text/plain": [
       "         date deviceCategory        sourceMedium experimentVariant  \\\n",
       "1  2019-11-27        desktop   (direct) / (none)           control   \n",
       "2  2019-11-27         mobile  maz.com / referral              test   \n",
       "3  2019-11-27         mobile   (direct) / (none)              test   \n",
       "4  2019-11-27        desktop    google / organic              test   \n",
       "5  2019-11-27         mobile    google / organic           control   \n",
       "\n",
       "   clickButtonOnMain   sessionDuration  \n",
       "1                  1  123,109764978127  \n",
       "2                  1  135,604000573899  \n",
       "3                  1  134,451016589043  \n",
       "4                  1  130,691086592426  \n",
       "5                  1  117,617311178722  "
      ]
     },
     "execution_count": 6,
     "metadata": {},
     "output_type": "execute_result"
    }
   ],
   "source": [
    "data = pd.read_csv('hw2_1.csv', sep=';', index_col=0)\n",
    "data.head()"
   ]
  },
  {
   "cell_type": "code",
   "execution_count": 8,
   "id": "6db1e994-d808-48ba-a374-b92481f9c42e",
   "metadata": {},
   "outputs": [
    {
     "name": "stdout",
     "output_type": "stream",
     "text": [
      "<class 'pandas.core.frame.DataFrame'>\n",
      "Int64Index: 2943 entries, 1 to 2943\n",
      "Data columns (total 6 columns):\n",
      " #   Column             Non-Null Count  Dtype \n",
      "---  ------             --------------  ----- \n",
      " 0   date               2943 non-null   object\n",
      " 1   deviceCategory     2943 non-null   object\n",
      " 2   sourceMedium       2943 non-null   object\n",
      " 3   experimentVariant  2943 non-null   object\n",
      " 4   clickButtonOnMain  2943 non-null   int64 \n",
      " 5   sessionDuration    2943 non-null   object\n",
      "dtypes: int64(1), object(5)\n",
      "memory usage: 160.9+ KB\n"
     ]
    }
   ],
   "source": [
    "data.info()"
   ]
  },
  {
   "cell_type": "markdown",
   "id": "e1ea24a1-47a0-4a73-8882-afc683aa9f3c",
   "metadata": {},
   "source": [
    "#### Изменим тип данных"
   ]
  },
  {
   "cell_type": "code",
   "execution_count": 14,
   "id": "08de0329-66e2-41ca-80fa-5080d9848e6f",
   "metadata": {},
   "outputs": [],
   "source": [
    "data['sessionDuration'] = data.sessionDuration.str.replace(',','.').astype('float')"
   ]
  },
  {
   "cell_type": "markdown",
   "id": "5ca95444-8137-4486-a8db-1f7e9c35e569",
   "metadata": {},
   "source": [
    "## Гипотеза 1\n",
    "Есть ли значимое изменение в большую или меньшую сторону у клика на целевую кнопку  (контроль – Check, тест – Find out in 30 seconds)"
   ]
  },
  {
   "cell_type": "code",
   "execution_count": 31,
   "id": "b6e2dd25-40eb-46d8-ba66-c5fe03dd5010",
   "metadata": {},
   "outputs": [
    {
     "data": {
      "image/png": "[encoded data removed]",
      "text/plain": [
       "<Figure size 490x360 with 1 Axes>"
      ]
     },
     "metadata": {
      "needs_background": "light"
     },
     "output_type": "display_data"
    }
   ],
   "source": [
    "test = data[data['experimentVariant'] == 'test'].clickButtonOnMain\n",
    "control = data[data['experimentVariant'] == 'control'].clickButtonOnMain\n",
    "\n",
    "sns.displot([test, control]);"
   ]
  },
  {
   "cell_type": "code",
   "execution_count": 19,
   "id": "47a47d16-effe-4fc1-a975-077930c692df",
   "metadata": {},
   "outputs": [],
   "source": [
    "test_sum = test.sum()\n",
    "control_sum = control.sum()\n",
    "\n",
    "test_n = test.count()\n",
    "control_n = control.count()"
   ]
  },
  {
   "cell_type": "code",
   "execution_count": 42,
   "id": "661c1f09-8624-4c88-92d2-2eb7efb7d510",
   "metadata": {},
   "outputs": [
    {
     "name": "stdout",
     "output_type": "stream",
     "text": [
      "Test ctr.: 0.09122085048010974\n",
      "Control ctr.: 0.1292929292929293\n"
     ]
    }
   ],
   "source": [
    "print('Test ctr.:', test_sum/test_n)\n",
    "print('Control ctr.:', control_sum/control_n)"
   ]
  },
  {
   "cell_type": "markdown",
   "id": "3d30af71-7faa-463f-97ec-0ab2b0c8899c",
   "metadata": {},
   "source": [
    "#### Применим z-тест для пропорций"
   ]
  },
  {
   "cell_type": "code",
   "execution_count": 35,
   "id": "6ba9f05b-8785-438d-a359-72b36fd0fdaf",
   "metadata": {},
   "outputs": [
    {
     "name": "stdout",
     "output_type": "stream",
     "text": [
      "P-Value 0.0009852325829367897\n"
     ]
    },
    {
     "data": {
      "text/plain": [
       "'Significant'"
      ]
     },
     "execution_count": 35,
     "metadata": {},
     "output_type": "execute_result"
    }
   ],
   "source": [
    "z_stat, p_value = statsmodels.stats.proportion.proportions_ztest([test_sum, control_sum], [test_n, control_n])\n",
    "\n",
    "print(f'P-Value {p_value}')\n",
    "'Significant' if p_value < .05 else 'Non Significant'"
   ]
  },
  {
   "cell_type": "code",
   "execution_count": 39,
   "id": "d307e52f-5cc5-4772-b409-2a848fc6599a",
   "metadata": {},
   "outputs": [
    {
     "name": "stdout",
     "output_type": "stream",
     "text": [
      "P-Value 0.9995073837085316\n"
     ]
    },
    {
     "data": {
      "text/plain": [
       "'Non Significant'"
      ]
     },
     "execution_count": 39,
     "metadata": {},
     "output_type": "execute_result"
    }
   ],
   "source": [
    "z_stat, p_value = statsmodels.stats.proportion.proportions_ztest([test_sum, control_sum], [test_n, control_n], alternative='larger')\n",
    "\n",
    "print(f'P-Value {p_value}')\n",
    "'Significant' if p_value < .05 else 'Non Significant'"
   ]
  },
  {
   "cell_type": "code",
   "execution_count": 40,
   "id": "c8196b31-2545-4433-a8da-cb6257265021",
   "metadata": {},
   "outputs": [
    {
     "name": "stdout",
     "output_type": "stream",
     "text": [
      "P-Value 0.0004926162914683949\n"
     ]
    },
    {
     "data": {
      "text/plain": [
       "'Significant'"
      ]
     },
     "execution_count": 40,
     "metadata": {},
     "output_type": "execute_result"
    }
   ],
   "source": [
    "z_stat, p_value = statsmodels.stats.proportion.proportions_ztest([test_sum, control_sum], [test_n, control_n], alternative='smaller')\n",
    "\n",
    "print(f'P-Value {p_value}')\n",
    "'Significant' if p_value < .05 else 'Non Significant'"
   ]
  },
  {
   "cell_type": "markdown",
   "id": "6043d243-45e6-409c-a471-2c1174337b29",
   "metadata": {},
   "source": [
    "#### Рассчитаем доверительный интервал"
   ]
  },
  {
   "cell_type": "code",
   "execution_count": null,
   "id": "b55617e7-4769-45a2-a9b0-c00923170a0d",
   "metadata": {
    "tags": []
   },
   "outputs": [
    {
     "data": {
      "text/plain": [
       "(-0.060728408827443695, -0.015453776655158905)"
      ]
     },
     "execution_count": 49,
     "metadata": {},
     "output_type": "execute_result"
    }
   ],
   "source": [
    "statsmodels.stats.proportion.confint_proportions_2indep(\n",
    "    count1 = test_sum,\n",
    "    nobs1 = test_n,\n",
    "    count2 = control_sum, \n",
    "    nobs2 = control_n\n",
    ")"
   ]
  },
  {
   "cell_type": "markdown",
   "id": "3c685c50-bf29-4967-b007-52e281ec927f",
   "metadata": {},
   "source": [
    "#### Вывод\n",
    " - P-Value значительное ниже 0.05. Соответственно, мы имеем право отвергнуть нулевую гипотезу и сделать  заключение, что разница в конверсии в целевую кнопку между группами статистичеки значима\n",
    " - Также видна разница между группами по доверительному интервалу (так как интервал не пересекает ноль)\n",
    " - Ctr в контрольной группе выше. Рельльтаты котрольной группы статистически значимо лучше\n",
    "     - Также быи проведены одностороние тесты для проверки, которые также показали, что контроль стат. значимо выше теста"
   ]
  },
  {
   "cell_type": "markdown",
   "id": "7600fbce-5849-47fc-b48d-ece22e68a9f9",
   "metadata": {},
   "source": [
    "## Гипотеза 2\n",
    "Изменилось ли время проведенное на сайте в рамках сеанса"
   ]
  },
  {
   "cell_type": "code",
   "execution_count": 46,
   "id": "7f49c2b1-7ebf-418d-b7f3-7209f6da9595",
   "metadata": {},
   "outputs": [
    {
     "data": {
      "image/png": "[encoded data removed]",
      "text/plain": [
       "<Figure size 360x360 with 1 Axes>"
      ]
     },
     "metadata": {
      "needs_background": "light"
     },
     "output_type": "display_data"
    },
    {
     "data": {
      "image/png": "[encoded data removed]",
      "text/plain": [
       "<Figure size 360x360 with 1 Axes>"
      ]
     },
     "metadata": {
      "needs_background": "light"
     },
     "output_type": "display_data"
    }
   ],
   "source": [
    "test = data[data['experimentVariant'] == 'test'].sessionDuration\n",
    "control = data[data['experimentVariant'] == 'control'].sessionDuration\n",
    "\n",
    "sns.displot(test);\n",
    "sns.displot(control);"
   ]
  },
  {
   "cell_type": "code",
   "execution_count": 47,
   "id": "8d5f077c-04ef-4ba4-a81a-e4c66465377d",
   "metadata": {},
   "outputs": [
    {
     "name": "stdout",
     "output_type": "stream",
     "text": [
      "Test mean: 133.05922272430425\n",
      "Control mean: 120.03803959554634\n"
     ]
    }
   ],
   "source": [
    "print('Test mean:', test.mean())\n",
    "print('Control mean:', control.mean())"
   ]
  },
  {
   "cell_type": "code",
   "execution_count": 50,
   "id": "44fdab0c-d870-4c26-8b15-73669e099ef5",
   "metadata": {},
   "outputs": [
    {
     "name": "stdout",
     "output_type": "stream",
     "text": [
      "P-Value 0.0\n"
     ]
    },
    {
     "data": {
      "text/plain": [
       "'Significant'"
      ]
     },
     "execution_count": 50,
     "metadata": {},
     "output_type": "execute_result"
    }
   ],
   "source": [
    "t_stat, p_value = stats.ttest_ind(test, control)\n",
    "\n",
    "print(f'P-Value {p_value}')\n",
    "'Significant' if p_value < .05 else 'Non Significant'"
   ]
  },
  {
   "cell_type": "code",
   "execution_count": 59,
   "id": "a517ab40-1e46-426e-95e7-99453b5a1ae8",
   "metadata": {},
   "outputs": [
    {
     "name": "stdout",
     "output_type": "stream",
     "text": [
      "P-Value 0.0\n"
     ]
    },
    {
     "data": {
      "text/plain": [
       "'Significant'"
      ]
     },
     "execution_count": 59,
     "metadata": {},
     "output_type": "execute_result"
    }
   ],
   "source": [
    "t_stat, p_value = stats.ttest_ind(test, control, alternative='greater')\n",
    "\n",
    "print(f'P-Value {p_value}')\n",
    "'Significant' if p_value < .05 else 'Non Significant'"
   ]
  },
  {
   "cell_type": "markdown",
   "id": "8e740c89-13da-4527-8deb-d2025b63283b",
   "metadata": {},
   "source": [
    "#### Ввывод\n",
    "- P-Value ниже 0.05. Соответственно, мы имеем право отвергнуть нулевую гипотезу и сделать  заключение, что разница длительности сессий между группами статистичеки значима\n",
    "- Пользователи из тестовой группы провели в среднем больше времени на сайте\n",
    "    - Результат одностороннего теста подтверждает, что эта разница статистически значима"
   ]
  },
  {
   "cell_type": "code",
   "execution_count": null,
   "id": "cd44c928-0893-4e9f-8471-71e24dbe9cd7",
   "metadata": {},
   "outputs": [],
   "source": []
  },
  {
   "cell_type": "code",
   "execution_count": null,
   "id": "142f02fd-6eef-4e3a-b6da-f3fe73559e62",
   "metadata": {},
   "outputs": [],
   "source": []
  }
 ],
 "metadata": {
  "kernelspec": {
   "display_name": "Python 3 (ipykernel)",
   "language": "python",
   "name": "python3"
  },
  "language_info": {
   "codemirror_mode": {
    "name": "ipython",
    "version": 3
   },
   "file_extension": ".py",
   "mimetype": "text/x-python",
   "name": "python",
   "nbconvert_exporter": "python",
   "pygments_lexer": "ipython3",
   "version": "3.9.6"
  }
 },
 "nbformat": 4,
 "nbformat_minor": 5
}
