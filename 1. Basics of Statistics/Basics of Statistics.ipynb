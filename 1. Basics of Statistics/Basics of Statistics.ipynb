{
 "cells": [
  {
   "cell_type": "code",
   "execution_count": 195,
   "id": "bc83a323-9cad-49b2-bad1-296027248b13",
   "metadata": {},
   "outputs": [],
   "source": [
    "import numpy as np\n",
    "import pandas as pd\n",
    "\n",
    "import seaborn as sns\n",
    "import matplotlib.pyplot as plt "
   ]
  },
  {
   "cell_type": "code",
   "execution_count": 175,
   "id": "93ac1f34-f346-4901-a9a9-3910895eadfc",
   "metadata": {},
   "outputs": [
    {
     "data": {
      "text/plain": [
       "array([5, 5, 1, 9, 4])"
      ]
     },
     "execution_count": 175,
     "metadata": {},
     "output_type": "execute_result"
    }
   ],
   "source": [
    "a = np.array([5, 5, 1, 9, 4])\n",
    "a"
   ]
  },
  {
   "cell_type": "markdown",
   "id": "fccd3e58-53af-4de0-8545-25ede68063af",
   "metadata": {},
   "source": [
    "#### Дисперсия и стандартное отклонение"
   ]
  },
  {
   "cell_type": "markdown",
   "id": "524f2384-e45b-4bad-8cea-6dec59a69bea",
   "metadata": {},
   "source": [
    "- Дисперсия показывает разброс каждого из значений выборки относительно среднего\n",
    "- Стандартное отклонение - это корень из дисперсии, который оказывается более удобен для восприятия, поскольку его проще сравнивать со средним, чем дисперсию"
   ]
  },
  {
   "cell_type": "code",
   "execution_count": 176,
   "id": "7d24aafb-450e-4e05-b1b6-9cc54e7e711f",
   "metadata": {},
   "outputs": [
    {
     "name": "stdout",
     "output_type": "stream",
     "text": [
      "Variance: 6.56\n",
      "Std. deviation: 2.5612496949731396\n"
     ]
    }
   ],
   "source": [
    "# Variance\n",
    "print('Variance:', np.sum((a - np.mean(a))**2)/a.size)\n",
    "\n",
    "# Std. deviation\n",
    "print('Std. deviation:', np.sqrt(np.sum((a - np.mean(a))**2)/a.size))"
   ]
  },
  {
   "cell_type": "markdown",
   "id": "793d303d-919a-44ea-a308-f691ac3eb000",
   "metadata": {},
   "source": [
    "Несмещенная дисперсия нужна, чтобы приблизить правду по выборке к ГС.\n",
    "Вычитаем из знаменателя единичку. От этого дисперсия вырастает. И мы так имеем ввиду более высокий разброс"
   ]
  },
  {
   "cell_type": "markdown",
   "id": "4ea06f2c-d46e-40b2-92ae-03ee25ee0b11",
   "metadata": {},
   "source": [
    "Чем больше данных, тем меньше эффект от несмещенности<br>\n",
    "**Нужно использовать несмещенную дисперсию!**"
   ]
  },
  {
   "cell_type": "code",
   "execution_count": 177,
   "id": "2893af61-b9e5-4edc-b554-2234dcbae5d0",
   "metadata": {},
   "outputs": [
    {
     "data": {
      "text/plain": [
       "(6.56, 8.2)"
      ]
     },
     "execution_count": 177,
     "metadata": {},
     "output_type": "execute_result"
    }
   ],
   "source": [
    "# Сравнение обычной дисперсии и несмещенной\n",
    "np.var(a), np.var(a, ddof=1)"
   ]
  },
  {
   "cell_type": "markdown",
   "id": "57e156fe-bb02-4b1c-9e3b-ee2ff4839d30",
   "metadata": {},
   "source": [
    "#### Коэффициент вариации\n",
    "Позволяет оценить вариативность в процентах"
   ]
  },
  {
   "cell_type": "code",
   "execution_count": 178,
   "id": "5fc7d44a-36d0-4238-8550-09eabed0cbe4",
   "metadata": {},
   "outputs": [
    {
     "data": {
      "text/plain": [
       "(0.5335936864527374, 0.5965758776365148)"
      ]
     },
     "execution_count": 178,
     "metadata": {},
     "output_type": "execute_result"
    }
   ],
   "source": [
    "np.std(a)/np.mean(a), np.std(a, ddof=1)/np.mean(a)"
   ]
  },
  {
   "cell_type": "markdown",
   "id": "61cc1829-9e76-46cf-b4b5-d95c6e9df207",
   "metadata": {},
   "source": [
    "#### Правило 3 сигм\n",
    "*Правило 3 сигм или правило 68 - 95 - 99,7*\n",
    "\n",
    "Только для нормального распределения<br>\n",
    "Разброс случайной величины на диапазон более 3 стандартных отклонений от среднего практически равен нулю (менее 0,3%)"
   ]
  },
  {
   "cell_type": "markdown",
   "id": "43b56ba3-ee61-466c-9b98-0ace9d951792",
   "metadata": {},
   "source": [
    "ЦПТ\n",
    "Позволяет оценивать доверительный интервал для среднего<br>\n",
    "Если брать из любой ГС случайные подвыборки, то их средние будут распределены нормально.\n",
    "Мат ожидание и дисперсия не будут сильно отличаться от ГС"
   ]
  },
  {
   "cell_type": "markdown",
   "id": "7255792b-8c93-46dd-ac55-52aec9ba1ee0",
   "metadata": {},
   "source": [
    "#### Возьмем для примера равномерное распределение"
   ]
  },
  {
   "cell_type": "code",
   "execution_count": 123,
   "id": "5bc91200-d838-4886-bcb8-8e3203b36a42",
   "metadata": {},
   "outputs": [
    {
     "data": {
      "image/png": "[encoded data removed]",
      "text/plain": [
       "<Figure size 360x360 with 1 Axes>"
      ]
     },
     "metadata": {
      "needs_background": "light"
     },
     "output_type": "display_data"
    }
   ],
   "source": [
    "x = np.random.randint(100,800,10000)\n",
    "sns.displot(x)\n",
    "plt.title('Mean: {:.1f}; Std.: {:.1f}'.format(np.mean(x), np.std(x)));"
   ]
  },
  {
   "cell_type": "markdown",
   "id": "99a3a7ae-7cb3-4978-8c51-8cb79a90ddc6",
   "metadata": {},
   "source": [
    "#### Попробуем брать случайный подвыборки, и проверим как у них распределено среднее\n",
    "- В итоге мы получаем распределение средних похожее на нормальное\n",
    "- Чем больше подвыборки, тем выше нормальность распределения средних"
   ]
  },
  {
   "cell_type": "code",
   "execution_count": 136,
   "id": "986cfa70-8d12-4e7d-af61-f16ca717c14f",
   "metadata": {},
   "outputs": [
    {
     "data": {
      "image/png": "[encoded data removed]",
      "text/plain": [
       "<Figure size 360x360 with 1 Axes>"
      ]
     },
     "metadata": {
      "needs_background": "light"
     },
     "output_type": "display_data"
    }
   ],
   "source": [
    "_mu = []\n",
    "for i in range(100):\n",
    "    _x = np.random.choice(x, 100)\n",
    "    \n",
    "    _mu.append(np.mean(_x))\n",
    "\n",
    "sns.displot(_mu);\n",
    "plt.title('Mean: {:.1f}; Std.: {:.1f}'.format(np.mean(_mu), np.std(_mu)));"
   ]
  },
  {
   "cell_type": "markdown",
   "id": "f43cd5de-ed22-4988-95c7-2af997509f53",
   "metadata": {},
   "source": [
    "#### Посчитаем доверительные интервалы полученного среднего для двух сигм\n",
    "**Среднее изначальной выборки (ГС) лежит в пределах этого интервала**"
   ]
  },
  {
   "cell_type": "code",
   "execution_count": 137,
   "id": "b56f1d18-ee27-496b-a044-1cdb98fb6c60",
   "metadata": {},
   "outputs": [
    {
     "name": "stdout",
     "output_type": "stream",
     "text": [
      "407.95928767334397 479.92691232665595\n"
     ]
    }
   ],
   "source": [
    "left = np.mean(_mu) - np.std(_mu)*2\n",
    "right = np.mean(_mu) + np.std(_mu)*2\n",
    "print(left, right)"
   ]
  },
  {
   "cell_type": "markdown",
   "id": "c072854d-347c-4a86-8a91-e76d74495170",
   "metadata": {},
   "source": [
    "#### Но брать много подвыборок не всегда возможно\n",
    "Есть другой способ получить те же данных из одной выборки. Для этого используется стандртная ошибка среднего $SE$<br>\n",
    "$SE$ показывает, в каких пределах лежит среднее генеральной совокупности"
   ]
  },
  {
   "cell_type": "code",
   "execution_count": 186,
   "id": "c002b9e6-d475-41d7-9d67-9e1bdee69a5b",
   "metadata": {},
   "outputs": [
    {
     "name": "stdout",
     "output_type": "stream",
     "text": [
      "Mean 431.24 Std. 196.65900030255418 SE 19.66590003025542\n"
     ]
    }
   ],
   "source": [
    "# возьмем только одну случайную подвыборку\n",
    "_x_ = np.random.choice(x, 100)\n",
    "\n",
    "_mu_ = np.mean(_x_)\n",
    "_std_ = np.std(_x_)\n",
    "\n",
    "# рассчитаем se\n",
    "se = _std_/np.sqrt(_x_.size)\n",
    "print(\n",
    "    'Mean', _mu_, \n",
    "    'Std.', _std_, \n",
    "    'SE', se)"
   ]
  },
  {
   "cell_type": "markdown",
   "id": "5e482397-ab24-4e3b-aea0-c81bf00f287e",
   "metadata": {},
   "source": [
    "#### Снова посчитаем доверительные интервалы полученного среднего для двух сигм\n",
    "**И мы получим почти такой же диапазон как и в случае с множеством подвыборок, который показывает где может лежать среднее всей ГС с 95% вероятностью**"
   ]
  },
  {
   "cell_type": "code",
   "execution_count": 187,
   "id": "a9bf650c-33ec-4bb2-a5a1-6538883e6549",
   "metadata": {},
   "outputs": [
    {
     "name": "stdout",
     "output_type": "stream",
     "text": [
      "391.9081999394892 470.57180006051084\n"
     ]
    }
   ],
   "source": [
    "left = _mu_ - se*2\n",
    "right = _mu_ + se*2\n",
    "print(left, right)"
   ]
  },
  {
   "cell_type": "markdown",
   "id": "7690f73b-e586-4026-b66d-f9ea1164162d",
   "metadata": {},
   "source": [
    "#### Как выборочное среднее приближается к среднему ГС при росте выборки"
   ]
  },
  {
   "cell_type": "code",
   "execution_count": 169,
   "id": "7a93512d-4b1a-4942-ad07-25a134ad5618",
   "metadata": {},
   "outputs": [
    {
     "data": {
      "image/png": "[encoded data removed]",
      "text/plain": [
       "<Figure size 576x360 with 1 Axes>"
      ]
     },
     "metadata": {
      "needs_background": "light"
     },
     "output_type": "display_data"
    }
   ],
   "source": [
    "mean_var_list = []\n",
    "\n",
    "for i in range(1,1000):\n",
    "    _x_ = np.random.choice(x, i)\n",
    "    x_mean = np.mean(_x_)\n",
    "    mean_var_list.append(x_mean)\n",
    "    \n",
    "plt.figure(figsize=(8,5))\n",
    "\n",
    "plt.title('Чем больше выборка, тем ближе ее среднее к среднему ГС')\n",
    "plt.xlabel('Размер выборки')\n",
    "plt.ylabel('Выборочной среднее')\n",
    "\n",
    "plt.plot(mean_var_list)\n",
    "plt.axhline(x.mean(), color='r', linestyle='--');"
   ]
  },
  {
   "cell_type": "code",
   "execution_count": null,
   "id": "bb4ce518-9cb4-4445-ac79-739176ca27af",
   "metadata": {},
   "outputs": [],
   "source": []
  },
  {
   "cell_type": "code",
   "execution_count": null,
   "id": "7883f19a-0352-4b2b-98bc-fa7616b9aed1",
   "metadata": {},
   "outputs": [],
   "source": []
  }
 ],
 "metadata": {
  "kernelspec": {
   "display_name": "Python 3 (ipykernel)",
   "language": "python",
   "name": "python3"
  },
  "language_info": {
   "codemirror_mode": {
    "name": "ipython",
    "version": 3
   },
   "file_extension": ".py",
   "mimetype": "text/x-python",
   "name": "python",
   "nbconvert_exporter": "python",
   "pygments_lexer": "ipython3",
   "version": "3.9.6"
  }
 },
 "nbformat": 4,
 "nbformat_minor": 5
}
