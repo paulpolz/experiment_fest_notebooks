{
 "cells": [
  {
   "cell_type": "code",
   "execution_count": 454,
   "id": "2401bc9e-50e5-4d18-987c-8533a290fbba",
   "metadata": {},
   "outputs": [],
   "source": [
    "import pandas as pd\n",
    "import numpy as np\n",
    "\n",
    "import matplotlib.pyplot as plt\n",
    "import seaborn as sns\n",
    "\n",
    "import scipy.stats as sts\n",
    "from scipy.stats import norm, ttest_ind, poisson\n",
    "\n",
    "from tqdm.auto import tqdm"
   ]
  },
  {
   "cell_type": "markdown",
   "id": "7d07e6b1-a466-462d-9632-24f2f241f892",
   "metadata": {
    "tags": []
   },
   "source": [
    "# Ускорение А/Б тестов и методы сокращения дисперсии\n",
    "- Увеличение чувствительности экспериментов\n",
    "- Чем уникальна ratio-метрика и как ее считать"
   ]
  },
  {
   "cell_type": "markdown",
   "id": "e6c61eb9-6be0-46d2-8ffd-fcbe4b1462b8",
   "metadata": {},
   "source": [
    "> Увеличение чувствительности экспериментов при сохранении тех же параметров теста возможно за счет сокрашения дисперсии\n",
    "\n",
    "> Также это позволит нам быстрее достичь нужной мощности и сократить время затрачиваемое на эксперимент"
   ]
  },
  {
   "cell_type": "markdown",
   "id": "3ca60e3c-936e-408a-af72-296e9c68220b",
   "metadata": {
    "tags": []
   },
   "source": [
    "## Стратификация\n",
    "- Один из методов соращения дисперсии\n",
    "- Мы разбиваем аудиторию на группы (страты) по каким-то признакам (например, по типам устройств) или с определенной вероятностью. В каждой группе могут сильно отличаться средние и дисперсии. И в зависимости от важности или численности группы мы даем им больший или меньший вес.\n",
    "    - Это позволит нам в меньшей степени учитывать высокую дисперсию в малых группах, а следовательно сократить дисперсию для всей выборки в целом\n",
    "    \n",
    "#### Стратификация (stratified sample)\n",
    "На этапе дизайна эксперимента, разбиваем пользователей на k групп (страт), определяется вероятность попадания в страту\n",
    "\n",
    "#### Пост-стратификация (post-stratification)\n",
    "Получив рандомную выборку, применяется стратификация на основе заранее известных вероятностей попадания в страту"
   ]
  },
  {
   "cell_type": "markdown",
   "id": "ec6d9b7b-9dda-4d39-8de1-78b698b7cb7d",
   "metadata": {},
   "source": [
    "### Как считаем стратификацию\n",
    "1. Выбираем критерий стратификации (тип устройства и пр.)\n",
    "2. Считаем вер-ть попадания пользователя в страту\n",
    "3. Считаем внутригрупповую дисперсию (внутри каждой страты)\n",
    "4. Считаем взвешенную дисперсию"
   ]
  },
  {
   "cell_type": "markdown",
   "id": "69a3f8ab-6803-4a47-8cce-8190ee0b0399",
   "metadata": {},
   "source": [
    "#### Классическая дисперсия состоит из внутригрупповой и межгрупповой дисперсии\n",
    "- Внутригрупповая дисперсия -> считается как для стратификации\n",
    "    - Внутри каждой страты считаем дисперсию\n",
    "    - Умножаем дисперсию на вер-ть попадания в эту страту\n",
    "    - Все суммируем\n",
    "- Межгрупповая дисперсия\n",
    "    - Внутри каждой страты считаем дисперсию\n",
    "    - Внутри каждой страты считаем квадрат разности среднего страты и общего среднего)\n",
    "    - Все суммируем\n",
    "> В стратификации мы выбрасываем эффект межгрупповой дисперсии, что позволяет нам сократить ее"
   ]
  },
  {
   "cell_type": "markdown",
   "id": "784daf4a-6bc8-4a5e-9157-c3855b4834a1",
   "metadata": {},
   "source": [
    "> Среднее стратифицированное равняется среднему Генеральной совокупности"
   ]
  },
  {
   "cell_type": "markdown",
   "id": "263a5d7d-566c-46d5-b75d-45ee7d0314eb",
   "metadata": {
    "tags": []
   },
   "source": [
    "### Выводы\n",
    "- Страты должны быть стабильными и не меняться во времени\n",
    "- Плохо подобранные переменные для стратификации влекут за собой увеличение дисперсии"
   ]
  },
  {
   "cell_type": "markdown",
   "id": "54cdd947-9976-4542-81e0-14951f26c135",
   "metadata": {},
   "source": [
    "### Сгенерим данные"
   ]
  },
  {
   "cell_type": "code",
   "execution_count": 315,
   "id": "a56aecff-2c3c-4e95-9d11-649327b38296",
   "metadata": {},
   "outputs": [],
   "source": [
    "def data_gen(n, mean, se, group=None, samples=1, salt=1):\n",
    "    \"\"\"\n",
    "    n - размер выборки \n",
    "    mean - среднее по выборке\n",
    "    se - стандартное отклонение по выборке\n",
    "    group - добавить дополнительную колонку с описанием сэмпла\n",
    "    samples - кол-во сэмплов\n",
    "    salt - коэффициент для разницы между сэмплами\n",
    "    \"\"\"\n",
    "    \n",
    "    try:\n",
    "        del distr_data\n",
    "    except:\n",
    "        pass\n",
    "    \n",
    "    for sample in range(samples):\n",
    "        distribution = sts.norm.rvs(\n",
    "            size=n[sample], \n",
    "            loc=mean[sample]*salt, \n",
    "            scale=se[sample]*salt)\n",
    "        distribution = list(distribution)\n",
    "        \n",
    "        try:\n",
    "            if group:\n",
    "                distr_data['sample'] = distr_data['sample'] + [sample]*n[sample]\n",
    "                distr_data['group'] = distr_data['group'] + [group]*n[sample]\n",
    "                distr_data['variable'] = distr_data['variable'] + distribution\n",
    "            else:\n",
    "                distr_data['sample'] = distr_data['sample'] + [sample]*n[sample]\n",
    "                distr_data['variable'] = distr_data['variable'] + distribution\n",
    "\n",
    "        except:\n",
    "            if group:\n",
    "                distr_data = {\n",
    "                    'sample': [sample]*n[sample],\n",
    "                    'group': [group]*n[sample],\n",
    "                    'variable': distribution\n",
    "                }\n",
    "            else: \n",
    "                distr_data = {\n",
    "                    'sample': [sample]*n[sample],\n",
    "                    'variable': distribution\n",
    "                }\n",
    "\n",
    "    df_distr = pd.DataFrame(distr_data)\n",
    "    \n",
    "    return df_distr"
   ]
  },
  {
   "cell_type": "code",
   "execution_count": 319,
   "id": "37f36b28-4b88-4810-883f-f7cf2c7a81c6",
   "metadata": {},
   "outputs": [
    {
     "data": {
      "text/html": [
       "<div>\n",
       "<style scoped>\n",
       "    .dataframe tbody tr th:only-of-type {\n",
       "        vertical-align: middle;\n",
       "    }\n",
       "\n",
       "    .dataframe tbody tr th {\n",
       "        vertical-align: top;\n",
       "    }\n",
       "\n",
       "    .dataframe thead th {\n",
       "        text-align: right;\n",
       "    }\n",
       "</style>\n",
       "<table border=\"1\" class=\"dataframe\">\n",
       "  <thead>\n",
       "    <tr style=\"text-align: right;\">\n",
       "      <th></th>\n",
       "      <th>sample</th>\n",
       "      <th>group</th>\n",
       "      <th>variable</th>\n",
       "    </tr>\n",
       "  </thead>\n",
       "  <tbody>\n",
       "    <tr>\n",
       "      <th>0</th>\n",
       "      <td>0</td>\n",
       "      <td>test</td>\n",
       "      <td>-12.840206</td>\n",
       "    </tr>\n",
       "    <tr>\n",
       "      <th>1</th>\n",
       "      <td>0</td>\n",
       "      <td>test</td>\n",
       "      <td>29.775905</td>\n",
       "    </tr>\n",
       "    <tr>\n",
       "      <th>2</th>\n",
       "      <td>0</td>\n",
       "      <td>test</td>\n",
       "      <td>35.675066</td>\n",
       "    </tr>\n",
       "    <tr>\n",
       "      <th>3</th>\n",
       "      <td>0</td>\n",
       "      <td>test</td>\n",
       "      <td>4.758090</td>\n",
       "    </tr>\n",
       "    <tr>\n",
       "      <th>4</th>\n",
       "      <td>0</td>\n",
       "      <td>test</td>\n",
       "      <td>14.912017</td>\n",
       "    </tr>\n",
       "  </tbody>\n",
       "</table>\n",
       "</div>"
      ],
      "text/plain": [
       "   sample group   variable\n",
       "0       0  test -12.840206\n",
       "1       0  test  29.775905\n",
       "2       0  test  35.675066\n",
       "3       0  test   4.758090\n",
       "4       0  test  14.912017"
      ]
     },
     "execution_count": 319,
     "metadata": {},
     "output_type": "execute_result"
    }
   ],
   "source": [
    "df_distr_test = data_gen(\n",
    "    n=[12000, 6000, 2000], \n",
    "    mean=[15, 35, 58], \n",
    "    se=[20, 30, 40], \n",
    "    group='test', \n",
    "    samples=3,\n",
    "    # salt=np.random.randint(50)\n",
    ")\n",
    "df_distr_control = data_gen(\n",
    "    n=[12000, 6000, 2000], \n",
    "    mean=[12, 31, 64], \n",
    "    se=[17, 24, 54], \n",
    "    group='control', \n",
    "    samples=3,\n",
    "    # salt=np.random.randint(50)\n",
    ")\n",
    "\n",
    "df_distr = pd.concat([df_distr_test, df_distr_control])\n",
    "df_distr.head()"
   ]
  },
  {
   "cell_type": "markdown",
   "id": "064d9e03-6b77-49b5-b64b-2f81b5abdb75",
   "metadata": {},
   "source": [
    "### Как распределена метрика между группами"
   ]
  },
  {
   "cell_type": "code",
   "execution_count": 320,
   "id": "4291e082-e7df-4ac5-b931-bf52b28f69e6",
   "metadata": {},
   "outputs": [
    {
     "data": {
      "text/html": [
       "<div>\n",
       "<style scoped>\n",
       "    .dataframe tbody tr th:only-of-type {\n",
       "        vertical-align: middle;\n",
       "    }\n",
       "\n",
       "    .dataframe tbody tr th {\n",
       "        vertical-align: top;\n",
       "    }\n",
       "\n",
       "    .dataframe thead tr th {\n",
       "        text-align: left;\n",
       "    }\n",
       "\n",
       "    .dataframe thead tr:last-of-type th {\n",
       "        text-align: right;\n",
       "    }\n",
       "</style>\n",
       "<table border=\"1\" class=\"dataframe\">\n",
       "  <thead>\n",
       "    <tr>\n",
       "      <th></th>\n",
       "      <th></th>\n",
       "      <th colspan=\"4\" halign=\"left\">variable</th>\n",
       "    </tr>\n",
       "    <tr>\n",
       "      <th></th>\n",
       "      <th></th>\n",
       "      <th>count</th>\n",
       "      <th>var</th>\n",
       "      <th>mean</th>\n",
       "      <th>median</th>\n",
       "    </tr>\n",
       "    <tr>\n",
       "      <th>sample</th>\n",
       "      <th>group</th>\n",
       "      <th></th>\n",
       "      <th></th>\n",
       "      <th></th>\n",
       "      <th></th>\n",
       "    </tr>\n",
       "  </thead>\n",
       "  <tbody>\n",
       "    <tr>\n",
       "      <th rowspan=\"2\" valign=\"top\">0</th>\n",
       "      <th>control</th>\n",
       "      <td>12000</td>\n",
       "      <td>290.309367</td>\n",
       "      <td>11.818885</td>\n",
       "      <td>11.912562</td>\n",
       "    </tr>\n",
       "    <tr>\n",
       "      <th>test</th>\n",
       "      <td>12000</td>\n",
       "      <td>405.191861</td>\n",
       "      <td>14.757865</td>\n",
       "      <td>14.639239</td>\n",
       "    </tr>\n",
       "    <tr>\n",
       "      <th rowspan=\"2\" valign=\"top\">1</th>\n",
       "      <th>control</th>\n",
       "      <td>6000</td>\n",
       "      <td>579.858494</td>\n",
       "      <td>30.977131</td>\n",
       "      <td>31.047910</td>\n",
       "    </tr>\n",
       "    <tr>\n",
       "      <th>test</th>\n",
       "      <td>6000</td>\n",
       "      <td>901.481952</td>\n",
       "      <td>34.915745</td>\n",
       "      <td>34.454970</td>\n",
       "    </tr>\n",
       "    <tr>\n",
       "      <th rowspan=\"2\" valign=\"top\">2</th>\n",
       "      <th>control</th>\n",
       "      <td>2000</td>\n",
       "      <td>2817.375641</td>\n",
       "      <td>64.283784</td>\n",
       "      <td>64.127681</td>\n",
       "    </tr>\n",
       "    <tr>\n",
       "      <th>test</th>\n",
       "      <td>2000</td>\n",
       "      <td>1661.679481</td>\n",
       "      <td>59.257831</td>\n",
       "      <td>59.510318</td>\n",
       "    </tr>\n",
       "  </tbody>\n",
       "</table>\n",
       "</div>"
      ],
      "text/plain": [
       "               variable                                   \n",
       "                  count          var       mean     median\n",
       "sample group                                              \n",
       "0      control    12000   290.309367  11.818885  11.912562\n",
       "       test       12000   405.191861  14.757865  14.639239\n",
       "1      control     6000   579.858494  30.977131  31.047910\n",
       "       test        6000   901.481952  34.915745  34.454970\n",
       "2      control     2000  2817.375641  64.283784  64.127681\n",
       "       test        2000  1661.679481  59.257831  59.510318"
      ]
     },
     "execution_count": 320,
     "metadata": {},
     "output_type": "execute_result"
    }
   ],
   "source": [
    "df_distr.groupby(['sample', 'group']).agg(['count', 'var', 'mean', 'median'])"
   ]
  },
  {
   "cell_type": "code",
   "execution_count": 321,
   "id": "48ff2774-2703-4726-b5b1-b027dfb85fb8",
   "metadata": {},
   "outputs": [
    {
     "data": {
      "image/png": "[encoded data removed]",
      "text/plain": [
       "<Figure size 476.25x216 with 2 Axes>"
      ]
     },
     "metadata": {
      "needs_background": "light"
     },
     "output_type": "display_data"
    }
   ],
   "source": [
    "g = sns.FacetGrid(df_distr, col=\"group\", hue=\"sample\")\n",
    "g.map_dataframe(sns.histplot, x=\"variable\")\n",
    "g.add_legend();"
   ]
  },
  {
   "cell_type": "markdown",
   "id": "7178c1f1-c365-4a84-a990-52b39df8618e",
   "metadata": {},
   "source": [
    "### Расчет среднего, дисперсии и вероятности попадания в страту"
   ]
  },
  {
   "cell_type": "code",
   "execution_count": 331,
   "id": "da54b558-e6ee-4dad-a796-ee9c7b252a52",
   "metadata": {},
   "outputs": [
    {
     "data": {
      "text/html": [
       "<div>\n",
       "<style scoped>\n",
       "    .dataframe tbody tr th:only-of-type {\n",
       "        vertical-align: middle;\n",
       "    }\n",
       "\n",
       "    .dataframe tbody tr th {\n",
       "        vertical-align: top;\n",
       "    }\n",
       "\n",
       "    .dataframe thead th {\n",
       "        text-align: right;\n",
       "    }\n",
       "</style>\n",
       "<table border=\"1\" class=\"dataframe\">\n",
       "  <thead>\n",
       "    <tr style=\"text-align: right;\">\n",
       "      <th></th>\n",
       "      <th>sample</th>\n",
       "      <th>mean</th>\n",
       "      <th>var</th>\n",
       "      <th>strat_weight</th>\n",
       "    </tr>\n",
       "  </thead>\n",
       "  <tbody>\n",
       "    <tr>\n",
       "      <th>0</th>\n",
       "      <td>0</td>\n",
       "      <td>13.288375</td>\n",
       "      <td>349.895615</td>\n",
       "      <td>0.6</td>\n",
       "    </tr>\n",
       "    <tr>\n",
       "      <th>1</th>\n",
       "      <td>1</td>\n",
       "      <td>32.946438</td>\n",
       "      <td>744.486988</td>\n",
       "      <td>0.3</td>\n",
       "    </tr>\n",
       "    <tr>\n",
       "      <th>2</th>\n",
       "      <td>2</td>\n",
       "      <td>61.770808</td>\n",
       "      <td>2245.284169</td>\n",
       "      <td>0.1</td>\n",
       "    </tr>\n",
       "  </tbody>\n",
       "</table>\n",
       "</div>"
      ],
      "text/plain": [
       "   sample       mean          var  strat_weight\n",
       "0       0  13.288375   349.895615           0.6\n",
       "1       1  32.946438   744.486988           0.3\n",
       "2       2  61.770808  2245.284169           0.1"
      ]
     },
     "execution_count": 331,
     "metadata": {},
     "output_type": "execute_result"
    }
   ],
   "source": [
    "strat_stats = {}\n",
    "\n",
    "sample_list = []\n",
    "mean_list = []\n",
    "var_list = []\n",
    "strat_weight_list = []\n",
    "\n",
    "for sample in list(set(df_distr['sample'])):\n",
    "    sample_data = df_distr[df_distr['sample'] == sample]\n",
    "\n",
    "    sample_list.append(sample)\n",
    "    mean_list.append(sample_data['variable'].mean())\n",
    "    var_list.append(sample_data['variable'].var())\n",
    "    strat_weight_list.append(sample_data['variable'].count() / df_distr['variable'].count())\n",
    "    \n",
    "strat_stats['sample'] = sample_list\n",
    "strat_stats['mean'] = mean_list\n",
    "strat_stats['var'] = var_list\n",
    "strat_stats['strat_weight'] = strat_weight_list\n",
    "\n",
    "strat_stats_data = pd.DataFrame(strat_stats)\n",
    "strat_stats_data"
   ]
  },
  {
   "cell_type": "markdown",
   "id": "8a0957b9-01a7-416c-9143-0eceee30d762",
   "metadata": {},
   "source": [
    "#### Расчет внутригрупповой дисперсии\n",
    "Сумма дисперсий стат, умноженные на вероятности попадания в страту"
   ]
  },
  {
   "cell_type": "code",
   "execution_count": 333,
   "id": "cec8b4b2-617c-444c-b140-533e75d558da",
   "metadata": {},
   "outputs": [
    {
     "data": {
      "text/plain": [
       "657.8118823427831"
      ]
     },
     "execution_count": 333,
     "metadata": {},
     "output_type": "execute_result"
    }
   ],
   "source": [
    "ingroup_var = (strat_stats_data['strat_weight'] * strat_stats_data['var']).sum()\n",
    "ingroup_var"
   ]
  },
  {
   "cell_type": "markdown",
   "id": "45ec60c8-56f1-46fe-bc82-51ce9aa0281d",
   "metadata": {},
   "source": [
    "#### Расчет межгрупповой дисперсии\n",
    "Сумма вероятностей попадания в страту умнжоженных на разницу общего среднего и среднего страты в квадрате"
   ]
  },
  {
   "cell_type": "code",
   "execution_count": 336,
   "id": "5ef03292-54bb-4aa1-8239-84da08e01c88",
   "metadata": {},
   "outputs": [
    {
     "data": {
      "text/plain": [
       "235.51720338216066"
      ]
     },
     "execution_count": 336,
     "metadata": {},
     "output_type": "execute_result"
    }
   ],
   "source": [
    "total_mean = df_distr.variable.mean()\n",
    "\n",
    "btw_group_var = (\\\n",
    " strat_stats_data['strat_weight'] *\\\n",
    "(total_mean - strat_stats_data['mean'])**2\\\n",
    ").sum()\n",
    "btw_group_var"
   ]
  },
  {
   "cell_type": "markdown",
   "id": "72279e82-310f-4c76-8203-0ad373d9d4b1",
   "metadata": {},
   "source": [
    "#### Сумма внутригрупповой и межгрупповой дисперсии равны общей дисперсии"
   ]
  },
  {
   "cell_type": "code",
   "execution_count": 350,
   "id": "4a2d1ee1-72f6-4e4d-915f-5cde67885e54",
   "metadata": {},
   "outputs": [
    {
     "data": {
      "text/plain": [
       "True"
      ]
     },
     "execution_count": 350,
     "metadata": {},
     "output_type": "execute_result"
    }
   ],
   "source": [
    "round(ingroup_var + btw_group_var, 1) == round(df_distr.variable.var(), 1)"
   ]
  },
  {
   "cell_type": "markdown",
   "id": "0d465e06-aae6-4aea-adb8-dd86accaf8af",
   "metadata": {},
   "source": [
    "## Cuped\n",
    "- В Cuped мы смотрим не просто на бизнес-метрику, а на измененную, которая чувствительнее, благодаря ее связи с пред-экспериментальным периодом\n",
    "    - Учитывается поведение пользователя до эксперимента (ковариата X) и во время эксперимента (фактическая метрика Y)\n",
    "- После нахождения между этими метриками зависимости, уменьшается дисперсия → увеличивается чувствительность\n",
    "- Таким образом, мы исключаем историческую дисперсию X (эффект сезонности и пр.) и оставляем только влияение пресущее самой метрике\n",
    "\n",
    "$$\n",
    "Y_{CUPED}=Y-\\theta*X\n",
    "$$\n",
    "где,\n",
    "- Y - метрика после эксперимента\n",
    "- $\\theta$ - уровень зависимости метрики от исторических данных\n",
    "    - $\\theta$ принимает значения от 0 до 1\n",
    "    - чем выше $\\theta$, тем выше связь метрик с историей и тем хуже мы можем оптимизировать дисперсию\n",
    "$$\n",
    "\\theta = \\frac{cov(X,Y)}{var(X)}\n",
    "$$\n",
    "- X - метрика до эксперимента (covariance). Для сохранения размерности среднего используется поправка на среднее\n",
    "$$\n",
    "X = covariance - mean(covariance)\n",
    "$$\n",
    "> Средняя и ковариата считается сразу для обеих групп вместе. Чтобы не быть подверженным возможным условиям эксперимента (несбалансированный трафик и пр.)"
   ]
  },
  {
   "cell_type": "markdown",
   "id": "bfd411e4-6672-4e03-9aed-92c6ecdc83ea",
   "metadata": {},
   "source": [
    "### Cuped имеет две модификации\n",
    "- Пред-стратификация по категориальным переменным, например, регион, тип тарифа. пр.\n",
    "- Ковариата - числовая непрерывная перемеенная взятая из истории пользователя *(как описали выше)*"
   ]
  },
  {
   "cell_type": "markdown",
   "id": "78f0c071-33c6-4bb2-8d1b-5ae253bfe078",
   "metadata": {},
   "source": [
    "### Почему в Cuped используется ковариация, а не корреляция?\n",
    "- <b>Ковариация</b> - <i>абсолютная</i> мера близости двух величин\n",
    "$$\n",
    "cov(x,y) = \\sum(x−x)̂*(y−y)̂\n",
    "$$\n",
    "- <b>Корреляция</b> - <i>относительная</i> мера близости двух величин\n",
    "$$\n",
    "r_{xy} = \\frac{\\sum_(x−x)̂*(y−y)̂}{\\sqrt{\\sum(x−x)̂^2*(y−y)̂^2}}\n",
    "$$\n",
    "> Значение корреляции имеет ниже размерность. Из-за этого она не смогла бы оказать достаточное виляние на ковариату"
   ]
  },
  {
   "cell_type": "markdown",
   "id": "2a30938a-0ed5-4dcc-86ae-f79f0ed44cca",
   "metadata": {},
   "source": [
    "##### Кстати\n",
    "> Ковариация двух равных величин равен дисперсии этой величины\n",
    "$$\n",
    "cov(x,x) = var(x)\n",
    "$$"
   ]
  },
  {
   "cell_type": "markdown",
   "id": "2b829fbd-3819-471f-854a-985a8e4f7b10",
   "metadata": {},
   "source": [
    "### Особенности Cuped\n",
    "- Для ковариаты каждой метрики важно подбирать свой размер окна\n",
    "- При этом окно ковариаты может время от времени меняться. И его периодически придется перевалидировать\n",
    "- Подбор окна производится через А/А тест\n",
    "    1. Выбираем метрику\n",
    "    2. Замеряем метрику (Y)\n",
    "    3. Считаем окна разной длины по этой метрике (ковариаты X)\n",
    "    4. Сравниваем MDE в зависимости от мощности\n",
    "        - Чем ниже MDE относительно мощности, тем лучше апроксимируется дисперсия\n",
    "\n",
    "##### Важно: если метрика считается кумулятивно, то ковариата должна брать за тот же период"
   ]
  },
  {
   "cell_type": "markdown",
   "id": "550197d0-d58f-46de-9a09-2ac6c04667e4",
   "metadata": {},
   "source": [
    "#### Сгенерим данные"
   ]
  },
  {
   "cell_type": "code",
   "execution_count": 399,
   "id": "64042bf4-fe9f-48e4-a740-f24236852a88",
   "metadata": {},
   "outputs": [
    {
     "data": {
      "text/html": [
       "<div>\n",
       "<style scoped>\n",
       "    .dataframe tbody tr th:only-of-type {\n",
       "        vertical-align: middle;\n",
       "    }\n",
       "\n",
       "    .dataframe tbody tr th {\n",
       "        vertical-align: top;\n",
       "    }\n",
       "\n",
       "    .dataframe thead th {\n",
       "        text-align: right;\n",
       "    }\n",
       "</style>\n",
       "<table border=\"1\" class=\"dataframe\">\n",
       "  <thead>\n",
       "    <tr style=\"text-align: right;\">\n",
       "      <th></th>\n",
       "      <th>x</th>\n",
       "      <th>y</th>\n",
       "    </tr>\n",
       "  </thead>\n",
       "  <tbody>\n",
       "    <tr>\n",
       "      <th>0</th>\n",
       "      <td>61</td>\n",
       "      <td>66</td>\n",
       "    </tr>\n",
       "    <tr>\n",
       "      <th>1</th>\n",
       "      <td>51</td>\n",
       "      <td>57</td>\n",
       "    </tr>\n",
       "    <tr>\n",
       "      <th>2</th>\n",
       "      <td>78</td>\n",
       "      <td>62</td>\n",
       "    </tr>\n",
       "    <tr>\n",
       "      <th>3</th>\n",
       "      <td>60</td>\n",
       "      <td>60</td>\n",
       "    </tr>\n",
       "    <tr>\n",
       "      <th>4</th>\n",
       "      <td>70</td>\n",
       "      <td>62</td>\n",
       "    </tr>\n",
       "  </tbody>\n",
       "</table>\n",
       "</div>"
      ],
      "text/plain": [
       "    x   y\n",
       "0  61  66\n",
       "1  51  57\n",
       "2  78  62\n",
       "3  60  60\n",
       "4  70  62"
      ]
     },
     "execution_count": 399,
     "metadata": {},
     "output_type": "execute_result"
    }
   ],
   "source": [
    "# x - ковариата (историческая метрика)\n",
    "# y - метрика в эксперименте\n",
    "\n",
    "data = pd.DataFrame({\n",
    "    'x': np.random.randint(50,80,1000),\n",
    "    'y': np.random.randint(55,85,1000)\n",
    "})\n",
    "data.head()"
   ]
  },
  {
   "cell_type": "code",
   "execution_count": 400,
   "id": "a0ac017f-e23a-4bf5-b96d-e45eda9811b5",
   "metadata": {},
   "outputs": [
    {
     "data": {
      "text/html": [
       "<div>\n",
       "<style scoped>\n",
       "    .dataframe tbody tr th:only-of-type {\n",
       "        vertical-align: middle;\n",
       "    }\n",
       "\n",
       "    .dataframe tbody tr th {\n",
       "        vertical-align: top;\n",
       "    }\n",
       "\n",
       "    .dataframe thead th {\n",
       "        text-align: right;\n",
       "    }\n",
       "</style>\n",
       "<table border=\"1\" class=\"dataframe\">\n",
       "  <thead>\n",
       "    <tr style=\"text-align: right;\">\n",
       "      <th></th>\n",
       "      <th>x</th>\n",
       "      <th>y</th>\n",
       "    </tr>\n",
       "  </thead>\n",
       "  <tbody>\n",
       "    <tr>\n",
       "      <th>mean</th>\n",
       "      <td>63.967000</td>\n",
       "      <td>69.636000</td>\n",
       "    </tr>\n",
       "    <tr>\n",
       "      <th>median</th>\n",
       "      <td>63.000000</td>\n",
       "      <td>70.000000</td>\n",
       "    </tr>\n",
       "    <tr>\n",
       "      <th>var</th>\n",
       "      <td>74.150061</td>\n",
       "      <td>71.681185</td>\n",
       "    </tr>\n",
       "  </tbody>\n",
       "</table>\n",
       "</div>"
      ],
      "text/plain": [
       "                x          y\n",
       "mean    63.967000  69.636000\n",
       "median  63.000000  70.000000\n",
       "var     74.150061  71.681185"
      ]
     },
     "execution_count": 400,
     "metadata": {},
     "output_type": "execute_result"
    }
   ],
   "source": [
    "data.agg(['mean', 'median', 'var'])"
   ]
  },
  {
   "cell_type": "code",
   "execution_count": 401,
   "id": "eece3c41-2266-4e2b-aaa0-79aaeea93ced",
   "metadata": {},
   "outputs": [],
   "source": [
    "def cuped(covariate, metric):\n",
    "    '''\n",
    "    covariate - ковариата (историческая метрика)\n",
    "    metric - метрика в эксперименте\n",
    "    '''\n",
    "    return metric - (covariate.cov(metric) / covariate.var()) * (covariate - covariate.mean())"
   ]
  },
  {
   "cell_type": "code",
   "execution_count": 402,
   "id": "ba20b76c-ab93-4c89-b1bc-ad446f3e88df",
   "metadata": {},
   "outputs": [],
   "source": [
    "data['y_cuped'] = cuped(data.x, data.y)"
   ]
  },
  {
   "cell_type": "code",
   "execution_count": 403,
   "id": "c30eb1e1-97ef-4b23-a2d4-e6d3b06c2310",
   "metadata": {},
   "outputs": [
    {
     "data": {
      "text/html": [
       "<div>\n",
       "<style scoped>\n",
       "    .dataframe tbody tr th:only-of-type {\n",
       "        vertical-align: middle;\n",
       "    }\n",
       "\n",
       "    .dataframe tbody tr th {\n",
       "        vertical-align: top;\n",
       "    }\n",
       "\n",
       "    .dataframe thead th {\n",
       "        text-align: right;\n",
       "    }\n",
       "</style>\n",
       "<table border=\"1\" class=\"dataframe\">\n",
       "  <thead>\n",
       "    <tr style=\"text-align: right;\">\n",
       "      <th></th>\n",
       "      <th>x</th>\n",
       "      <th>y</th>\n",
       "      <th>y_cuped</th>\n",
       "    </tr>\n",
       "  </thead>\n",
       "  <tbody>\n",
       "    <tr>\n",
       "      <th>0</th>\n",
       "      <td>61</td>\n",
       "      <td>66</td>\n",
       "      <td>65.831815</td>\n",
       "    </tr>\n",
       "    <tr>\n",
       "      <th>1</th>\n",
       "      <td>51</td>\n",
       "      <td>57</td>\n",
       "      <td>56.264962</td>\n",
       "    </tr>\n",
       "    <tr>\n",
       "      <th>2</th>\n",
       "      <td>78</td>\n",
       "      <td>62</td>\n",
       "      <td>62.795464</td>\n",
       "    </tr>\n",
       "    <tr>\n",
       "      <th>3</th>\n",
       "      <td>60</td>\n",
       "      <td>60</td>\n",
       "      <td>59.775130</td>\n",
       "    </tr>\n",
       "    <tr>\n",
       "      <th>4</th>\n",
       "      <td>70</td>\n",
       "      <td>62</td>\n",
       "      <td>62.341982</td>\n",
       "    </tr>\n",
       "  </tbody>\n",
       "</table>\n",
       "</div>"
      ],
      "text/plain": [
       "    x   y    y_cuped\n",
       "0  61  66  65.831815\n",
       "1  51  57  56.264962\n",
       "2  78  62  62.795464\n",
       "3  60  60  59.775130\n",
       "4  70  62  62.341982"
      ]
     },
     "execution_count": 403,
     "metadata": {},
     "output_type": "execute_result"
    }
   ],
   "source": [
    "data.head()"
   ]
  },
  {
   "cell_type": "code",
   "execution_count": 404,
   "id": "ec05dea5-f9e3-4853-a89a-84a5b376086f",
   "metadata": {},
   "outputs": [
    {
     "data": {
      "text/html": [
       "<div>\n",
       "<style scoped>\n",
       "    .dataframe tbody tr th:only-of-type {\n",
       "        vertical-align: middle;\n",
       "    }\n",
       "\n",
       "    .dataframe tbody tr th {\n",
       "        vertical-align: top;\n",
       "    }\n",
       "\n",
       "    .dataframe thead th {\n",
       "        text-align: right;\n",
       "    }\n",
       "</style>\n",
       "<table border=\"1\" class=\"dataframe\">\n",
       "  <thead>\n",
       "    <tr style=\"text-align: right;\">\n",
       "      <th></th>\n",
       "      <th>x</th>\n",
       "      <th>y</th>\n",
       "      <th>y_cuped</th>\n",
       "    </tr>\n",
       "  </thead>\n",
       "  <tbody>\n",
       "    <tr>\n",
       "      <th>mean</th>\n",
       "      <td>63.967000</td>\n",
       "      <td>69.636000</td>\n",
       "      <td>69.636000</td>\n",
       "    </tr>\n",
       "    <tr>\n",
       "      <th>median</th>\n",
       "      <td>63.000000</td>\n",
       "      <td>70.000000</td>\n",
       "      <td>69.738779</td>\n",
       "    </tr>\n",
       "    <tr>\n",
       "      <th>var</th>\n",
       "      <td>74.150061</td>\n",
       "      <td>71.681185</td>\n",
       "      <td>71.442925</td>\n",
       "    </tr>\n",
       "  </tbody>\n",
       "</table>\n",
       "</div>"
      ],
      "text/plain": [
       "                x          y    y_cuped\n",
       "mean    63.967000  69.636000  69.636000\n",
       "median  63.000000  70.000000  69.738779\n",
       "var     74.150061  71.681185  71.442925"
      ]
     },
     "execution_count": 404,
     "metadata": {},
     "output_type": "execute_result"
    }
   ],
   "source": [
    "# Дисперсия y_cuped ниже, чем у Y\n",
    "data.agg(['mean', 'median', 'var'])"
   ]
  },
  {
   "cell_type": "markdown",
   "id": "4c3fcd4d-e368-417e-ab89-7f58ac6158d7",
   "metadata": {},
   "source": [
    "#### Для оценки влияния Cuped на скорость сходимости дисперсии (и, соответственно, на скорость эксперимента), сравним как ведут себя дисперсии метрики и cuped метрики на разных наборах наблдений\n",
    "> Можно заметить, что разница минимальна. Это говорит о том, что Cuped не всегда позволяет значимо сократить дисперсию"
   ]
  },
  {
   "cell_type": "code",
   "execution_count": 521,
   "id": "070feded-8850-469f-aa07-6ccf23121fa8",
   "metadata": {},
   "outputs": [
    {
     "data": {
      "text/html": [
       "<div>\n",
       "<style scoped>\n",
       "    .dataframe tbody tr th:only-of-type {\n",
       "        vertical-align: middle;\n",
       "    }\n",
       "\n",
       "    .dataframe tbody tr th {\n",
       "        vertical-align: top;\n",
       "    }\n",
       "\n",
       "    .dataframe thead th {\n",
       "        text-align: right;\n",
       "    }\n",
       "</style>\n",
       "<table border=\"1\" class=\"dataframe\">\n",
       "  <thead>\n",
       "    <tr style=\"text-align: right;\">\n",
       "      <th></th>\n",
       "      <th>y_cumstd</th>\n",
       "      <th>y_cuped_cumstd</th>\n",
       "      <th>index</th>\n",
       "    </tr>\n",
       "  </thead>\n",
       "  <tbody>\n",
       "    <tr>\n",
       "      <th>0</th>\n",
       "      <td>NaN</td>\n",
       "      <td>NaN</td>\n",
       "      <td>0</td>\n",
       "    </tr>\n",
       "    <tr>\n",
       "      <th>1</th>\n",
       "      <td>6.363961</td>\n",
       "      <td>6.764786</td>\n",
       "      <td>1</td>\n",
       "    </tr>\n",
       "    <tr>\n",
       "      <th>2</th>\n",
       "      <td>4.509250</td>\n",
       "      <td>4.888619</td>\n",
       "      <td>2</td>\n",
       "    </tr>\n",
       "    <tr>\n",
       "      <th>3</th>\n",
       "      <td>3.774917</td>\n",
       "      <td>4.097954</td>\n",
       "      <td>3</td>\n",
       "    </tr>\n",
       "    <tr>\n",
       "      <th>4</th>\n",
       "      <td>3.286335</td>\n",
       "      <td>3.587633</td>\n",
       "      <td>4</td>\n",
       "    </tr>\n",
       "  </tbody>\n",
       "</table>\n",
       "</div>"
      ],
      "text/plain": [
       "   y_cumstd  y_cuped_cumstd  index\n",
       "0       NaN             NaN      0\n",
       "1  6.363961        6.764786      1\n",
       "2  4.509250        4.888619      2\n",
       "3  3.774917        4.097954      3\n",
       "4  3.286335        3.587633      4"
      ]
     },
     "execution_count": 534,
     "metadata": {},
     "output_type": "execute_result"
    }
   ],
   "source": [
    "data_cumstd = pd.DataFrame()\n",
    "data_cumstd['y_cumstd'] = data.y.expanding(2).std()\n",
    "data_cumstd['y_cuped_cumstd'] = data.y_cuped.expanding(2).std()\n",
    "data_cumstd.head()"
   ]
  },
  {
   "cell_type": "code",
   "execution_count": 538,
   "id": "1889c404-41ce-4106-a229-7aa289f291fe",
   "metadata": {},
   "outputs": [
    {
     "data": {
      "image/png": "[encoded data removed]",
      "text/plain": [
       "<Figure size 1080x360 with 2 Axes>"
      ]
     },
     "metadata": {
      "needs_background": "light"
     },
     "output_type": "display_data"
    }
   ],
   "source": [
    "fig, axes = plt.subplots(1, 2, figsize=(15, 5))\n",
    "fig.suptitle('Comparison of Standart Deviation meric VS cuped metric')\n",
    "\n",
    "sns.lineplot(\n",
    "    data=data_cumstd,\n",
    "    x='index',\n",
    "    y='y_cumstd',\n",
    "    ax=axes[0]\n",
    ");\n",
    "sns.lineplot(\n",
    "    data=data_cumstd,\n",
    "    x='index',\n",
    "    y='y_cuped_cumstd',\n",
    "    ax=axes[1]\n",
    ");"
   ]
  },
  {
   "cell_type": "markdown",
   "id": "801adbcc-de80-448c-88fe-ddf9e9792950",
   "metadata": {},
   "source": [
    "## Ratio-метрики\n",
    "> Ratio-метрика – это отношение одной случайной величины к другой. Например, клики к просмотрам или клики к сессиям\n",
    "\n",
    "##### Какие есть особенности данного типа метрик?\n",
    "- Дисперсия\n",
    "    <br>У каждой из величин в ratio-метрике будет своя дисперсия. И этот эффект важно учитывать\n",
    "- Ratio-метрику нельзя представить как бинарную (т.к. перед использованием критерия попадем в проблему с зависимостью наблюдений)\n",
    "- Влияние весов (CTR 1% может представлен как 1/100 или 100/10000)\n",
    "\n",
    "##### Как брать среднее для ratio-метрик?\n",
    "- Нельзя считать ratio поюзерно, а потом брать их среднее. Этот метод рассчета вызывает смещение от отношения каждой из сумм\n",
    "- Правильно брать поюзерную сумму по числителю, поюзерную сумму по знаменателю и затем считать их отношение \n",
    "\n",
    "#### Методы работы с Ratio\n",
    "- Бутстрап\n",
    "- Дельта-метод\n",
    "- Линеаризация"
   ]
  },
  {
   "cell_type": "markdown",
   "id": "cf31f813-9279-4cf8-aca5-762710bfe749",
   "metadata": {},
   "source": [
    "### Бутстрап\n",
    "1. Считаем подвыборку ratio-метрики в тесте и контроле\n",
    "2. Полученные значения умножаем на их вес (на знаменатель), чтобы сократить смещение (bias)\n",
    "3. Считаем разницу метрик (тест-конроль)\n",
    "4. Полученное распределение разностей метрик можно дальше анализировать\n",
    "\n",
    "#### Другой, более популярный случай, применения бутстрапа для ratio - Пуасоновский Бутстрап\n",
    "> Распределение Пуассона с лямбдой равной единице приближенно к биномиальному. Полученные дискретные значения представляются в виде случаев, как будто бы мы делали многократные семплирования количества пользователей, которые встречаются в выборке. Так значительно ускоряются вычисления, т.к. не требуется делать 1000 операций, а лишь 1.\n",
    "\n",
    "1. Генерируем распределение Пуассона с лямбдой = 1\n",
    "2. Значения отношений умножаем на их вес (в данном случае это знаменатель), чтобы избежать bias\n",
    "3. Отношения умножаем на значения Пуассона\n",
    "4. Считаем разницу и получаем распределение разницы метрики-отношения контроля и теста"
   ]
  },
  {
   "cell_type": "markdown",
   "id": "fd885d91-783c-4c1d-923b-0c97d285971b",
   "metadata": {},
   "source": [
    "#### Посмотрим как выглядит Паусоновское распределение и как Паусоновское распределение с лямбдой 1 апроксимрует биномиальное распределение"
   ]
  },
  {
   "cell_type": "code",
   "execution_count": 475,
   "id": "d6985eb3-9eed-4034-843b-c8a203b2d4e7",
   "metadata": {},
   "outputs": [],
   "source": [
    "p1 = poisson(1).rvs(1000)\n",
    "p5 = poisson(5).rvs(1000)\n",
    "b = sts.binom(1000, 1/1000).rvs(1000)"
   ]
  },
  {
   "cell_type": "code",
   "execution_count": 478,
   "id": "5f3eb667-11d7-44ae-aa96-e05bf331bd0e",
   "metadata": {},
   "outputs": [
    {
     "data": {
      "image/png": "[encoded data removed]",
      "text/plain": [
       "<Figure size 1080x360 with 3 Axes>"
      ]
     },
     "metadata": {
      "needs_background": "light"
     },
     "output_type": "display_data"
    }
   ],
   "source": [
    "fig, axes = plt.subplots(1, 3, figsize=(15, 5))\n",
    "fig.suptitle('Poisson Distribution - lambda comparison')\n",
    "\n",
    "sns.histplot(ax=axes[0], x=b)\n",
    "axes[0].set_title('Binomial Distribution')\n",
    "sns.histplot(ax=axes[1], x=p1)\n",
    "axes[1].set_title('Poisson with lambda 1')\n",
    "sns.histplot(ax=axes[2], x=p5)\n",
    "axes[2].set_title('Poisson with lambda 5');"
   ]
  },
  {
   "cell_type": "code",
   "execution_count": null,
   "id": "6aecd0de-7e84-4e93-855a-9dfb2c6fda9a",
   "metadata": {},
   "outputs": [],
   "source": [
    "def bootstrap_poisson(rto0, w0, rto1, w1, boot_it=500):\n",
    "    \"\"\"\n",
    "    Пуассоновский бутстрап\n",
    "    :param rto0: Рассчитанное ratio для левого сплита\n",
    "    :param w0: Знаменатель rto0\n",
    "    :param rto1: Рассчитанное ratio для правого сплита\n",
    "    :param w1: Знаменатель rto1\n",
    "    :param boot_it: количество бут итераций\n",
    "    :return: pvalue\n",
    "    \"\"\"\n",
    "    \n",
    "    poisson_0 = poisson(1).rvs((boot_it, rto0.size)).astype(np.int64)\n",
    "    poisson_1 = poisson(1).rvs((boot_it, rto1.size)).astype(np.int64)\n",
    "\n",
    "    rto1 = np.matmul(rto1 * w1, poisson_1.T)\n",
    "\n",
    "    w1 = np.matmul(w1, poisson_1.T)\n",
    "\n",
    "    rto0 = np.matmul(rto0 * w0, poisson_0.T)\n",
    "    w0 = np.matmul(w0, poisson_0.T)\n",
    "    \n",
    "    delta = rto1 / w1 - rto0 / w0\n",
    "    \n",
    "    positions = np.sum(delta < 0)\n",
    "\n",
    "    pvalue = 2 * np.minimum(positions, boot_it - positions) / boot_it\n",
    "    return pvalue"
   ]
  },
  {
   "cell_type": "markdown",
   "id": "0c183626-3370-447e-aca8-3dc7f5dda534",
   "metadata": {},
   "source": [
    "### Delta-метод\n",
    "Delta-метод позволяет получить апроксимированное значение дисперсии для любой случайной величины, в том числе и для ratio.\n",
    "Для этого дисперсия преобразовывается с помощью ряда Тейлора"
   ]
  },
  {
   "cell_type": "code",
   "execution_count": null,
   "id": "6f7253b0-81cb-4dd7-ae68-f961c9828a8f",
   "metadata": {},
   "outputs": [],
   "source": [
    "def deltamethod(x_0, y_0, x_1, y_1):\n",
    "    n_0 = y_0.shape[0]-1\n",
    "    n_1 = y_0.shape[0]-1\n",
    "\n",
    "    mean_x_0, var_x_0 = np.mean(x_0), np.var(x_0)\n",
    "    mean_x_1, var_x_1 = np.mean(x_1), np.var(x_1)\n",
    "\n",
    "    mean_y_0, var_y_0 = np.mean(y_0), np.var(y_0)\n",
    "    mean_y_1, var_y_1 = np.mean(y_1), np.var(y_1)\n",
    "\n",
    "    cov_0 = np.mean((x_0 - mean_x_0.reshape(-1, )) * (y_0 - mean_y_0.reshape(-1, )))\n",
    "    cov_1 = np.mean((x_1 - mean_x_1.reshape(-1, )) * (y_1 - mean_y_1.reshape(-1, )))\n",
    "\n",
    "    var_0 = var_x_0 / mean_y_0 ** 2 + var_y_0 * mean_x_0 ** 2 / mean_y_0 ** 4 - 2 * mean_x_0 / mean_y_0 ** 3 * cov_0\n",
    "    var_1 = var_x_1 / mean_y_1 ** 2 + var_y_1 * mean_x_1 ** 2 / mean_y_1 ** 4 - 2 * mean_x_1 / mean_y_1 ** 3 * cov_1\n",
    "\n",
    "    rto_0 = np.sum(x_0) / np.sum(y_0)\n",
    "    rto_1 = np.sum(x_1) / np.sum(y_1)\n",
    "\n",
    "    statistic = (rto_1 - rto_0) / np.sqrt(var_0 / n_0 + var_1 / n_1)\n",
    "    pvalue = 2 * np.minimum(norm(0, 1).cdf(statistic), 1 - norm(0, 1).cdf(statistic))\n",
    "    return pvalue"
   ]
  },
  {
   "cell_type": "markdown",
   "id": "5e489ad3-e32b-400b-8fc7-ebd24a3ec8a7",
   "metadata": {},
   "source": [
    "### Линеаризация\n",
    "С помощью линеаризации мы хотим понять отклонение метрики в эксперименте относительно ratio в контроле"
   ]
  },
  {
   "cell_type": "code",
   "execution_count": null,
   "id": "f1fb2753-722c-49ee-9fb5-7521951003fc",
   "metadata": {},
   "outputs": [],
   "source": [
    "def linearization(x_0, y_0, x_1, y_1):\n",
    "    k = x_0.sum() / y_0.sum()\n",
    "    l_0 = x_0 - k * y_0\n",
    "    l_1 = x_1 - k * y_1\n",
    "    return l_0, l_1"
   ]
  },
  {
   "cell_type": "code",
   "execution_count": null,
   "id": "67b5c5e1-7568-4e92-9460-03b6547fd524",
   "metadata": {},
   "outputs": [],
   "source": []
  },
  {
   "cell_type": "code",
   "execution_count": null,
   "id": "ae335e3f-eeae-4a92-bfd4-9030f769dc13",
   "metadata": {},
   "outputs": [],
   "source": []
  },
  {
   "cell_type": "code",
   "execution_count": null,
   "id": "29a9fc37-70f2-45d8-ac9a-cdcb5fa9022d",
   "metadata": {},
   "outputs": [],
   "source": []
  }
 ],
 "metadata": {
  "kernelspec": {
   "display_name": "Python 3 (ipykernel)",
   "language": "python",
   "name": "python3"
  },
  "language_info": {
   "codemirror_mode": {
    "name": "ipython",
    "version": 3
   },
   "file_extension": ".py",
   "mimetype": "text/x-python",
   "name": "python",
   "nbconvert_exporter": "python",
   "pygments_lexer": "ipython3",
   "version": "3.9.6"
  }
 },
 "nbformat": 4,
 "nbformat_minor": 5
}
