{
 "cells": [
  {
   "cell_type": "code",
   "execution_count": 52,
   "id": "61cdf2be-afd1-4097-a2e4-561a5d7571f0",
   "metadata": {},
   "outputs": [],
   "source": [
    "import pandas as pd\n",
    "import numpy as np\n",
    "\n",
    "import datetime as dt\n",
    "import math\n",
    "\n",
    "import statsmodels.stats.power as smp\n",
    "import scipy.stats as sts\n",
    "\n",
    "import matplotlib.pyplot as plt\n",
    "import seaborn as sns\n",
    "plt.style.use('ggplot')"
   ]
  },
  {
   "cell_type": "code",
   "execution_count": 2,
   "id": "6178685d-bded-4d58-9488-b696b7d55844",
   "metadata": {},
   "outputs": [
    {
     "data": {
      "text/html": [
       "<div>\n",
       "<style scoped>\n",
       "    .dataframe tbody tr th:only-of-type {\n",
       "        vertical-align: middle;\n",
       "    }\n",
       "\n",
       "    .dataframe tbody tr th {\n",
       "        vertical-align: top;\n",
       "    }\n",
       "\n",
       "    .dataframe thead th {\n",
       "        text-align: right;\n",
       "    }\n",
       "</style>\n",
       "<table border=\"1\" class=\"dataframe\">\n",
       "  <thead>\n",
       "    <tr style=\"text-align: right;\">\n",
       "      <th></th>\n",
       "      <th>purchaseSystem</th>\n",
       "      <th>orderRevenue</th>\n",
       "      <th>experimentVariant</th>\n",
       "    </tr>\n",
       "  </thead>\n",
       "  <tbody>\n",
       "    <tr>\n",
       "      <th>1</th>\n",
       "      <td>Pp</td>\n",
       "      <td>15,99</td>\n",
       "      <td>Treatment</td>\n",
       "    </tr>\n",
       "    <tr>\n",
       "      <th>2</th>\n",
       "      <td>Pp</td>\n",
       "      <td>17,99</td>\n",
       "      <td>Treatment</td>\n",
       "    </tr>\n",
       "    <tr>\n",
       "      <th>3</th>\n",
       "      <td>Pp</td>\n",
       "      <td>15,99</td>\n",
       "      <td>Treatment</td>\n",
       "    </tr>\n",
       "    <tr>\n",
       "      <th>4</th>\n",
       "      <td>Pp</td>\n",
       "      <td>15,99</td>\n",
       "      <td>Treatment</td>\n",
       "    </tr>\n",
       "    <tr>\n",
       "      <th>5</th>\n",
       "      <td>Pp</td>\n",
       "      <td>17,99</td>\n",
       "      <td>Treatment</td>\n",
       "    </tr>\n",
       "  </tbody>\n",
       "</table>\n",
       "</div>"
      ],
      "text/plain": [
       "  purchaseSystem orderRevenue experimentVariant\n",
       "1             Pp        15,99         Treatment\n",
       "2             Pp        17,99         Treatment\n",
       "3             Pp        15,99         Treatment\n",
       "4             Pp        15,99         Treatment\n",
       "5             Pp        17,99         Treatment"
      ]
     },
     "execution_count": 2,
     "metadata": {},
     "output_type": "execute_result"
    }
   ],
   "source": [
    "data = pd.read_csv('hw4.csv', sep=';', index_col=0)\n",
    "data.head()"
   ]
  },
  {
   "cell_type": "code",
   "execution_count": 37,
   "id": "2f025c49-2aaf-4b5d-a744-b4c86b91d785",
   "metadata": {},
   "outputs": [],
   "source": [
    "data.orderRevenue = data.orderRevenue.str.replace(\",\",\".\").astype('float')"
   ]
  },
  {
   "cell_type": "code",
   "execution_count": 45,
   "id": "8d792388-f7ae-460a-ae4b-47ac5c0f3301",
   "metadata": {},
   "outputs": [
    {
     "data": {
      "text/html": [
       "<div>\n",
       "<style scoped>\n",
       "    .dataframe tbody tr th:only-of-type {\n",
       "        vertical-align: middle;\n",
       "    }\n",
       "\n",
       "    .dataframe tbody tr th {\n",
       "        vertical-align: top;\n",
       "    }\n",
       "\n",
       "    .dataframe thead th {\n",
       "        text-align: right;\n",
       "    }\n",
       "</style>\n",
       "<table border=\"1\" class=\"dataframe\">\n",
       "  <thead>\n",
       "    <tr style=\"text-align: right;\">\n",
       "      <th></th>\n",
       "      <th>sum</th>\n",
       "      <th>mean</th>\n",
       "      <th>std</th>\n",
       "      <th>count</th>\n",
       "    </tr>\n",
       "    <tr>\n",
       "      <th>experimentVariant</th>\n",
       "      <th></th>\n",
       "      <th></th>\n",
       "      <th></th>\n",
       "      <th></th>\n",
       "    </tr>\n",
       "  </thead>\n",
       "  <tbody>\n",
       "    <tr>\n",
       "      <th>Control</th>\n",
       "      <td>14432.54</td>\n",
       "      <td>17.059740</td>\n",
       "      <td>3.085159</td>\n",
       "      <td>846</td>\n",
       "    </tr>\n",
       "    <tr>\n",
       "      <th>Treatment</th>\n",
       "      <td>13459.07</td>\n",
       "      <td>16.972346</td>\n",
       "      <td>3.400415</td>\n",
       "      <td>793</td>\n",
       "    </tr>\n",
       "  </tbody>\n",
       "</table>\n",
       "</div>"
      ],
      "text/plain": [
       "                        sum       mean       std  count\n",
       "experimentVariant                                      \n",
       "Control            14432.54  17.059740  3.085159    846\n",
       "Treatment          13459.07  16.972346  3.400415    793"
      ]
     },
     "execution_count": 45,
     "metadata": {},
     "output_type": "execute_result"
    }
   ],
   "source": [
    "data.groupby('experimentVariant').orderRevenue.agg(['sum','mean','std','count'])"
   ]
  },
  {
   "cell_type": "code",
   "execution_count": 44,
   "id": "b001e1d0-3b00-4232-b214-d8497ae470a7",
   "metadata": {},
   "outputs": [
    {
     "data": {
      "text/html": [
       "<div>\n",
       "<style scoped>\n",
       "    .dataframe tbody tr th:only-of-type {\n",
       "        vertical-align: middle;\n",
       "    }\n",
       "\n",
       "    .dataframe tbody tr th {\n",
       "        vertical-align: top;\n",
       "    }\n",
       "\n",
       "    .dataframe thead th {\n",
       "        text-align: right;\n",
       "    }\n",
       "</style>\n",
       "<table border=\"1\" class=\"dataframe\">\n",
       "  <thead>\n",
       "    <tr style=\"text-align: right;\">\n",
       "      <th></th>\n",
       "      <th></th>\n",
       "      <th>sum</th>\n",
       "      <th>mean</th>\n",
       "      <th>std</th>\n",
       "      <th>count</th>\n",
       "    </tr>\n",
       "    <tr>\n",
       "      <th>experimentVariant</th>\n",
       "      <th>purchaseSystem</th>\n",
       "      <th></th>\n",
       "      <th></th>\n",
       "      <th></th>\n",
       "      <th></th>\n",
       "    </tr>\n",
       "  </thead>\n",
       "  <tbody>\n",
       "    <tr>\n",
       "      <th rowspan=\"3\" valign=\"top\">Control</th>\n",
       "      <th>Pp</th>\n",
       "      <td>9513.05</td>\n",
       "      <td>15.988319</td>\n",
       "      <td>2.099783</td>\n",
       "      <td>595</td>\n",
       "    </tr>\n",
       "    <tr>\n",
       "      <th>St</th>\n",
       "      <td>2532.79</td>\n",
       "      <td>20.932149</td>\n",
       "      <td>2.507647</td>\n",
       "      <td>121</td>\n",
       "    </tr>\n",
       "    <tr>\n",
       "      <th>Yc</th>\n",
       "      <td>2386.70</td>\n",
       "      <td>18.359231</td>\n",
       "      <td>3.890235</td>\n",
       "      <td>130</td>\n",
       "    </tr>\n",
       "    <tr>\n",
       "      <th rowspan=\"3\" valign=\"top\">Treatment</th>\n",
       "      <th>Pp</th>\n",
       "      <td>8787.54</td>\n",
       "      <td>16.094396</td>\n",
       "      <td>2.002315</td>\n",
       "      <td>546</td>\n",
       "    </tr>\n",
       "    <tr>\n",
       "      <th>St</th>\n",
       "      <td>3123.57</td>\n",
       "      <td>21.843147</td>\n",
       "      <td>2.328507</td>\n",
       "      <td>143</td>\n",
       "    </tr>\n",
       "    <tr>\n",
       "      <th>Yc</th>\n",
       "      <td>1547.96</td>\n",
       "      <td>14.884231</td>\n",
       "      <td>4.335266</td>\n",
       "      <td>104</td>\n",
       "    </tr>\n",
       "  </tbody>\n",
       "</table>\n",
       "</div>"
      ],
      "text/plain": [
       "                                      sum       mean       std  count\n",
       "experimentVariant purchaseSystem                                     \n",
       "Control           Pp              9513.05  15.988319  2.099783    595\n",
       "                  St              2532.79  20.932149  2.507647    121\n",
       "                  Yc              2386.70  18.359231  3.890235    130\n",
       "Treatment         Pp              8787.54  16.094396  2.002315    546\n",
       "                  St              3123.57  21.843147  2.328507    143\n",
       "                  Yc              1547.96  14.884231  4.335266    104"
      ]
     },
     "execution_count": 44,
     "metadata": {},
     "output_type": "execute_result"
    }
   ],
   "source": [
    "data.groupby(['experimentVariant','purchaseSystem']).orderRevenue.agg(['sum','mean','std','count'])"
   ]
  },
  {
   "cell_type": "markdown",
   "id": "384f59f9-6c34-47b6-bc2f-8034ed91e51c",
   "metadata": {},
   "source": [
    "## Задача 1\n",
    "Есть ли значимое изменение в большую или меньшую сторону у суммы списаний в зависимости от варианта теста"
   ]
  },
  {
   "cell_type": "code",
   "execution_count": 48,
   "id": "bfa900b9-02a6-4208-9118-9ac70fa8fd88",
   "metadata": {},
   "outputs": [
    {
     "data": {
      "image/png": "[encoded data removed]",
      "text/plain": [
       "<Figure size 460.875x360 with 1 Axes>"
      ]
     },
     "metadata": {},
     "output_type": "display_data"
    }
   ],
   "source": [
    "sns.displot(\n",
    "    data=data,\n",
    "    x='orderRevenue',\n",
    "    hue='experimentVariant'\n",
    ");"
   ]
  },
  {
   "cell_type": "code",
   "execution_count": 58,
   "id": "8abc05c9-6875-4115-b686-eb21d8cd7328",
   "metadata": {},
   "outputs": [
    {
     "name": "stdout",
     "output_type": "stream",
     "text": [
      "-0.5437574209912184 0.5866843840582027\n"
     ]
    }
   ],
   "source": [
    "test_data = data[data['experimentVariant'] == 'Treatment'].orderRevenue\n",
    "control_data = data[data['experimentVariant'] == 'Control'].orderRevenue\n",
    "\n",
    "t, p_value = sts.ttest_ind(\n",
    "    test_data,\n",
    "    control_data,\n",
    "    equal_var=False\n",
    ")\n",
    "print(t, p_value)"
   ]
  },
  {
   "cell_type": "markdown",
   "id": "18e26d56-0cd9-4f24-889b-e00191a3f845",
   "metadata": {},
   "source": [
    "### Вывод\n",
    "P-Value значительно выше 0.05, поэтому нет оснований отвергнуть нулевую гипотезу - стат. значимой разницы между группами не выявлено."
   ]
  },
  {
   "cell_type": "markdown",
   "id": "bd8161d9-7902-42ec-9d17-dd3a9a4d07f6",
   "metadata": {},
   "source": [
    "## Задача 2\n",
    "Есть ли значимое изменение в большую или меньшую сторону у суммы списаний в зависимости от варианта теста и платежной системы"
   ]
  },
  {
   "cell_type": "code",
   "execution_count": 63,
   "id": "b51adc6a-76fe-404f-9df8-358a98a806ee",
   "metadata": {},
   "outputs": [
    {
     "data": {
      "image/png": "[encoded data removed]",
      "text/plain": [
       "<Figure size 450.875x360 with 1 Axes>"
      ]
     },
     "metadata": {},
     "output_type": "display_data"
    },
    {
     "data": {
      "image/png": "[encoded data removed]",
      "text/plain": [
       "<Figure size 450.875x360 with 1 Axes>"
      ]
     },
     "metadata": {},
     "output_type": "display_data"
    }
   ],
   "source": [
    "sns.displot(\n",
    "    data=data[data['experimentVariant'] == 'Treatment'],\n",
    "    x='orderRevenue',\n",
    "    hue='purchaseSystem'\n",
    ").set(title='Treatment group')\n",
    "sns.displot(\n",
    "    data=data[data['experimentVariant'] == 'Control'],\n",
    "    x='orderRevenue',\n",
    "    hue='purchaseSystem'\n",
    ").set(title='Control group');"
   ]
  },
  {
   "cell_type": "code",
   "execution_count": 70,
   "id": "4e382538-a153-4ab4-b15a-7dc4f23397f1",
   "metadata": {},
   "outputs": [],
   "source": [
    "purchaseSystem_list = list(set(data.purchaseSystem))"
   ]
  },
  {
   "cell_type": "code",
   "execution_count": 78,
   "id": "c401a80c-d971-4d7d-b15c-ce0190994eb5",
   "metadata": {},
   "outputs": [],
   "source": [
    "t_list = []\n",
    "p_value_list = []\n",
    "\n",
    "for ps in purchaseSystem_list:\n",
    "    test = data[(data['experimentVariant'] == 'Treatment')&(data['purchaseSystem'] == ps)].orderRevenue\n",
    "    control = data[(data['experimentVariant'] == 'Control')&(data['purchaseSystem'] == ps)].orderRevenue\n",
    "    \n",
    "    t, p_value = sts.ttest_ind(\n",
    "        test,\n",
    "        control,\n",
    "        equal_var=False\n",
    "    )\n",
    "    \n",
    "    t_list.append(t)\n",
    "    p_value_list.append(p_value)"
   ]
  },
  {
   "cell_type": "code",
   "execution_count": 80,
   "id": "e6786544-eb42-41ab-87ab-e5c753d8e49f",
   "metadata": {},
   "outputs": [
    {
     "data": {
      "text/html": [
       "<div>\n",
       "<style scoped>\n",
       "    .dataframe tbody tr th:only-of-type {\n",
       "        vertical-align: middle;\n",
       "    }\n",
       "\n",
       "    .dataframe tbody tr th {\n",
       "        vertical-align: top;\n",
       "    }\n",
       "\n",
       "    .dataframe thead th {\n",
       "        text-align: right;\n",
       "    }\n",
       "</style>\n",
       "<table border=\"1\" class=\"dataframe\">\n",
       "  <thead>\n",
       "    <tr style=\"text-align: right;\">\n",
       "      <th></th>\n",
       "      <th>purchaseSystem</th>\n",
       "      <th>t</th>\n",
       "      <th>p_value</th>\n",
       "    </tr>\n",
       "  </thead>\n",
       "  <tbody>\n",
       "    <tr>\n",
       "      <th>0</th>\n",
       "      <td>Yc</td>\n",
       "      <td>-6.375004</td>\n",
       "      <td>1.150395e-09</td>\n",
       "    </tr>\n",
       "    <tr>\n",
       "      <th>1</th>\n",
       "      <td>Pp</td>\n",
       "      <td>0.873323</td>\n",
       "      <td>3.826713e-01</td>\n",
       "    </tr>\n",
       "    <tr>\n",
       "      <th>2</th>\n",
       "      <td>St</td>\n",
       "      <td>3.038601</td>\n",
       "      <td>2.631440e-03</td>\n",
       "    </tr>\n",
       "  </tbody>\n",
       "</table>\n",
       "</div>"
      ],
      "text/plain": [
       "  purchaseSystem         t       p_value\n",
       "0             Yc -6.375004  1.150395e-09\n",
       "1             Pp  0.873323  3.826713e-01\n",
       "2             St  3.038601  2.631440e-03"
      ]
     },
     "execution_count": 80,
     "metadata": {},
     "output_type": "execute_result"
    }
   ],
   "source": [
    "result = pd.DataFrame({\n",
    "    'purchaseSystem': purchaseSystem_list,\n",
    "    't': t_list,\n",
    "    'p_value': p_value_list\n",
    "})\n",
    "\n",
    "result"
   ]
  },
  {
   "cell_type": "code",
   "execution_count": 119,
   "id": "dd69d9b8-b809-44ce-96a2-2db6c7bd6803",
   "metadata": {},
   "outputs": [
    {
     "data": {
      "text/html": [
       "<div>\n",
       "<style scoped>\n",
       "    .dataframe tbody tr th:only-of-type {\n",
       "        vertical-align: middle;\n",
       "    }\n",
       "\n",
       "    .dataframe tbody tr th {\n",
       "        vertical-align: top;\n",
       "    }\n",
       "\n",
       "    .dataframe thead th {\n",
       "        text-align: right;\n",
       "    }\n",
       "</style>\n",
       "<table border=\"1\" class=\"dataframe\">\n",
       "  <thead>\n",
       "    <tr style=\"text-align: right;\">\n",
       "      <th></th>\n",
       "      <th>purchaseSystem</th>\n",
       "      <th>t</th>\n",
       "      <th>p_value</th>\n",
       "      <th>bonferonni</th>\n",
       "      <th>reject Ho</th>\n",
       "    </tr>\n",
       "  </thead>\n",
       "  <tbody>\n",
       "    <tr>\n",
       "      <th>0</th>\n",
       "      <td>Yc</td>\n",
       "      <td>-6.375004</td>\n",
       "      <td>1.150395e-09</td>\n",
       "      <td>0.016667</td>\n",
       "      <td>True</td>\n",
       "    </tr>\n",
       "    <tr>\n",
       "      <th>1</th>\n",
       "      <td>Pp</td>\n",
       "      <td>0.873323</td>\n",
       "      <td>3.826713e-01</td>\n",
       "      <td>0.016667</td>\n",
       "      <td>False</td>\n",
       "    </tr>\n",
       "    <tr>\n",
       "      <th>2</th>\n",
       "      <td>St</td>\n",
       "      <td>3.038601</td>\n",
       "      <td>2.631440e-03</td>\n",
       "      <td>0.016667</td>\n",
       "      <td>True</td>\n",
       "    </tr>\n",
       "  </tbody>\n",
       "</table>\n",
       "</div>"
      ],
      "text/plain": [
       "  purchaseSystem         t       p_value  bonferonni  reject Ho\n",
       "0             Yc -6.375004  1.150395e-09    0.016667       True\n",
       "1             Pp  0.873323  3.826713e-01    0.016667      False\n",
       "2             St  3.038601  2.631440e-03    0.016667       True"
      ]
     },
     "execution_count": 119,
     "metadata": {},
     "output_type": "execute_result"
    }
   ],
   "source": [
    "bonferonni = .05 / 3\n",
    "result['bonferonni'] = bonferonni\n",
    "\n",
    "result['reject Ho'] = result.apply(lambda x: x.p_value < x.bonferonni, axis=1)\n",
    "result"
   ]
  },
  {
   "cell_type": "markdown",
   "id": "5155df0b-d62e-442a-a7eb-bf6a904556a3",
   "metadata": {},
   "source": [
    "### Вывод\n",
    "- Для проверки гипотезы с использованием множественных сравнений была использована поправка Бонферонни\n",
    "- Для платежных систем Yc и St у нас есть все основания отвергнуть нелувую гипотезу, поскольку p value получился не только ниже 0.05, но и ниже уровня поправки Бонферонни\n",
    "- При этом платежная система Pp не показала никаких стат. значимых изменений. Что довольно логично, поскольку изменения ее не коснулись.\n",
    "\n",
    "- Учитывая что:\n",
    "    - результаты тестовой и контрольной групп одинаковые (по результатам первой проверки)\n",
    "    - Pp не изменилась\n",
    "    - Yc изменилась и в тестовой группе средний объем платежей вырос (с 20.9 в контроле до 21.8 в тесте)\n",
    "    - St изменилась и в тестовой группе средний объем платежей снизился (с 18 в контроле до 14.9 в тесте)\n",
    "    \n",
    "> Могла произойти каннибализация и платежи из St перетекли в Yc"
   ]
  },
  {
   "cell_type": "code",
   "execution_count": null,
   "id": "95020a9e-232e-4b22-a82f-ecf86f4d5d56",
   "metadata": {},
   "outputs": [],
   "source": []
  },
  {
   "cell_type": "code",
   "execution_count": null,
   "id": "8e8643a0-5264-42e7-b4f5-da1c62c4e595",
   "metadata": {},
   "outputs": [],
   "source": []
  }
 ],
 "metadata": {
  "kernelspec": {
   "display_name": "Python 3 (ipykernel)",
   "language": "python",
   "name": "python3"
  },
  "language_info": {
   "codemirror_mode": {
    "name": "ipython",
    "version": 3
   },
   "file_extension": ".py",
   "mimetype": "text/x-python",
   "name": "python",
   "nbconvert_exporter": "python",
   "pygments_lexer": "ipython3",
   "version": "3.9.6"
  }
 },
 "nbformat": 4,
 "nbformat_minor": 5
}
