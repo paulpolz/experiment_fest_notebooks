{
 "cells": [
  {
   "cell_type": "code",
   "execution_count": 71,
   "id": "aa0f1e2e-c745-4edb-955e-ae9a59c68d3c",
   "metadata": {},
   "outputs": [],
   "source": [
    "import pandas as pd\n",
    "import numpy as np\n",
    "\n",
    "from scipy.stats import norm, mannwhitneyu\n",
    "import matplotlib.pyplot as plt\n",
    "\n",
    "from tqdm import tqdm"
   ]
  },
  {
   "cell_type": "markdown",
   "id": "b516af74-8ff1-4b1a-a18b-cd4c1f88c684",
   "metadata": {},
   "source": [
    "# Бутстрап"
   ]
  },
  {
   "cell_type": "markdown",
   "id": "41d24b55-f307-401c-946f-0b6ef5df59a2",
   "metadata": {},
   "source": [
    "Обладая только данными по имеющейся выборке, бутстрап позволяет оценить любой ее параметр, построив эмпирическое распределение параметра<br>\n",
    "- Бутстрап позволяет брать доверительные интервалы из сложных параметров без использования формулы, например, из медианы\n",
    "    - у медиан есть проблема смещения\n",
    "- Бутстрап проверяет статистические гипотезы без опоры на определенное теоретическое распределение данных, поэтому он не требует соблюдения предположений классических стат критериев\n",
    "- Бутстрап позволяет более точно оценивать разницу между выборками. Можно понять, в какой именно части распределения есть разница.\n",
    "    - Это можно узнать через сравнение перцентилей"
   ]
  },
  {
   "cell_type": "markdown",
   "id": "eeea3cd7-594e-484d-b173-4f7285df4da4",
   "metadata": {},
   "source": [
    "### Как брать подвыборки в Бутстрапе?\n",
    "- Подвыборки берутся с возвращением\n",
    "    - То есть после каждого выбрра случайного параметра он как бы возвращается на место, чтобы была возможность взять его снова\n",
    "- Всегда берутся подвыборки такого же размера как и сама выборка, чтобы сохранить дисперсию, которая по формуле использует n"
   ]
  },
  {
   "cell_type": "markdown",
   "id": "64fd010a-ae0a-4d35-9bef-9f94ce4db28f",
   "metadata": {},
   "source": [
    "### Проблема смещения\n",
    "В отличие от среднего, другие параметры могут быть сильно подвержены смещенной оценке значения параметра генеральной совокупности (хотя само среднее тоже не исключение). <br><b><i>Если статистика не среднее, то она сильно подвержена смещению, которое необходимо корректировать.</b></i>\n",
    "\n",
    "##### Как считаем смещение\n",
    "1. Считаем разницу исследуемой метрики между исходными группами\n",
    "2. Считаем разницы исследуемой метрики между бутстрапированными группами для каждой бут-итерации\n",
    "    - Считаем среднее по дельте бут-выборок\n",
    "3. Считаем дельту сдвига между исходной и бут-дельтой\n",
    "4. Для каждого значения бут-дельты (из п. 2) добавляем дельту сдвига"
   ]
  },
  {
   "cell_type": "markdown",
   "id": "d15f4c18-c4f8-4de3-a151-6a4b82ffbf32",
   "metadata": {},
   "source": [
    "### Проверка гиптез с помощью бутстрапа"
   ]
  },
  {
   "cell_type": "markdown",
   "id": "cf5f9707-836a-43be-a744-39e6e3bdaeba",
   "metadata": {},
   "source": [
    "1. Расчет интервал для доли\n",
    "2. Через p-value\n",
    "    - p value - это по сути площадь под кривой и это же false positive <br>`(cdf в scipy от нормального распределения)`\n",
    "3. На каждой итерации бутстрапа считаем t статистику, считаем из этого p-value\n",
    "4. Считаем дельты и из них среднее и ско. считаем площадь под кривой"
   ]
  },
  {
   "cell_type": "code",
   "execution_count": 68,
   "id": "e081f1dd-dd98-43b9-98d3-60e65751270a",
   "metadata": {},
   "outputs": [],
   "source": [
    "# Объявим функцию, которая позволит проверять гипотезы с помощью бутстрапа\n",
    "def get_bootstrap(\n",
    "    data_0: list, # числовые значения первой выборки\n",
    "    data_1: list, # числовые значения второй выборки\n",
    "    boot_it: int = 1000, # количество бутстрэп-подвыборок\n",
    "    statistic = np.mean, # интересующая нас статистика\n",
    "    conf_level: float = 0.95, # уровень значимости,\n",
    "    ba: bool = False\n",
    "):\n",
    "    \n",
    "    df = pd.DataFrame({\n",
    "        'x': data_0,\n",
    "        'y': data_1\n",
    "    })\n",
    "    \n",
    "    boot_data = []\n",
    "    for _ in tqdm(range(boot_it)): # извлекаем подвыборки\n",
    "        boot_0 = df.x.sample(len(data_0), replace = True).values\n",
    "        boot_1 = df.y.sample(len(data_1), replace = True).values\n",
    "        boot_data.append(statistic(boot_0) - statistic(boot_1)) # mean() - применяем статистику\n",
    "        \n",
    "    # поправляем смещение\n",
    "    if ba:\n",
    "        orig_theta = statistic(data_0)-statistic(data_1) # разница в исходных данных\n",
    "        boot_theta = np.mean(boot_data) # среднее по бутстрапированной разнице статистик\n",
    "        delta_val = abs(orig_theta - boot_theta) # дельта для сдвига\n",
    "        boot_data = [i + delta_val for i in boot_data] # сдвигаем бут разницу статистик, обратите внимание, что тут не вычитание\n",
    "        print(f\"\"\"\n",
    "            До бутстрапа: {orig_theta},\n",
    "            После бутстрапа: {boot_theta},\n",
    "            После коррекции: {np.mean(boot_data)}\"\"\"\n",
    "        )\n",
    "\n",
    "    left_quant = (1 - conf_level)/2\n",
    "    right_quant = 1 - (1 - conf_level) / 2\n",
    "    ci = pd.DataFrame(boot_data).quantile([left_quant, right_quant])\n",
    "\n",
    "    # p-value\n",
    "    p_1 = norm.cdf(x = 0, loc = np.mean(boot_data), scale = np.std(boot_data))\n",
    "    p_2 = norm.cdf(x = 0, loc = -np.mean(boot_data), scale = np.std(boot_data))\n",
    "    p_value = min(p_1, p_2) * 2\n",
    "        \n",
    "    # Визуализация\n",
    "    plt.hist(pd.DataFrame(boot_data)[0], bins = 50)\n",
    "    plt.style.use('ggplot')\n",
    "    plt.vlines(ci,ymin=0,ymax=50,linestyle='--')\n",
    "    plt.xlabel('boot_data')\n",
    "    plt.ylabel('frequency')\n",
    "    plt.title(\"Histogram of boot_data\")\n",
    "    plt.show()\n",
    "       \n",
    "    return {\"boot_data statistics\": statistic(boot_data), \n",
    "            \"ci\": ci, \n",
    "            \"p_value\": p_value}"
   ]
  },
  {
   "cell_type": "code",
   "execution_count": 69,
   "id": "29f21f29-dfe3-4dd9-8c14-19a1eac9e899",
   "metadata": {},
   "outputs": [
    {
     "name": "stderr",
     "output_type": "stream",
     "text": [
      "100%|█████████████████████████████████████| 1000/1000 [00:00<00:00, 2967.10it/s]\n"
     ]
    },
    {
     "name": "stdout",
     "output_type": "stream",
     "text": [
      "\n",
      "            До бутстрапа: -0.006141018251564878,\n",
      "            После бутстрапа: -0.006673841472269853,\n",
      "            После коррекции: -0.00614101825156488\n"
     ]
    },
    {
     "data": {
      "image/png": "[encoded data removed]",
      "text/plain": [
       "<Figure size 432x288 with 1 Axes>"
      ]
     },
     "metadata": {},
     "output_type": "display_data"
    },
    {
     "data": {
      "text/plain": [
       "{'boot_data statistics': -0.00614101825156488,\n",
       " 'ci':               0\n",
       " 0.025 -0.092682\n",
       " 0.975  0.081479,\n",
       " 'p_value': 0.891750090117413}"
      ]
     },
     "execution_count": 69,
     "metadata": {},
     "output_type": "execute_result"
    }
   ],
   "source": [
    "get_bootstrap(\n",
    "    np.random.exponential(size=1000),\n",
    "    np.random.exponential(size=1000)*1.01,\n",
    "    ba=True\n",
    ")"
   ]
  },
  {
   "cell_type": "code",
   "execution_count": 105,
   "id": "f4df85ee-6a42-4600-abae-7456f6a4ce39",
   "metadata": {},
   "outputs": [
    {
     "name": "stdout",
     "output_type": "stream",
     "text": [
      "0.025000000000000022 0.975\n"
     ]
    }
   ],
   "source": [
    "print(left_quant, right_quant)"
   ]
  },
  {
   "cell_type": "code",
   "execution_count": 106,
   "id": "19d9d892-228e-4ecc-b9b2-659feb52fe0f",
   "metadata": {},
   "outputs": [
    {
     "data": {
      "text/html": [
       "<div>\n",
       "<style scoped>\n",
       "    .dataframe tbody tr th:only-of-type {\n",
       "        vertical-align: middle;\n",
       "    }\n",
       "\n",
       "    .dataframe tbody tr th {\n",
       "        vertical-align: top;\n",
       "    }\n",
       "\n",
       "    .dataframe thead th {\n",
       "        text-align: right;\n",
       "    }\n",
       "</style>\n",
       "<table border=\"1\" class=\"dataframe\">\n",
       "  <thead>\n",
       "    <tr style=\"text-align: right;\">\n",
       "      <th></th>\n",
       "      <th>0</th>\n",
       "    </tr>\n",
       "  </thead>\n",
       "  <tbody>\n",
       "    <tr>\n",
       "      <th>0.025</th>\n",
       "      <td>-0.112359</td>\n",
       "    </tr>\n",
       "    <tr>\n",
       "      <th>0.975</th>\n",
       "      <td>0.064979</td>\n",
       "    </tr>\n",
       "  </tbody>\n",
       "</table>\n",
       "</div>"
      ],
      "text/plain": [
       "              0\n",
       "0.025 -0.112359\n",
       "0.975  0.064979"
      ]
     },
     "execution_count": 106,
     "metadata": {},
     "output_type": "execute_result"
    }
   ],
   "source": [
    "ci"
   ]
  },
  {
   "cell_type": "code",
   "execution_count": 113,
   "id": "d16f5b03-4837-487d-a524-0e5d08cef711",
   "metadata": {},
   "outputs": [
    {
     "name": "stdout",
     "output_type": "stream",
     "text": [
      "0.9999740504413371 2.5949558662896338e-05\n"
     ]
    }
   ],
   "source": [
    "p_1 = norm.cdf(x = 0, loc = np.mean(boot_data), scale = np.std(boot_data))\n",
    "p_2 = norm.cdf(x = 0, loc = -np.mean(boot_data), scale = np.std(boot_data))\n",
    "print(p_1, p_2)"
   ]
  },
  {
   "cell_type": "code",
   "execution_count": 114,
   "id": "8376e46b-d6fb-408f-af91-26bbce1a38b8",
   "metadata": {},
   "outputs": [
    {
     "data": {
      "text/plain": [
       "5.1899117325792676e-05"
      ]
     },
     "execution_count": 114,
     "metadata": {},
     "output_type": "execute_result"
    }
   ],
   "source": [
    "p_value = min(p_1, p_2) * 2\n",
    "p_value"
   ]
  },
  {
   "cell_type": "code",
   "execution_count": null,
   "id": "c18cdf2e-6e69-48d3-8340-3b610728f02c",
   "metadata": {},
   "outputs": [],
   "source": []
  },
  {
   "cell_type": "code",
   "execution_count": null,
   "id": "073d8473-7189-4134-aaaf-1fcaf6f6be6f",
   "metadata": {},
   "outputs": [],
   "source": []
  },
  {
   "cell_type": "code",
   "execution_count": null,
   "id": "80a76cca-c1ee-4b5f-abc3-b2df5d8e1907",
   "metadata": {},
   "outputs": [],
   "source": []
  },
  {
   "cell_type": "markdown",
   "id": "e52e7ebd-9ec6-4a42-ba25-04f8bffd2e5d",
   "metadata": {
    "tags": []
   },
   "source": [
    "### Для оптимизации можно бить юзеров на бакеты\n",
    "- Для бутстрап-выборок нужно задавать размер такой же, как и у изначальной выборки\n",
    "- Начиная с ~1 млн наблюдений начинаются проблемы, связанные со скоростью вычисления\n",
    "> Поэтому аудиторию правильнее бить на бакеты"
   ]
  },
  {
   "cell_type": "markdown",
   "id": "ec3446d8-68fc-4160-82ee-1042c841560a",
   "metadata": {},
   "source": [
    "#### Сгенерим данные"
   ]
  },
  {
   "cell_type": "code",
   "execution_count": 78,
   "id": "5733ffdb-f685-426f-ad6e-5f7a023532c8",
   "metadata": {},
   "outputs": [
    {
     "data": {
      "text/html": [
       "<div>\n",
       "<style scoped>\n",
       "    .dataframe tbody tr th:only-of-type {\n",
       "        vertical-align: middle;\n",
       "    }\n",
       "\n",
       "    .dataframe tbody tr th {\n",
       "        vertical-align: top;\n",
       "    }\n",
       "\n",
       "    .dataframe thead th {\n",
       "        text-align: right;\n",
       "    }\n",
       "</style>\n",
       "<table border=\"1\" class=\"dataframe\">\n",
       "  <thead>\n",
       "    <tr style=\"text-align: right;\">\n",
       "      <th></th>\n",
       "      <th>values</th>\n",
       "      <th>variant</th>\n",
       "      <th>bucket</th>\n",
       "    </tr>\n",
       "  </thead>\n",
       "  <tbody>\n",
       "    <tr>\n",
       "      <th>0</th>\n",
       "      <td>204.782480</td>\n",
       "      <td>A</td>\n",
       "      <td>0</td>\n",
       "    </tr>\n",
       "    <tr>\n",
       "      <th>1</th>\n",
       "      <td>42.008704</td>\n",
       "      <td>A</td>\n",
       "      <td>1</td>\n",
       "    </tr>\n",
       "    <tr>\n",
       "      <th>2</th>\n",
       "      <td>137.334623</td>\n",
       "      <td>A</td>\n",
       "      <td>2</td>\n",
       "    </tr>\n",
       "    <tr>\n",
       "      <th>3</th>\n",
       "      <td>86.573417</td>\n",
       "      <td>A</td>\n",
       "      <td>3</td>\n",
       "    </tr>\n",
       "    <tr>\n",
       "      <th>4</th>\n",
       "      <td>124.988038</td>\n",
       "      <td>A</td>\n",
       "      <td>4</td>\n",
       "    </tr>\n",
       "  </tbody>\n",
       "</table>\n",
       "</div>"
      ],
      "text/plain": [
       "       values variant  bucket\n",
       "0  204.782480       A       0\n",
       "1   42.008704       A       1\n",
       "2  137.334623       A       2\n",
       "3   86.573417       A       3\n",
       "4  124.988038       A       4"
      ]
     },
     "execution_count": 78,
     "metadata": {},
     "output_type": "execute_result"
    }
   ],
   "source": [
    "b_n = 5000\n",
    "n = int(1e7)\n",
    "\n",
    "val_1 = np.random.exponential(scale=1/0.01, size=n)\n",
    "val_2 = np.random.exponential(scale=1/0.011, size=n)\n",
    "\n",
    "sample_exp = pd.DataFrame({\n",
    "    \"values\":   np.concatenate([val_1, val_2]),  \n",
    "    \"variant\":  [\"A\" for i in range(n)] + [\"B\" for i in range(n)],\n",
    "    \"bucket\":   [i for i in range(b_n)] * int(n*2/b_n)\n",
    "})\n",
    "\n",
    "sample_exp.head()"
   ]
  },
  {
   "cell_type": "markdown",
   "id": "70d3c582-c128-4667-843a-0511f719dc26",
   "metadata": {},
   "source": [
    "#### Бутстрапирование до бакетирования"
   ]
  },
  {
   "cell_type": "code",
   "execution_count": 101,
   "id": "f91a1015-8221-4348-9767-3c39f64093d3",
   "metadata": {},
   "outputs": [
    {
     "name": "stderr",
     "output_type": "stream",
     "text": [
      "100%|███████████████████████████████████████| 1000/1000 [29:40<00:00,  1.78s/it]\n"
     ]
    },
    {
     "name": "stdout",
     "output_type": "stream",
     "text": [
      "\n",
      "            До бутстрапа: 9.072580724322378,\n",
      "            После бутстрапа: 9.07116779477907,\n",
      "            После коррекции: 9.072580724322377\n"
     ]
    },
    {
     "data": {
      "image/png": "[encoded data removed]",
      "text/plain": [
       "<Figure size 432x288 with 1 Axes>"
      ]
     },
     "metadata": {},
     "output_type": "display_data"
    },
    {
     "data": {
      "text/plain": [
       "{'boot_data statistics': 9.072580724322377,\n",
       " 'ci':               0\n",
       " 0.025  8.991713\n",
       " 0.975  9.154989,\n",
       " 'p_value': 0.0}"
      ]
     },
     "execution_count": 101,
     "metadata": {},
     "output_type": "execute_result"
    }
   ],
   "source": [
    " get_bootstrap(\n",
    "    sample_exp[sample_exp.variant == 'A']['values'].values,\n",
    "    sample_exp[sample_exp.variant == 'B']['values'].values,\n",
    "    ba=True\n",
    ")"
   ]
  },
  {
   "cell_type": "markdown",
   "id": "b28584bc-fdc4-48b9-a247-04d3e33eb0ad",
   "metadata": {},
   "source": [
    "#### Бутстрапирование после бакетирования\n",
    "> Как мы видим, при бакетировании результаты практически не изменились, а скорость значительно возрасла"
   ]
  },
  {
   "cell_type": "code",
   "execution_count": 96,
   "id": "62092921-3754-4fd6-99cb-0d0f030b5b5a",
   "metadata": {},
   "outputs": [
    {
     "data": {
      "text/html": [
       "<div>\n",
       "<style scoped>\n",
       "    .dataframe tbody tr th:only-of-type {\n",
       "        vertical-align: middle;\n",
       "    }\n",
       "\n",
       "    .dataframe tbody tr th {\n",
       "        vertical-align: top;\n",
       "    }\n",
       "\n",
       "    .dataframe thead th {\n",
       "        text-align: right;\n",
       "    }\n",
       "</style>\n",
       "<table border=\"1\" class=\"dataframe\">\n",
       "  <thead>\n",
       "    <tr style=\"text-align: right;\">\n",
       "      <th></th>\n",
       "      <th>bucket</th>\n",
       "      <th>variant</th>\n",
       "      <th>values</th>\n",
       "    </tr>\n",
       "  </thead>\n",
       "  <tbody>\n",
       "    <tr>\n",
       "      <th>0</th>\n",
       "      <td>0</td>\n",
       "      <td>A</td>\n",
       "      <td>104.892746</td>\n",
       "    </tr>\n",
       "    <tr>\n",
       "      <th>1</th>\n",
       "      <td>0</td>\n",
       "      <td>B</td>\n",
       "      <td>91.381837</td>\n",
       "    </tr>\n",
       "    <tr>\n",
       "      <th>2</th>\n",
       "      <td>1</td>\n",
       "      <td>A</td>\n",
       "      <td>103.344684</td>\n",
       "    </tr>\n",
       "    <tr>\n",
       "      <th>3</th>\n",
       "      <td>1</td>\n",
       "      <td>B</td>\n",
       "      <td>93.859043</td>\n",
       "    </tr>\n",
       "    <tr>\n",
       "      <th>4</th>\n",
       "      <td>2</td>\n",
       "      <td>A</td>\n",
       "      <td>99.999871</td>\n",
       "    </tr>\n",
       "  </tbody>\n",
       "</table>\n",
       "</div>"
      ],
      "text/plain": [
       "   bucket variant      values\n",
       "0       0       A  104.892746\n",
       "1       0       B   91.381837\n",
       "2       1       A  103.344684\n",
       "3       1       B   93.859043\n",
       "4       2       A   99.999871"
      ]
     },
     "execution_count": 96,
     "metadata": {},
     "output_type": "execute_result"
    }
   ],
   "source": [
    "sample_exp_bucketed = sample_exp.groupby(['bucket','variant'])[['values']].mean().reset_index()\n",
    "sample_exp_bucketed.head()"
   ]
  },
  {
   "cell_type": "code",
   "execution_count": 100,
   "id": "7d653dfe-a811-483f-bfbc-660db2505459",
   "metadata": {},
   "outputs": [
    {
     "name": "stderr",
     "output_type": "stream",
     "text": [
      "100%|█████████████████████████████████████| 1000/1000 [00:00<00:00, 1490.80it/s]\n"
     ]
    },
    {
     "name": "stdout",
     "output_type": "stream",
     "text": [
      "\n",
      "            До бутстрапа: 9.07258072432245,\n",
      "            После бутстрапа: 9.0748103993853,\n",
      "            После коррекции: 9.077040074448151\n"
     ]
    },
    {
     "data": {
      "image/png": "[encoded data removed]",
      "text/plain": [
       "<Figure size 432x288 with 1 Axes>"
      ]
     },
     "metadata": {},
     "output_type": "display_data"
    },
    {
     "data": {
      "text/plain": [
       "{'boot_data statistics': 9.077040074448151,\n",
       " 'ci':               0\n",
       " 0.025  8.997863\n",
       " 0.975  9.161184,\n",
       " 'p_value': 0.0}"
      ]
     },
     "execution_count": 100,
     "metadata": {},
     "output_type": "execute_result"
    }
   ],
   "source": [
    " get_bootstrap(\n",
    "    sample_exp_bucketed[sample_exp_bucketed.variant == 'A']['values'].values,\n",
    "    sample_exp_bucketed[sample_exp_bucketed.variant == 'B']['values'].values,\n",
    "    ba=True\n",
    ")"
   ]
  },
  {
   "cell_type": "code",
   "execution_count": null,
   "id": "3802efe8-3951-4318-8ead-46296bbcf8ab",
   "metadata": {},
   "outputs": [],
   "source": []
  },
  {
   "cell_type": "code",
   "execution_count": null,
   "id": "976743ac-7987-4f51-80e4-faa0cc33335c",
   "metadata": {},
   "outputs": [],
   "source": []
  },
  {
   "cell_type": "code",
   "execution_count": null,
   "id": "b07f6ace-1269-4ce0-8e4a-0498f240ef92",
   "metadata": {},
   "outputs": [],
   "source": []
  }
 ],
 "metadata": {
  "kernelspec": {
   "display_name": "Python 3 (ipykernel)",
   "language": "python",
   "name": "python3"
  },
  "language_info": {
   "codemirror_mode": {
    "name": "ipython",
    "version": 3
   },
   "file_extension": ".py",
   "mimetype": "text/x-python",
   "name": "python",
   "nbconvert_exporter": "python",
   "pygments_lexer": "ipython3",
   "version": "3.9.6"
  }
 },
 "nbformat": 4,
 "nbformat_minor": 5
}
