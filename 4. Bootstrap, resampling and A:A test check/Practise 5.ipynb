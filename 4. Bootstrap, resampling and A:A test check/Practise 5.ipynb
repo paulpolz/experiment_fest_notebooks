{
 "cells": [
  {
   "cell_type": "code",
   "execution_count": 21,
   "id": "073769cf-f4c7-4072-83d5-076ad1b193e6",
   "metadata": {},
   "outputs": [],
   "source": [
    "import pandas as pd\n",
    "import numpy as np\n",
    "import datetime as dt\n",
    "\n",
    "import scipy.stats as stats\n",
    "from scipy.stats import norm, mannwhitneyu\n",
    "import matplotlib.pyplot as plt\n",
    "\n",
    "from tqdm import tqdm"
   ]
  },
  {
   "cell_type": "code",
   "execution_count": 14,
   "id": "b8c73454-a3a6-4fb3-a85d-f2f8cac2f95b",
   "metadata": {},
   "outputs": [
    {
     "data": {
      "text/html": [
       "<div>\n",
       "<style scoped>\n",
       "    .dataframe tbody tr th:only-of-type {\n",
       "        vertical-align: middle;\n",
       "    }\n",
       "\n",
       "    .dataframe tbody tr th {\n",
       "        vertical-align: top;\n",
       "    }\n",
       "\n",
       "    .dataframe thead th {\n",
       "        text-align: right;\n",
       "    }\n",
       "</style>\n",
       "<table border=\"1\" class=\"dataframe\">\n",
       "  <thead>\n",
       "    <tr style=\"text-align: right;\">\n",
       "      <th></th>\n",
       "      <th>value</th>\n",
       "      <th>experimentVariant</th>\n",
       "    </tr>\n",
       "  </thead>\n",
       "  <tbody>\n",
       "    <tr>\n",
       "      <th>1</th>\n",
       "      <td>9.773113</td>\n",
       "      <td>Treatment</td>\n",
       "    </tr>\n",
       "    <tr>\n",
       "      <th>2</th>\n",
       "      <td>9.311246</td>\n",
       "      <td>Treatment</td>\n",
       "    </tr>\n",
       "    <tr>\n",
       "      <th>3</th>\n",
       "      <td>11.172828</td>\n",
       "      <td>Treatment</td>\n",
       "    </tr>\n",
       "    <tr>\n",
       "      <th>4</th>\n",
       "      <td>11.624510</td>\n",
       "      <td>Treatment</td>\n",
       "    </tr>\n",
       "    <tr>\n",
       "      <th>5</th>\n",
       "      <td>10.462331</td>\n",
       "      <td>Treatment</td>\n",
       "    </tr>\n",
       "  </tbody>\n",
       "</table>\n",
       "</div>"
      ],
      "text/plain": [
       "       value experimentVariant\n",
       "1   9.773113         Treatment\n",
       "2   9.311246         Treatment\n",
       "3  11.172828         Treatment\n",
       "4  11.624510         Treatment\n",
       "5  10.462331         Treatment"
      ]
     },
     "execution_count": 14,
     "metadata": {},
     "output_type": "execute_result"
    }
   ],
   "source": [
    "data = pd.read_csv('hw5.csv', sep=';', index_col=0)\n",
    "data.value = data.value.apply(lambda x: float(x.replace(',','.')))\n",
    "data.head()"
   ]
  },
  {
   "cell_type": "code",
   "execution_count": 16,
   "id": "8bbd4035-2501-406c-aba9-e18a67db5141",
   "metadata": {},
   "outputs": [
    {
     "data": {
      "text/html": [
       "<div>\n",
       "<style scoped>\n",
       "    .dataframe tbody tr th:only-of-type {\n",
       "        vertical-align: middle;\n",
       "    }\n",
       "\n",
       "    .dataframe tbody tr th {\n",
       "        vertical-align: top;\n",
       "    }\n",
       "\n",
       "    .dataframe thead tr th {\n",
       "        text-align: left;\n",
       "    }\n",
       "\n",
       "    .dataframe thead tr:last-of-type th {\n",
       "        text-align: right;\n",
       "    }\n",
       "</style>\n",
       "<table border=\"1\" class=\"dataframe\">\n",
       "  <thead>\n",
       "    <tr>\n",
       "      <th></th>\n",
       "      <th colspan=\"5\" halign=\"left\">value</th>\n",
       "    </tr>\n",
       "    <tr>\n",
       "      <th></th>\n",
       "      <th>count</th>\n",
       "      <th>mean</th>\n",
       "      <th>median</th>\n",
       "      <th>std</th>\n",
       "      <th>sum</th>\n",
       "    </tr>\n",
       "    <tr>\n",
       "      <th>experimentVariant</th>\n",
       "      <th></th>\n",
       "      <th></th>\n",
       "      <th></th>\n",
       "      <th></th>\n",
       "      <th></th>\n",
       "    </tr>\n",
       "  </thead>\n",
       "  <tbody>\n",
       "    <tr>\n",
       "      <th>Control</th>\n",
       "      <td>500</td>\n",
       "      <td>10.026867</td>\n",
       "      <td>10.018465</td>\n",
       "      <td>0.979377</td>\n",
       "      <td>5013.433267</td>\n",
       "    </tr>\n",
       "    <tr>\n",
       "      <th>Treatment</th>\n",
       "      <td>50</td>\n",
       "      <td>10.367236</td>\n",
       "      <td>10.420193</td>\n",
       "      <td>1.030919</td>\n",
       "      <td>518.361819</td>\n",
       "    </tr>\n",
       "  </tbody>\n",
       "</table>\n",
       "</div>"
      ],
      "text/plain": [
       "                  value                                             \n",
       "                  count       mean     median       std          sum\n",
       "experimentVariant                                                   \n",
       "Control             500  10.026867  10.018465  0.979377  5013.433267\n",
       "Treatment            50  10.367236  10.420193  1.030919   518.361819"
      ]
     },
     "execution_count": 16,
     "metadata": {},
     "output_type": "execute_result"
    }
   ],
   "source": [
    "data.groupby('experimentVariant')[['value']].agg(['count','mean','median','std','sum'])"
   ]
  },
  {
   "cell_type": "markdown",
   "id": "43a92239-4bd4-416a-80e5-f44f44c7e822",
   "metadata": {},
   "source": [
    "## Сравните средние между тестом и контролем:\n",
    "- Примените бутстрап и u-тест. Опишите предположения , которые требуется соблюдать для каждого из критериев и их гипотезы (действительно ли бутстрап и u-тест сравнивают средние)\n",
    "- Сравните p-value"
   ]
  },
  {
   "cell_type": "markdown",
   "id": "d73bd06d-45c4-4208-9207-f6587a2dd2cb",
   "metadata": {},
   "source": [
    "### Бутстрап"
   ]
  },
  {
   "cell_type": "code",
   "execution_count": 42,
   "id": "59b9b78b-74fa-49df-8934-97d7dc6de385",
   "metadata": {},
   "outputs": [],
   "source": [
    "# Объявим функцию, которая позволит проверять гипотезы с помощью бутстрапа\n",
    "def get_bootstrap(\n",
    "    data_0: list, # числовые значения первой выборки\n",
    "    data_1: list, # числовые значения второй выборки\n",
    "    boot_it: int = 1000, # количество бутстрэп-подвыборок\n",
    "    statistic = np.mean, # интересующая нас статистика\n",
    "    conf_level: float = 0.95, # уровень значимости,\n",
    "    ba: bool = False\n",
    "):\n",
    "\n",
    "    boot_data = []\n",
    "    for _ in tqdm(range(boot_it)): # извлекаем подвыборки\n",
    "        boot_0 = data_0.sample(len(data_0), replace = True).values\n",
    "        boot_1 = data_1.sample(len(data_1), replace = True).values\n",
    "        boot_data.append(statistic(boot_0) - statistic(boot_1)) # mean() - применяем статистику\n",
    "        \n",
    "    # поправляем смещение\n",
    "    if ba:\n",
    "        orig_theta = statistic(data_0)-statistic(data_1) # разница в исходных данных\n",
    "        boot_theta = np.mean(boot_data) # среднее по бутстрапированной разнице статистик\n",
    "        delta_val = abs(orig_theta - boot_theta) # дельта для сдвига\n",
    "        boot_data = [i + delta_val for i in boot_data] # сдвигаем бут разницу статистик, обратите внимание, что тут не вычитание\n",
    "        print(f\"\"\"\n",
    "            До бутстрапа: {orig_theta},\n",
    "            После бутстрапа: {boot_theta},\n",
    "            После коррекции: {np.mean(boot_data)}\"\"\"\n",
    "        )\n",
    "\n",
    "    left_quant = (1 - conf_level)/2\n",
    "    right_quant = 1 - (1 - conf_level) / 2\n",
    "    ci = pd.DataFrame(boot_data).quantile([left_quant, right_quant])\n",
    "\n",
    "    # p-value\n",
    "    p_1 = norm.cdf(x = 0, loc = np.mean(boot_data), scale = np.std(boot_data))\n",
    "    p_2 = norm.cdf(x = 0, loc = -np.mean(boot_data), scale = np.std(boot_data))\n",
    "    p_value = min(p_1, p_2) * 2\n",
    "        \n",
    "    # Визуализация\n",
    "    plt.hist(pd.DataFrame(boot_data)[0], bins = 50, color='b')\n",
    "    plt.style.use('ggplot')\n",
    "    plt.vlines(ci,ymin=0,ymax=50,linestyle='--', color='r')\n",
    "    plt.xlabel('boot_data')\n",
    "    plt.ylabel('frequency')\n",
    "    plt.title(\"Histogram of boot_data\")\n",
    "    plt.show()\n",
    "       \n",
    "    return {\"boot_data statistics\": statistic(boot_data), \n",
    "            \"ci\": ci, \n",
    "            \"p_value\": p_value}"
   ]
  },
  {
   "cell_type": "code",
   "execution_count": 43,
   "id": "14b030a1-9cdd-4b57-8526-a6296eeeed09",
   "metadata": {},
   "outputs": [
    {
     "name": "stderr",
     "output_type": "stream",
     "text": [
      "100%|███████████████████████████████████| 10000/10000 [00:02<00:00, 3656.23it/s]\n"
     ]
    },
    {
     "name": "stdout",
     "output_type": "stream",
     "text": [
      "\n",
      "            До бутстрапа: -0.3403698432347646,\n",
      "            После бутстрапа: -0.3402011533451602,\n",
      "            После коррекции: -0.3400324634555558\n"
     ]
    },
    {
     "data": {
      "image/png": "[encoded data removed]",
      "text/plain": [
       "<Figure size 432x288 with 1 Axes>"
      ]
     },
     "metadata": {},
     "output_type": "display_data"
    },
    {
     "data": {
      "text/plain": [
       "{'boot_data statistics': -0.3400324634555558,\n",
       " 'ci':               0\n",
       " 0.025 -0.630914\n",
       " 0.975 -0.042812,\n",
       " 'p_value': 0.02390467518144841}"
      ]
     },
     "execution_count": 43,
     "metadata": {},
     "output_type": "execute_result"
    }
   ],
   "source": [
    "get_bootstrap(\n",
    "    data_0=data[data.experimentVariant=='Control'].value,\n",
    "    data_1=data[data.experimentVariant=='Treatment'].value,\n",
    "    boot_it=10000,\n",
    "    ba=True\n",
    ")"
   ]
  },
  {
   "cell_type": "markdown",
   "id": "ddb060b1-28e5-4c48-af51-6105398134ba",
   "metadata": {},
   "source": [
    "### U-тест"
   ]
  },
  {
   "cell_type": "code",
   "execution_count": 32,
   "id": "a96a121d-500e-44cd-9b20-c5f3ac18058c",
   "metadata": {},
   "outputs": [
    {
     "data": {
      "text/plain": [
       "MannwhitneyuResult(statistic=15492.0, pvalue=0.005236419587596797)"
      ]
     },
     "execution_count": 32,
     "metadata": {},
     "output_type": "execute_result"
    }
   ],
   "source": [
    "control = data[data.experimentVariant=='Control'].value\n",
    "treatment = data[data.experimentVariant=='Treatment'].value\n",
    "\n",
    "mannwhitneyu(treatment, control)"
   ]
  },
  {
   "cell_type": "code",
   "execution_count": null,
   "id": "688e4042-023d-4d64-83b2-48a1392cfbda",
   "metadata": {},
   "outputs": [],
   "source": []
  },
  {
   "cell_type": "code",
   "execution_count": null,
   "id": "2ef463a1-8366-4da8-ad50-99cbb5d4884c",
   "metadata": {},
   "outputs": [],
   "source": []
  },
  {
   "cell_type": "code",
   "execution_count": null,
   "id": "79389857-440e-44bd-9105-82cdaa9c955b",
   "metadata": {},
   "outputs": [],
   "source": []
  }
 ],
 "metadata": {
  "kernelspec": {
   "display_name": "Python 3 (ipykernel)",
   "language": "python",
   "name": "python3"
  },
  "language_info": {
   "codemirror_mode": {
    "name": "ipython",
    "version": 3
   },
   "file_extension": ".py",
   "mimetype": "text/x-python",
   "name": "python",
   "nbconvert_exporter": "python",
   "pygments_lexer": "ipython3",
   "version": "3.9.6"
  }
 },
 "nbformat": 4,
 "nbformat_minor": 5
}
