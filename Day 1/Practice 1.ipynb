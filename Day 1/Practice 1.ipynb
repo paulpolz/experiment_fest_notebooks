{
 "cells": [
  {
   "cell_type": "code",
   "execution_count": 1,
   "id": "219dd71d-28c6-46bd-9cf0-4305bc09099c",
   "metadata": {},
   "outputs": [],
   "source": [
    "import numpy as np\n",
    "import pandas as pd\n",
    "\n",
    "import seaborn as sns\n",
    "import matplotlib.pyplot as plt "
   ]
  },
  {
   "cell_type": "markdown",
   "id": "81d697b0-becf-42a4-b50d-603c9e0f5fe8",
   "metadata": {},
   "source": [
    "#### Загрузим данные"
   ]
  },
  {
   "cell_type": "markdown",
   "id": "bd6d6634-d59b-4681-aaf3-7dd809361b54",
   "metadata": {},
   "source": [
    "- `program_name` – программа с уклоном в предметы (math&phys – математика и физика, russ&lit – русский и литература)\n",
    "- `performance` – успеваемость пользователя (от 0 до 1, где 1 = 100%)\n",
    "- `is_ege` – сдает ли пользователь ЕГЭ в этом году\n",
    "- `age` – возраст"
   ]
  },
  {
   "cell_type": "code",
   "execution_count": 16,
   "id": "867edbee-7e0e-41b6-87f7-7f547b880fff",
   "metadata": {},
   "outputs": [
    {
     "data": {
      "text/html": [
       "<div>\n",
       "<style scoped>\n",
       "    .dataframe tbody tr th:only-of-type {\n",
       "        vertical-align: middle;\n",
       "    }\n",
       "\n",
       "    .dataframe tbody tr th {\n",
       "        vertical-align: top;\n",
       "    }\n",
       "\n",
       "    .dataframe thead th {\n",
       "        text-align: right;\n",
       "    }\n",
       "</style>\n",
       "<table border=\"1\" class=\"dataframe\">\n",
       "  <thead>\n",
       "    <tr style=\"text-align: right;\">\n",
       "      <th></th>\n",
       "      <th>program_name</th>\n",
       "      <th>performance</th>\n",
       "      <th>is_ege</th>\n",
       "      <th>age</th>\n",
       "    </tr>\n",
       "  </thead>\n",
       "  <tbody>\n",
       "    <tr>\n",
       "      <th>1</th>\n",
       "      <td>math&amp;phys</td>\n",
       "      <td>0.606203</td>\n",
       "      <td>no</td>\n",
       "      <td>17</td>\n",
       "    </tr>\n",
       "    <tr>\n",
       "      <th>2</th>\n",
       "      <td>math&amp;phys</td>\n",
       "      <td>0.648850</td>\n",
       "      <td>yes</td>\n",
       "      <td>18</td>\n",
       "    </tr>\n",
       "    <tr>\n",
       "      <th>3</th>\n",
       "      <td>math&amp;phys</td>\n",
       "      <td>0.729141</td>\n",
       "      <td>no</td>\n",
       "      <td>17</td>\n",
       "    </tr>\n",
       "    <tr>\n",
       "      <th>4</th>\n",
       "      <td>math&amp;phys</td>\n",
       "      <td>0.863283</td>\n",
       "      <td>yes</td>\n",
       "      <td>17</td>\n",
       "    </tr>\n",
       "    <tr>\n",
       "      <th>5</th>\n",
       "      <td>math&amp;phys</td>\n",
       "      <td>0.580673</td>\n",
       "      <td>no</td>\n",
       "      <td>17</td>\n",
       "    </tr>\n",
       "  </tbody>\n",
       "</table>\n",
       "</div>"
      ],
      "text/plain": [
       "  program_name  performance is_ege  age\n",
       "1    math&phys     0.606203     no   17\n",
       "2    math&phys     0.648850    yes   18\n",
       "3    math&phys     0.729141     no   17\n",
       "4    math&phys     0.863283    yes   17\n",
       "5    math&phys     0.580673     no   17"
      ]
     },
     "execution_count": 16,
     "metadata": {},
     "output_type": "execute_result"
    }
   ],
   "source": [
    "data = pd.read_csv('hw1.csv', sep=';', index_col=0)\n",
    "data.head()"
   ]
  },
  {
   "cell_type": "markdown",
   "id": "b28012a3-9f5b-4235-8eec-cf461757e99c",
   "metadata": {},
   "source": [
    "### Задание 1\n",
    "входят ли `program_name` в один доверительный интервал по успеваемости (пересекаются ли доверительные интервалы между группами)"
   ]
  },
  {
   "cell_type": "code",
   "execution_count": 59,
   "id": "97c01701-98e8-49dd-adf0-d0ecde081670",
   "metadata": {},
   "outputs": [
    {
     "data": {
      "image/png": "[encoded data removed]",
      "text/plain": [
       "<Figure size 453.625x360 with 1 Axes>"
      ]
     },
     "metadata": {
      "needs_background": "light"
     },
     "output_type": "display_data"
    }
   ],
   "source": [
    "# На графике распределения переменной видно пересечение двух групп\n",
    "sns.displot(data=data, x='performance', hue='program_name');"
   ]
  },
  {
   "cell_type": "code",
   "execution_count": 63,
   "id": "4b74bedc-c406-457c-9dce-8f338cc20537",
   "metadata": {},
   "outputs": [
    {
     "data": {
      "image/png": "[encoded data removed]",
      "text/plain": [
       "<Figure size 432x288 with 1 Axes>"
      ]
     },
     "metadata": {
      "needs_background": "light"
     },
     "output_type": "display_data"
    }
   ],
   "source": [
    "# Также пересечений видно на боксплотах\n",
    "sns.boxplot(data=data, x='program_name', y='performance');"
   ]
  },
  {
   "cell_type": "code",
   "execution_count": 44,
   "id": "3b00c7bd-fac3-4549-b73a-7dc3e2d491fa",
   "metadata": {},
   "outputs": [
    {
     "data": {
      "text/html": [
       "<div>\n",
       "<style scoped>\n",
       "    .dataframe tbody tr th:only-of-type {\n",
       "        vertical-align: middle;\n",
       "    }\n",
       "\n",
       "    .dataframe tbody tr th {\n",
       "        vertical-align: top;\n",
       "    }\n",
       "\n",
       "    .dataframe thead th {\n",
       "        text-align: right;\n",
       "    }\n",
       "</style>\n",
       "<table border=\"1\" class=\"dataframe\">\n",
       "  <thead>\n",
       "    <tr style=\"text-align: right;\">\n",
       "      <th></th>\n",
       "      <th>program_name</th>\n",
       "      <th>_n</th>\n",
       "      <th>_mu</th>\n",
       "      <th>_var</th>\n",
       "      <th>_std</th>\n",
       "    </tr>\n",
       "  </thead>\n",
       "  <tbody>\n",
       "    <tr>\n",
       "      <th>0</th>\n",
       "      <td>math&amp;phys</td>\n",
       "      <td>10</td>\n",
       "      <td>0.720606</td>\n",
       "      <td>0.015942</td>\n",
       "      <td>0.126262</td>\n",
       "    </tr>\n",
       "    <tr>\n",
       "      <th>1</th>\n",
       "      <td>russ&amp;lit</td>\n",
       "      <td>25</td>\n",
       "      <td>0.797763</td>\n",
       "      <td>0.012154</td>\n",
       "      <td>0.110245</td>\n",
       "    </tr>\n",
       "  </tbody>\n",
       "</table>\n",
       "</div>"
      ],
      "text/plain": [
       "  program_name  _n       _mu      _var      _std\n",
       "0    math&phys  10  0.720606  0.015942  0.126262\n",
       "1     russ&lit  25  0.797763  0.012154  0.110245"
      ]
     },
     "execution_count": 44,
     "metadata": {},
     "output_type": "execute_result"
    }
   ],
   "source": [
    "# Рассчитаем средние и метрики разброса для обеих групп\n",
    "data_gb_pn = data.groupby('program_name', as_index=False)['performance']\\\n",
    "            .agg({'_n': 'count',\n",
    "                  '_mu': 'mean',\n",
    "                  '_var': 'var',\n",
    "                  '_std': 'std'\n",
    "                 })\n",
    "data_gb_pn"
   ]
  },
  {
   "cell_type": "code",
   "execution_count": 51,
   "id": "9adc83c4-a0cb-44ca-9a32-4c92b2f2794d",
   "metadata": {},
   "outputs": [
    {
     "data": {
      "text/html": [
       "<div>\n",
       "<style scoped>\n",
       "    .dataframe tbody tr th:only-of-type {\n",
       "        vertical-align: middle;\n",
       "    }\n",
       "\n",
       "    .dataframe tbody tr th {\n",
       "        vertical-align: top;\n",
       "    }\n",
       "\n",
       "    .dataframe thead th {\n",
       "        text-align: right;\n",
       "    }\n",
       "</style>\n",
       "<table border=\"1\" class=\"dataframe\">\n",
       "  <thead>\n",
       "    <tr style=\"text-align: right;\">\n",
       "      <th></th>\n",
       "      <th>program_name</th>\n",
       "      <th>_n</th>\n",
       "      <th>_mu</th>\n",
       "      <th>_var</th>\n",
       "      <th>_std</th>\n",
       "      <th>_se</th>\n",
       "      <th>CI left</th>\n",
       "      <th>CI right</th>\n",
       "    </tr>\n",
       "  </thead>\n",
       "  <tbody>\n",
       "    <tr>\n",
       "      <th>0</th>\n",
       "      <td>math&amp;phys</td>\n",
       "      <td>10</td>\n",
       "      <td>0.720606</td>\n",
       "      <td>0.015942</td>\n",
       "      <td>0.126262</td>\n",
       "      <td>0.039928</td>\n",
       "      <td>0.640750</td>\n",
       "      <td>0.800461</td>\n",
       "    </tr>\n",
       "    <tr>\n",
       "      <th>1</th>\n",
       "      <td>russ&amp;lit</td>\n",
       "      <td>25</td>\n",
       "      <td>0.797763</td>\n",
       "      <td>0.012154</td>\n",
       "      <td>0.110245</td>\n",
       "      <td>0.022049</td>\n",
       "      <td>0.753665</td>\n",
       "      <td>0.841861</td>\n",
       "    </tr>\n",
       "  </tbody>\n",
       "</table>\n",
       "</div>"
      ],
      "text/plain": [
       "  program_name  _n       _mu      _var      _std       _se   CI left  CI right\n",
       "0    math&phys  10  0.720606  0.015942  0.126262  0.039928  0.640750  0.800461\n",
       "1     russ&lit  25  0.797763  0.012154  0.110245  0.022049  0.753665  0.841861"
      ]
     },
     "execution_count": 51,
     "metadata": {},
     "output_type": "execute_result"
    }
   ],
   "source": [
    "# Рассчитаем стандартную ошибку среднего SE для каждой группы\n",
    "data_gb_pn['_se'] = data_gb_pn._std / np.sqrt(data_gb_pn._n)\n",
    "\n",
    "# Рассчитаем 95% доверительный интервал для каждой группы\n",
    "data_gb_pn['CI left'] = data_gb_pn._mu - data_gb_pn._se * 2\n",
    "data_gb_pn['CI right'] = data_gb_pn._mu + data_gb_pn._se * 2\n",
    "\n",
    "data_gb_pn"
   ]
  },
  {
   "cell_type": "markdown",
   "id": "ee28b5e8-5ce7-44ee-b56a-f6a8ef7c89b4",
   "metadata": {},
   "source": [
    "### Вывод\n",
    "- Среднее значение успеваемости по программе русский и литература выше, чем по программе математика и физика\n",
    "- Но доверительные интервалы двух групп пересекаются\n",
    "- Исходя из этого нельзя сделать вывод, что успеваемость в двух группах значимо отличается"
   ]
  },
  {
   "cell_type": "markdown",
   "id": "5fbfca69-89ca-4e47-bb33-3f60cebd7235",
   "metadata": {},
   "source": [
    "### Задание 2\n",
    "у какой группы `is_ege` разброс по средней успеваемости больше"
   ]
  },
  {
   "cell_type": "code",
   "execution_count": 65,
   "id": "e5729066-770e-4844-ad4c-083baebc013d",
   "metadata": {},
   "outputs": [
    {
     "data": {
      "image/png": "[encoded data removed]",
      "text/plain": [
       "<Figure size 413.25x360 with 1 Axes>"
      ]
     },
     "metadata": {
      "needs_background": "light"
     },
     "output_type": "display_data"
    }
   ],
   "source": [
    "# На графике распределения переменной видно пересечение двух групп\n",
    "sns.displot(data=data, x='performance', hue='is_ege');"
   ]
  },
  {
   "cell_type": "code",
   "execution_count": 64,
   "id": "5d752c01-2760-4b20-9ec7-65018d5d9629",
   "metadata": {},
   "outputs": [
    {
     "data": {
      "text/html": [
       "<div>\n",
       "<style scoped>\n",
       "    .dataframe tbody tr th:only-of-type {\n",
       "        vertical-align: middle;\n",
       "    }\n",
       "\n",
       "    .dataframe tbody tr th {\n",
       "        vertical-align: top;\n",
       "    }\n",
       "\n",
       "    .dataframe thead th {\n",
       "        text-align: right;\n",
       "    }\n",
       "</style>\n",
       "<table border=\"1\" class=\"dataframe\">\n",
       "  <thead>\n",
       "    <tr style=\"text-align: right;\">\n",
       "      <th></th>\n",
       "      <th>is_ege</th>\n",
       "      <th>_n</th>\n",
       "      <th>_mu</th>\n",
       "      <th>_var</th>\n",
       "      <th>_std</th>\n",
       "    </tr>\n",
       "  </thead>\n",
       "  <tbody>\n",
       "    <tr>\n",
       "      <th>0</th>\n",
       "      <td>no</td>\n",
       "      <td>25</td>\n",
       "      <td>0.768338</td>\n",
       "      <td>0.016618</td>\n",
       "      <td>0.128912</td>\n",
       "    </tr>\n",
       "    <tr>\n",
       "      <th>1</th>\n",
       "      <td>yes</td>\n",
       "      <td>10</td>\n",
       "      <td>0.794170</td>\n",
       "      <td>0.008233</td>\n",
       "      <td>0.090735</td>\n",
       "    </tr>\n",
       "  </tbody>\n",
       "</table>\n",
       "</div>"
      ],
      "text/plain": [
       "  is_ege  _n       _mu      _var      _std\n",
       "0     no  25  0.768338  0.016618  0.128912\n",
       "1    yes  10  0.794170  0.008233  0.090735"
      ]
     },
     "execution_count": 64,
     "metadata": {},
     "output_type": "execute_result"
    }
   ],
   "source": [
    "# Рассчитаем средние и метрики разброса для обеих групп\n",
    "data_gb_ege = data.groupby('is_ege', as_index=False)['performance']\\\n",
    "            .agg({'_n': 'count',\n",
    "                  '_mu': 'mean',\n",
    "                  '_var': 'var',\n",
    "                  '_std': 'std'\n",
    "                 })\n",
    "data_gb_ege"
   ]
  },
  {
   "cell_type": "code",
   "execution_count": 69,
   "id": "84e07076-e513-4572-b8fa-eadbafb5793f",
   "metadata": {},
   "outputs": [
    {
     "data": {
      "text/html": [
       "<div>\n",
       "<style scoped>\n",
       "    .dataframe tbody tr th:only-of-type {\n",
       "        vertical-align: middle;\n",
       "    }\n",
       "\n",
       "    .dataframe tbody tr th {\n",
       "        vertical-align: top;\n",
       "    }\n",
       "\n",
       "    .dataframe thead th {\n",
       "        text-align: right;\n",
       "    }\n",
       "</style>\n",
       "<table border=\"1\" class=\"dataframe\">\n",
       "  <thead>\n",
       "    <tr style=\"text-align: right;\">\n",
       "      <th></th>\n",
       "      <th>is_ege</th>\n",
       "      <th>_n</th>\n",
       "      <th>_mu</th>\n",
       "      <th>_var</th>\n",
       "      <th>_std</th>\n",
       "      <th>_var_coeff</th>\n",
       "    </tr>\n",
       "  </thead>\n",
       "  <tbody>\n",
       "    <tr>\n",
       "      <th>0</th>\n",
       "      <td>no</td>\n",
       "      <td>25</td>\n",
       "      <td>0.768338</td>\n",
       "      <td>0.016618</td>\n",
       "      <td>0.128912</td>\n",
       "      <td>16.777995</td>\n",
       "    </tr>\n",
       "    <tr>\n",
       "      <th>1</th>\n",
       "      <td>yes</td>\n",
       "      <td>10</td>\n",
       "      <td>0.794170</td>\n",
       "      <td>0.008233</td>\n",
       "      <td>0.090735</td>\n",
       "      <td>11.425146</td>\n",
       "    </tr>\n",
       "  </tbody>\n",
       "</table>\n",
       "</div>"
      ],
      "text/plain": [
       "  is_ege  _n       _mu      _var      _std  _var_coeff\n",
       "0     no  25  0.768338  0.016618  0.128912   16.777995\n",
       "1    yes  10  0.794170  0.008233  0.090735   11.425146"
      ]
     },
     "execution_count": 69,
     "metadata": {},
     "output_type": "execute_result"
    }
   ],
   "source": [
    "# Помимо дисперсиии и стандартного отклонения рассчитаем коэффициент вариации\n",
    "data_gb_ege['_var_coeff'] = (data_gb_ege._std / data_gb_ege._mu) * 100\n",
    "data_gb_ege"
   ]
  },
  {
   "cell_type": "markdown",
   "id": "c9d465f4-08be-43e8-8da9-8c586b0d3cd3",
   "metadata": {},
   "source": [
    "### Вывод\n",
    "- Группа сдающих ЕГЭ в этом году по всем показателям имеет менее сильный разброс\n",
    "- При этом у группы сдающих ЕГЭ выше средняя успеваемость\n",
    "- Из этого можно сделать вывод, что учащиеся, которым сдавать в этом году ЕГЭ, более серьзено относятся к процессу обучение и поэтому имеют более высокие результаты"
   ]
  },
  {
   "cell_type": "code",
   "execution_count": null,
   "id": "939026ee-403d-478d-a9b3-f3d575c9b9fc",
   "metadata": {},
   "outputs": [],
   "source": []
  },
  {
   "cell_type": "code",
   "execution_count": null,
   "id": "1882f386-7157-4000-95f2-ab4d244a8083",
   "metadata": {},
   "outputs": [],
   "source": []
  }
 ],
 "metadata": {
  "kernelspec": {
   "display_name": "Python 3 (ipykernel)",
   "language": "python",
   "name": "python3"
  },
  "language_info": {
   "codemirror_mode": {
    "name": "ipython",
    "version": 3
   },
   "file_extension": ".py",
   "mimetype": "text/x-python",
   "name": "python",
   "nbconvert_exporter": "python",
   "pygments_lexer": "ipython3",
   "version": "3.9.6"
  }
 },
 "nbformat": 4,
 "nbformat_minor": 5
}
